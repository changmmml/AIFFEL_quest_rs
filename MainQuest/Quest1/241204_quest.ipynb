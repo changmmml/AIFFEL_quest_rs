{
 "cells": [
  {
   "cell_type": "markdown",
   "id": "67d8de22",
   "metadata": {},
   "source": [
    "# [Quest] MainQuest 1"
   ]
  },
  {
   "attachments": {},
   "cell_type": "markdown",
   "id": "b8b86395",
   "metadata": {},
   "source": [
    "## 1. Transformer와 비교해 변경이 필요한 부분을 서술하였다.\n",
    "- 제출 노트북 파일 첫부분에 텍스트 블럭으로 서술합니다. 아키텍쳐 상 변경사항을 블럭단위로 서술합니다.\n",
    "- 코드블럭에 변경사항을 주석으로 표시합니다."
   ]
  },
  {
   "cell_type": "markdown",
   "id": "4beadab7",
   "metadata": {},
   "source": [
    "### 비교 및 아키텍쳐 상 변경사항\n",
    "1. GPT-1은 encoder를 사용하지 않는다. (Decoder-only)\n",
    "2. GPT-1의 decoder는 'Masked Multi Self Attention' - LN - 'Feed Forward' - LN - 출력 으로 이루어져있다.\\\n",
    "즉, 인코더와 디코더의 입력을 처리하는 encoder-decoder 레이어가 없다.\n",
    "3. GPT-1은 주어진 단어들을 순차적으로 처리하는 AR 모델이므로, 이전 단어들만을 고려해서 다음 단어를 예측한다.\\\n",
    "= create_padding_mask()"
   ]
  },
  {
   "cell_type": "markdown",
   "id": "0797de1f",
   "metadata": {},
   "source": [
    "**GPT-1 decoder 함수 구현**"
   ]
  },
  {
   "cell_type": "code",
   "execution_count": 1,
   "id": "8475b1ac",
   "metadata": {},
   "outputs": [],
   "source": [
    "import tensorflow as tf"
   ]
  },
  {
   "cell_type": "code",
   "execution_count": 2,
   "id": "ecabe00c",
   "metadata": {},
   "outputs": [],
   "source": [
    "# 스케일드 닷 프로덕트 어텐션 함수 (변경사항 X)\n",
    "def scaled_dot_product_attention(query, key, value, mask):\n",
    "  # 어텐션 가중치는 Q와 K의 닷 프로덕트\n",
    "  matmul_qk = tf.matmul(query, key, transpose_b=True)\n",
    "\n",
    "  # 가중치를 정규화\n",
    "  depth = tf.cast(tf.shape(key)[-1], tf.float32)\n",
    "  logits = matmul_qk / tf.math.sqrt(depth)\n",
    "\n",
    "  # 패딩에 마스크 추가\n",
    "  if mask is not None:\n",
    "    logits += (mask * -1e9)\n",
    "\n",
    "  # softmax적용\n",
    "  attention_weights = tf.nn.softmax(logits, axis=-1)\n",
    "\n",
    "  # 최종 어텐션은 가중치와 V의 닷 프로덕트\n",
    "  output = tf.matmul(attention_weights, value)\n",
    "  return output"
   ]
  },
  {
   "cell_type": "code",
   "execution_count": 3,
   "id": "40f49842",
   "metadata": {},
   "outputs": [],
   "source": [
    "# 멀티 헤드 어텐션 함수 (변경사항 X)\n",
    "class MultiHeadAttention(tf.keras.layers.Layer):\n",
    "\n",
    "  def __init__(self, d_model, num_heads, name=\"multi_head_attention\"):\n",
    "    super(MultiHeadAttention, self).__init__(name=name)\n",
    "    self.num_heads = num_heads\n",
    "    self.d_model = d_model\n",
    "\n",
    "    assert d_model % self.num_heads == 0\n",
    "\n",
    "    self.depth = d_model // self.num_heads\n",
    "\n",
    "    self.query_dense = tf.keras.layers.Dense(units=d_model)\n",
    "    self.key_dense = tf.keras.layers.Dense(units=d_model)\n",
    "    self.value_dense = tf.keras.layers.Dense(units=d_model)\n",
    "\n",
    "    self.dense = tf.keras.layers.Dense(units=d_model)\n",
    "\n",
    "  def split_heads(self, inputs, batch_size):\n",
    "    inputs = tf.reshape(\n",
    "        inputs, shape=(batch_size, -1, self.num_heads, self.depth))\n",
    "    return tf.transpose(inputs, perm=[0, 2, 1, 3])\n",
    "\n",
    "  def call(self, inputs):\n",
    "    query, key, value, mask = inputs['query'], inputs['key'], inputs[\n",
    "        'value'], inputs['mask']\n",
    "    batch_size = tf.shape(query)[0]\n",
    "\n",
    "    # Q, K, V에 각각 Dense를 적용합니다\n",
    "    query = self.query_dense(query)\n",
    "    key = self.key_dense(key)\n",
    "    value = self.value_dense(value)\n",
    "\n",
    "    # 병렬 연산을 위한 머리를 여러 개 만듭니다\n",
    "    query = self.split_heads(query, batch_size)\n",
    "    key = self.split_heads(key, batch_size)\n",
    "    value = self.split_heads(value, batch_size)\n",
    "\n",
    "    # 스케일드 닷 프로덕트 어텐션 함수\n",
    "    scaled_attention = scaled_dot_product_attention(query, key, value, mask)\n",
    "\n",
    "    scaled_attention = tf.transpose(scaled_attention, perm=[0, 2, 1, 3])\n",
    "\n",
    "    # 어텐션 연산 후에 각 결과를 다시 연결(concatenate)합니다\n",
    "    concat_attention = tf.reshape(scaled_attention,\n",
    "                                  (batch_size, -1, self.d_model))\n",
    "\n",
    "    # 최종 결과에도 Dense를 한 번 더 적용합니다\n",
    "    outputs = self.dense(concat_attention)\n",
    "\n",
    "    return outputs"
   ]
  },
  {
   "cell_type": "code",
   "execution_count": 4,
   "id": "92ea5101",
   "metadata": {},
   "outputs": [],
   "source": [
    "# 패딩 마스킹 (변경사항 X)\n",
    "def create_padding_mask(x):\n",
    "    \"\"\"\n",
    "    주어진 시퀀스에 대해 패딩 마스크를 생성하는 함수\n",
    "    - 패딩된 부분은 1로, 유효한 부분은 0으로 마스크\n",
    "    \"\"\"\n",
    "    padding_mask = tf.cast(tf.math.equal(x, 0), tf.float32)\n",
    "    # (batch_size, 1, 1, sequence length)\n",
    "    return padding_mask[:, tf.newaxis, tf.newaxis, :]"
   ]
  },
  {
   "cell_type": "code",
   "execution_count": 5,
   "id": "bc6bcdd6",
   "metadata": {},
   "outputs": [],
   "source": [
    "# 룩 어헤드 마스킹 (변경사항 X) - AR모델 기반일 때 causal mask로 사용\n",
    "def create_look_ahead_mask(x):\n",
    "    \"\"\"\n",
    "    룩 어헤드 마스크와 패딩 마스크를 결합하는 함수.\n",
    "    - 현재 단어 이후의 단어들을 마스크하고,\n",
    "    - 패딩된 부분을 무시하는 마스크를 결합합니다.\n",
    "    \n",
    "    :param x: 입력 시퀀스\n",
    "    :return: 결합된 마스크 (Causal + Padding Mask)\n",
    "    \"\"\"\n",
    "    seq_len = tf.shape(x)[1]\n",
    "    look_ahead_mask = 1 - tf.linalg.band_part(tf.ones((seq_len, seq_len)), -1, 0)\n",
    "    padding_mask = create_padding_mask(x)\n",
    "    return tf.maximum(look_ahead_mask, padding_mask)"
   ]
  },
  {
   "cell_type": "markdown",
   "id": "d7fdfa9c",
   "metadata": {},
   "source": [
    "- GPT-1은 encoder를 사용하지 않는다. = Decoder-only (변경사항 O)\n",
    "- 파라미터 enc_outputs 삭제 (입력 시퀀스를 인코딩할 때 사용하는데, GPT-1는 decoder만 사용)\n",
    "- 파라미터 padding_mask 삭제 (주로 Encoder-Decoder 구조에서 필요)\\\n",
    "    GPT-1는 AR모델 기반이므로 Causal mask 사용해서 padding 처리 (2.에서 구현)"
   ]
  },
  {
   "cell_type": "markdown",
   "id": "f0a83184",
   "metadata": {},
   "source": [
    "- GPT-1의 decoder는 'Masked Multi Self Attention' - LN - 'Feed Forward' - LN - 출력 으로 이루어져있다.\\\n",
    "즉, 인코더와 디코더의 입력을 처리하는 encoder-decoder attention 레이어가 없다."
   ]
  },
  {
   "cell_type": "code",
   "execution_count": 6,
   "id": "67dba2b5",
   "metadata": {},
   "outputs": [],
   "source": [
    "# 디코더 하나의 레이어 함수 (변경사항 O)\n",
    "# 이 하나의 레이어 안에는 두 개의 서브 레이어가 존재합니다. (Transformer에서 인코더-디코더 어텐션 삭제)\n",
    "def decoder_layer(units, d_model, num_heads, dropout, name=\"decoder_layer\"):\n",
    "  inputs = tf.keras.Input(shape=(None, d_model), name=\"inputs\") # 현재 입력 (이전 단어들의 임베딩)\n",
    "  #enc_outputs = tf.keras.Input(shape=(None, d_model), name='encoder_outputs')  # 인코더 출력 (GPT-1은 사용 안 함)\n",
    "  look_ahead_mask = tf.keras.Input(shape=(1, None, None), name=\"look_ahead_mask\") # 마스크\n",
    "  #padding_mask = tf.keras.Input(shape=(1, 1, None), name='padding_mask') # 패딩 마스크 (GPT-1은 사용 안 함)\n",
    "\n",
    "  # 첫 번째 서브 레이어 : 멀티 헤드 어텐션 수행 (셀프 어텐션)\n",
    "  attention1 = MultiHeadAttention(\n",
    "      d_model, num_heads, name=\"attention_1\")(inputs={\n",
    "          'query': inputs,\n",
    "          'key': inputs,\n",
    "          'value': inputs,\n",
    "          'mask': look_ahead_mask\n",
    "      })\n",
    "\n",
    "  # 드롭 아웃\n",
    "  attention1 = tf.keras.layers.Dropout(rate=dropout)(attention1)\n",
    "  # 잔차 연결 + 멀티 헤드 어텐션의 결과는 LayerNormalization이라는 훈련을 돕는 테크닉을 수행\n",
    "  attention1 = tf.keras.layers.LayerNormalization(\n",
    "      epsilon=1e-6)(attention1 + inputs)\n",
    "\n",
    "    \n",
    "  '''   \n",
    "  # Transformer에서 존재했던 레이어 삭제 (변경사항)\n",
    "  # Transformer의 두 번째 서브 레이어 : 마스크드 멀티 헤드 어텐션 수행 (인코더-디코더 어텐션)\n",
    "  attention2 = MultiHeadAttention(\n",
    "      d_model, num_heads, name=\"attention_2\")(inputs={\n",
    "          'query': attention1,\n",
    "          'key': enc_outputs,\n",
    "          'value': enc_outputs,\n",
    "          'mask': padding_mask\n",
    "      })\n",
    "\n",
    "  # 마스크드 멀티 헤드 어텐션의 결과는\n",
    "  # Dropout과 LayerNormalization이라는 훈련을 돕는 테크닉을 수행\n",
    "  attention2 = tf.keras.layers.Dropout(rate=dropout)(attention2)\n",
    "  attention2 = tf.keras.layers.LayerNormalization(\n",
    "      epsilon=1e-6)(attention2 + attention1)\n",
    "  '''\n",
    "\n",
    "\n",
    "  # 두 번째 서브 레이어 : 2개의 완전연결층\n",
    "  outputs = tf.keras.layers.Dense(units=units, activation='relu')(attention1)\n",
    "  outputs = tf.keras.layers.Dense(units=d_model)(outputs)\n",
    "\n",
    "  # 완전연결층의 결과는 Dropout과 잔차 연결 + LayerNormalization 수행\n",
    "  outputs = tf.keras.layers.Dropout(rate=dropout)(outputs)\n",
    "  outputs = tf.keras.layers.LayerNormalization(\n",
    "      epsilon=1e-6)(outputs + attention1)\n",
    "\n",
    "  return tf.keras.Model(\n",
    "      #inputs=[inputs, enc_outputs, look_ahead_mask, padding_mask], # enc_outputs, padding_mask 삭제\n",
    "      inputs=[inputs, look_ahead_mask],\n",
    "      outputs=outputs,\n",
    "      name=name)"
   ]
  },
  {
   "cell_type": "code",
   "execution_count": 7,
   "id": "b33885f1",
   "metadata": {},
   "outputs": [],
   "source": [
    "# 디코더 (변경사항 O)\n",
    "def decoder(vocab_size,\n",
    "            num_layers,\n",
    "            units,\n",
    "            d_model,\n",
    "            num_heads,\n",
    "            dropout,\n",
    "            name='decoder'):\n",
    "  inputs = tf.keras.Input(shape=(None,), name='inputs') # 현재 단어의 인덱스\n",
    "  #enc_outputs = tf.keras.Input(shape=(None, d_model), name='encoder_outputs') # 인코더 출력 (GPT-1은 사용 안 함) \n",
    "  look_ahead_mask = tf.keras.Input(\n",
    "      shape=(1, None, None), name='look_ahead_mask') # 마스크\n",
    "\n",
    "\n",
    "  # 패딩 마스크 (GPT-1은 사용 안 함)\n",
    "  #padding_mask = tf.keras.Input(shape=(1, 1, None), name='padding_mask')\n",
    "\n",
    "  # 임베딩 레이어\n",
    "  embeddings = tf.keras.layers.Embedding(vocab_size, d_model)(inputs)\n",
    "  embeddings *= tf.math.sqrt(tf.cast(d_model, tf.float32))\n",
    "\n",
    "  # 포지셔널 인코딩\n",
    "  embeddings = PositionalEncoding(vocab_size, d_model)(embeddings)\n",
    "\n",
    "  # Dropout\n",
    "  outputs = tf.keras.layers.Dropout(rate=dropout)(embeddings)\n",
    "\n",
    "  # Decoder Layer 반복\n",
    "  for i in range(num_layers):\n",
    "    outputs = decoder_layer(\n",
    "        units=units,\n",
    "        d_model=d_model,\n",
    "        num_heads=num_heads,\n",
    "        dropout=dropout,\n",
    "        name='decoder_layer_{}'.format(i),\n",
    "    #)(inputs=[outputs, enc_outputs, look_ahead_mask, padding_mask]) # enc_outputs, padding_mask 삭제\n",
    "    )(inputs=[outputs, look_ahead_mask])\n",
    "\n",
    "  return tf.keras.Model(\n",
    "      #inputs=[inputs, enc_outputs, look_ahead_mask, padding_mask], # enc_outputs, padding_mask 삭제\n",
    "      inputs=[outputs, look_ahead_mask],\n",
    "      outputs=outputs,\n",
    "      name=name)"
   ]
  },
  {
   "cell_type": "markdown",
   "id": "221ee599",
   "metadata": {},
   "source": [
    "## 2. 모델의 입력 형태에 맞게 전처리를 수행하였다.\n",
    "- Decoder 기반의 생성모델임을 감안하여 챗봇 데이터를 변형합니다.\n",
    "- 이번 과제는 pretrain을 위한 데이터셋과 학습만 고려합니다."
   ]
  },
  {
   "cell_type": "markdown",
   "id": "abdac742",
   "metadata": {},
   "source": [
    "### 텍스트 데이터 전처리 과정\n",
    "1. 디코더 모델의 입력 데이터로 적합한 형태로 변경\n",
    "2. 텍스트 시퀀스 토큰화\n",
    "3. Causal Mask (AR 마스크)"
   ]
  },
  {
   "cell_type": "markdown",
   "id": "62d301b7",
   "metadata": {},
   "source": [
    "**데이터 로드 및 공백, 특수문자 처리**"
   ]
  },
  {
   "cell_type": "code",
   "execution_count": 8,
   "id": "47d4d768",
   "metadata": {},
   "outputs": [],
   "source": [
    "import re\n",
    "import csv\n",
    "import tensorflow_datasets as tfds"
   ]
  },
  {
   "cell_type": "code",
   "execution_count": 9,
   "id": "99e6a955",
   "metadata": {},
   "outputs": [],
   "source": [
    "# 질문과 답변을 전처리하는 함수\n",
    "def preprocess_sentence(text):\n",
    "    \"\"\"\n",
    "    입력된 텍스트에서 공백과 특수문자를 제거하는 함수\n",
    "    - 불필요한 공백 제거\n",
    "    - 특수문자 및 숫자 제거\n",
    "    \"\"\"\n",
    "    # 단어와 구두점(punctuation) 사이 공백\n",
    "    text = re.sub(r\"([?.!,])\", r\" \\1 \", text)\n",
    "    text = re.sub(r'[\" \"]+', \" \", text)\n",
    "    # 특수문자 및 숫자 제거\n",
    "    text = re.sub(r'[^가-힣\\s]', '', text)  # 한글, 공백만 남기고 제거\n",
    "    # 불필요한 공백 제거\n",
    "    text = re.sub(r'\\s+', ' ', text).strip()  # 여러 공백을 하나로 치환 후 양쪽 공백 제거\n",
    "    return text"
   ]
  },
  {
   "cell_type": "code",
   "execution_count": 10,
   "id": "dc429338",
   "metadata": {},
   "outputs": [],
   "source": [
    "# CSV 파일을 로드하고, 질문, 답변, 라벨을 전처리하는 함수\n",
    "def load_conversations(file_path):\n",
    "    inputs, outputs, labels = [], [], []\n",
    "    \n",
    "    # CSV 파일을 읽어서 각 줄을 처리\n",
    "    with open(file_path, mode='r', encoding='utf-8', errors='ignore') as file:\n",
    "        reader = csv.reader(file)\n",
    "        next(reader)  # 헤더가 있을 경우 첫 줄을 건너뛰기\n",
    "        \n",
    "        for row in reader:\n",
    "            if len(row) == 3:  # Q, A, label이 존재하는지 확인\n",
    "                question, answer, label = row\n",
    "                # 질문과 답변 전처리\n",
    "                inputs.append(preprocess_sentence(question))\n",
    "                outputs.append(preprocess_sentence(answer))\n",
    "                labels.append(label)  # 라벨도 저장\n",
    "    \n",
    "    return inputs, outputs, labels"
   ]
  },
  {
   "cell_type": "code",
   "execution_count": 11,
   "id": "35c21b49",
   "metadata": {},
   "outputs": [],
   "source": [
    "file_path = '../aiffel/transformer_chatbot/data/ChatbotData .csv'"
   ]
  },
  {
   "cell_type": "code",
   "execution_count": 12,
   "id": "747e0cac",
   "metadata": {},
   "outputs": [
    {
     "name": "stdout",
     "output_type": "stream",
     "text": [
      "전체 샘플 수 : 11823\n",
      "전체 샘플 수 : 11823\n"
     ]
    }
   ],
   "source": [
    "questions, answers, lables = load_conversations(file_path)\n",
    "print('전체 샘플 수 :', len(questions))\n",
    "print('전체 샘플 수 :', len(answers))"
   ]
  },
  {
   "cell_type": "code",
   "execution_count": 13,
   "id": "4bbb7788",
   "metadata": {},
   "outputs": [
    {
     "name": "stdout",
     "output_type": "stream",
     "text": [
      "전처리 후의 10번째 질문 샘플: 시간낭비인데 자꾸 보게됨\n",
      "전처리 후의 10번째 답변 샘플: 시간을 정하고 해보세요\n"
     ]
    }
   ],
   "source": [
    "print('전처리 후의 10번째 질문 샘플: {}'.format(questions[9]))\n",
    "print('전처리 후의 10번째 답변 샘플: {}'.format(answers[9]))"
   ]
  },
  {
   "cell_type": "markdown",
   "id": "9fce1c25",
   "metadata": {},
   "source": [
    "### 텍스트 시퀀스 토큰화"
   ]
  },
  {
   "cell_type": "code",
   "execution_count": 14,
   "id": "4d84ecba",
   "metadata": {},
   "outputs": [],
   "source": [
    "# 질문과 답변 데이터셋에 대해서 Vocabulary 생성\n",
    "tokenizer = tfds.deprecated.text.SubwordTextEncoder.build_from_corpus(questions + answers, target_vocab_size=2**13)"
   ]
  },
  {
   "cell_type": "code",
   "execution_count": 15,
   "id": "a36f0534",
   "metadata": {},
   "outputs": [
    {
     "name": "stdout",
     "output_type": "stream",
     "text": [
      "START_TOKEN의 번호 : [8144]\n",
      "END_TOKEN의 번호 : [8145]\n"
     ]
    }
   ],
   "source": [
    "# 시작 토큰과 종료 토큰에 고유한 정수를 부여\n",
    "START_TOKEN, END_TOKEN = [tokenizer.vocab_size], [tokenizer.vocab_size + 1]\n",
    "\n",
    "print('START_TOKEN의 번호 :' ,[tokenizer.vocab_size])\n",
    "print('END_TOKEN의 번호 :' ,[tokenizer.vocab_size + 1])"
   ]
  },
  {
   "cell_type": "code",
   "execution_count": 16,
   "id": "dfffba36",
   "metadata": {},
   "outputs": [
    {
     "name": "stdout",
     "output_type": "stream",
     "text": [
      "8146\n"
     ]
    }
   ],
   "source": [
    "VOCAB_SIZE = tokenizer.vocab_size + 2  # 시작/종료 토큰을 고려하여 +2\n",
    "print(VOCAB_SIZE)"
   ]
  },
  {
   "cell_type": "code",
   "execution_count": 17,
   "id": "81cb559e",
   "metadata": {},
   "outputs": [
    {
     "name": "stdout",
     "output_type": "stream",
     "text": [
      "정수 인코딩 후의 10번째 질문 샘플: [772, 7594, 195, 79, 177, 362, 1251]\n",
      "정수 인코딩 후의 10번째 답변 샘플: [343, 3965, 13, 29]\n"
     ]
    }
   ],
   "source": [
    "# 임의의 22번째 샘플에 대해서 정수 인코딩 작업을 수행.\n",
    "# 각 토큰을 고유한 정수로 변환\n",
    "print('정수 인코딩 후의 10번째 질문 샘플: {}'.format(tokenizer.encode(questions[9])))\n",
    "print('정수 인코딩 후의 10번째 답변 샘플: {}'.format(tokenizer.encode(answers[9])))"
   ]
  },
  {
   "cell_type": "code",
   "execution_count": 18,
   "id": "2658a2f8",
   "metadata": {},
   "outputs": [],
   "source": [
    "# 질문과 답변을 Subword 토큰화\n",
    "def tokenize_and_add_tokens(questions, answers):\n",
    "    tokenized_questions = []\n",
    "    tokenized_answers = []\n",
    "    \n",
    "    for question, answer in zip(questions, answers):\n",
    "        # [START]와 [END] 토큰 추가\n",
    "        tokenized_question = [START_TOKEN[0]] + tokenizer.encode(question) + [END_TOKEN[0]]\n",
    "        tokenized_answer = [START_TOKEN[0]] + tokenizer.encode(answer) + [END_TOKEN[0]]\n",
    "        \n",
    "        tokenized_questions.append(tokenized_question)\n",
    "        tokenized_answers.append(tokenized_answer)\n",
    "    \n",
    "    return tokenized_questions, tokenized_answers"
   ]
  },
  {
   "cell_type": "code",
   "execution_count": 19,
   "id": "50cea539",
   "metadata": {},
   "outputs": [],
   "source": [
    "questions, answers = tokenize_and_add_tokens(questions, answers)"
   ]
  },
  {
   "cell_type": "code",
   "execution_count": 20,
   "id": "925023e7",
   "metadata": {},
   "outputs": [
    {
     "name": "stdout",
     "output_type": "stream",
     "text": [
      "10번째 질문 샘플: [8144, 772, 7594, 195, 79, 177, 362, 1251, 8145]\n",
      "10번째 질문 샘플: [8144, 343, 3965, 13, 29, 8145]\n"
     ]
    }
   ],
   "source": [
    "# 앞에 [START], 뒤에 [END] 토큰 결합 확인\n",
    "print('10번째 질문 샘플: {}'.format(questions[9]))\n",
    "print('10번째 질문 샘플: {}'.format(answers[9]))"
   ]
  },
  {
   "cell_type": "markdown",
   "id": "62b33f88",
   "metadata": {},
   "source": [
    "## 3. 모델의 입력 블럭을 GPT 논문에 기반하여 수정하였다.\n",
    "- 모델의 input이 정상적으로 구성되었는지 확인합니다.\n",
    "- 데이터에 위치 정보를 추가하는 과정을 구현합니다."
   ]
  },
  {
   "cell_type": "markdown",
   "id": "7b5fe9d0",
   "metadata": {},
   "source": [
    "### 디코더 모델에 입력 데이터로 적합한 형식으로 변환\n",
    "- GPT-1 모델 입력 데이터 형식으로 변환"
   ]
  },
  {
   "cell_type": "code",
   "execution_count": 21,
   "id": "9d7c548e",
   "metadata": {},
   "outputs": [],
   "source": [
    "# 질문과 답변을 하나의 시퀀스로 결합하여 모델에 적합한 형식으로 변환\n",
    "def prepare_gpt1_input(tokenized_questions, tokenized_answers):\n",
    "    input_sequences = []\n",
    "    target_sequences = []\n",
    "    \n",
    "    for question, answer in zip(tokenized_questions, tokenized_answers):\n",
    "        # 입력: question + [END] + answer\n",
    "        input_sequence = question + answer[1:]  # answer[1:]는 [START] 토큰 제외\n",
    "        target_sequence = answer  # 모델은 answer의 시작 부분부터 예측\n",
    "        \n",
    "        input_sequences.append(input_sequence)\n",
    "        target_sequences.append(target_sequence)\n",
    "    \n",
    "    return input_sequences, target_sequences"
   ]
  },
  {
   "cell_type": "code",
   "execution_count": 22,
   "id": "64e6343b",
   "metadata": {},
   "outputs": [],
   "source": [
    "from tensorflow.keras.preprocessing.sequence import pad_sequences"
   ]
  },
  {
   "cell_type": "code",
   "execution_count": 23,
   "id": "1a698762",
   "metadata": {},
   "outputs": [],
   "source": [
    "# 모델 학습에 사용할 입력 데이터 준비\n",
    "input_sequences, target_sequences = prepare_gpt1_input(questions, answers)"
   ]
  },
  {
   "cell_type": "markdown",
   "id": "2308a2c1",
   "metadata": {},
   "source": [
    "적절한 max_len 분석"
   ]
  },
  {
   "cell_type": "code",
   "execution_count": 24,
   "id": "062cac2c",
   "metadata": {},
   "outputs": [
    {
     "name": "stdout",
     "output_type": "stream",
     "text": [
      "Input sequences의 가장 긴 길이: 38\n",
      "Input sequences의 평균 길이: 12.925230482956948\n",
      "Target sequences의 가장 긴 길이: 29\n",
      "Target sequences의 평균 길이: 6.806140573458513\n"
     ]
    }
   ],
   "source": [
    "# Input sequences의 길이 계산\n",
    "input_lengths = [len(seq) for seq in input_sequences]\n",
    "max_input_len = max(input_lengths)\n",
    "avg_input_len = sum(input_lengths) / len(input_lengths)\n",
    "\n",
    "# Target sequences의 길이 계산\n",
    "target_lengths = [len(seq) for seq in target_sequences]\n",
    "max_target_len = max(target_lengths)\n",
    "avg_target_len = sum(target_lengths) / len(target_lengths)\n",
    "\n",
    "print(\"Input sequences의 가장 긴 길이:\", max_input_len)\n",
    "print(\"Input sequences의 평균 길이:\", avg_input_len)\n",
    "\n",
    "print(\"Target sequences의 가장 긴 길이:\", max_target_len)\n",
    "print(\"Target sequences의 평균 길이:\", avg_target_len)"
   ]
  },
  {
   "cell_type": "code",
   "execution_count": 25,
   "id": "3b054e58",
   "metadata": {},
   "outputs": [
    {
     "data": {
      "image/png": "[encoded data removed]",
      "text/plain": [
       "<Figure size 864x432 with 2 Axes>"
      ]
     },
     "metadata": {
      "needs_background": "light"
     },
     "output_type": "display_data"
    }
   ],
   "source": [
    "import matplotlib.pyplot as plt\n",
    "\n",
    "# 각 시퀀스의 길이를 계산\n",
    "input_lengths = [len(seq) for seq in input_sequences]\n",
    "target_lengths = [len(seq) for seq in target_sequences]\n",
    "\n",
    "# 히스토그램 그리기\n",
    "plt.figure(figsize=(12, 6))\n",
    "\n",
    "# Input sequences 히스토그램\n",
    "plt.subplot(1, 2, 1)  # (행, 열, 위치)\n",
    "plt.hist(input_lengths, bins=range(min(input_lengths), max(input_lengths) + 2), edgecolor='black', alpha=0.7)\n",
    "plt.title('Input Sequences Length Distribution')\n",
    "plt.xlabel('Length')\n",
    "plt.ylabel('Frequency')\n",
    "\n",
    "# Target sequences 히스토그램\n",
    "plt.subplot(1, 2, 2)  # (행, 열, 위치)\n",
    "plt.hist(target_lengths, bins=range(min(target_lengths), max(target_lengths) + 2), edgecolor='black', alpha=0.7)\n",
    "plt.title('Target Sequences Length Distribution')\n",
    "plt.xlabel('Length')\n",
    "plt.ylabel('Frequency')\n",
    "\n",
    "# 전체 히스토그램 표시\n",
    "plt.tight_layout()\n",
    "plt.show()"
   ]
  },
  {
   "cell_type": "markdown",
   "id": "31cd4a3d",
   "metadata": {},
   "source": [
    "input_sequences, target_sequences의 합일 때 적절한 max_len의 값을 40으로 그대로 잡아도 괜찮을 것 같다."
   ]
  },
  {
   "cell_type": "code",
   "execution_count": 26,
   "id": "e67c3ab5",
   "metadata": {},
   "outputs": [],
   "source": [
    "MAX_SEQ_LENGTH = 40  # 시퀀스 최대 길이"
   ]
  },
  {
   "cell_type": "code",
   "execution_count": 27,
   "id": "a435a2f3",
   "metadata": {},
   "outputs": [
    {
     "name": "stdout",
     "output_type": "stream",
     "text": [
      "패딩된 입력 시퀀스 (10번째): [8144  772 7594  195   79  177  362 1251 8145  343 3965   13   29 8145\n",
      "    0    0    0    0    0    0    0    0    0    0    0    0    0    0\n",
      "    0    0    0    0    0    0    0    0    0    0    0    0]\n",
      "패딩된 출력 시퀀스 (10번째): [8144  343 3965   13   29 8145    0    0    0    0    0    0    0    0\n",
      "    0    0    0    0    0    0    0    0    0    0    0    0    0    0\n",
      "    0    0    0    0    0    0    0    0    0    0    0    0]\n"
     ]
    }
   ],
   "source": [
    "# 입력과 출력 시퀀스에 대한 패딩 추가\n",
    "inputs = pad_sequences(input_sequences, maxlen=MAX_SEQ_LENGTH, padding='post', truncating='post')\n",
    "targets = pad_sequences(target_sequences, maxlen=MAX_SEQ_LENGTH, padding='post', truncating='post')\n",
    "\n",
    "# 패딩된 시퀀스 출력\n",
    "print(\"패딩된 입력 시퀀스 (10번째):\", inputs[9])\n",
    "print(\"패딩된 출력 시퀀스 (10번째):\", targets[9])"
   ]
  },
  {
   "cell_type": "markdown",
   "id": "bc0b1194",
   "metadata": {},
   "source": [
    "**변형 완료**\n",
    "\n",
    "입력 시퀀스 : [START] inputs [END] target [END] [PAD] ...\n",
    "\n",
    "출력 시퀀스 : [START] target [END] [PAD] ..."
   ]
  },
  {
   "cell_type": "markdown",
   "id": "e53fc608",
   "metadata": {},
   "source": [
    "### Causal Mask (AR 마스크)\n",
    "- 일전에 정의했던 `create_padding_mask()` 사용"
   ]
  },
  {
   "cell_type": "code",
   "execution_count": 28,
   "id": "5c1632c7",
   "metadata": {},
   "outputs": [],
   "source": [
    "# input에 룩 어헤드 마스크 생성 - causal mask\n",
    "look_ahead_mask = create_look_ahead_mask(inputs)"
   ]
  },
  {
   "cell_type": "code",
   "execution_count": 48,
   "id": "b129a583",
   "metadata": {},
   "outputs": [
    {
     "name": "stdout",
     "output_type": "stream",
     "text": [
      "Look-ahead Mask: (11823, 1, 40, 40)\n"
     ]
    }
   ],
   "source": [
    "print(f\"Look-ahead Mask: {look_ahead_mask.shape}\")  # (seq_len, seq_len)"
   ]
  },
  {
   "cell_type": "markdown",
   "id": "14102a3a",
   "metadata": {},
   "source": [
    "### 포지셔널 인코딩 (위치 정보)"
   ]
  },
  {
   "cell_type": "code",
   "execution_count": 44,
   "id": "6c8dd1a7",
   "metadata": {},
   "outputs": [],
   "source": [
    "# 포지셔널 인코딩 레이어\n",
    "class PositionalEncoding(tf.keras.layers.Layer):\n",
    "\n",
    "  def __init__(self, position, d_model):\n",
    "    super(PositionalEncoding, self).__init__()\n",
    "    self.pos_encoding = self.positional_encoding(position, d_model)\n",
    "\n",
    "  def get_angles(self, position, i, d_model):\n",
    "    angles = 1 / tf.pow(10000, (2 * (i // 2)) / tf.cast(d_model, tf.float32))\n",
    "    return position * angles\n",
    "\n",
    "  def positional_encoding(self, position, d_model):\n",
    "    # 각도 배열 생성\n",
    "    angle_rads = self.get_angles(\n",
    "        position=tf.range(position, dtype=tf.float32)[:, tf.newaxis],\n",
    "        i=tf.range(d_model, dtype=tf.float32)[tf.newaxis, :],\n",
    "        d_model=d_model)\n",
    "\n",
    "    # 배열의 짝수 인덱스에는 sin 함수 적용\n",
    "    sines = tf.math.sin(angle_rads[:, 0::2])\n",
    "    # 배열의 홀수 인덱스에는 cosine 함수 적용\n",
    "    cosines = tf.math.cos(angle_rads[:, 1::2])\n",
    "\n",
    "    # sin과 cosine이 교차되도록 재배열\n",
    "    pos_encoding = tf.stack([sines, cosines], axis=0)\n",
    "    pos_encoding = tf.transpose(pos_encoding,[1, 2, 0]) \n",
    "    pos_encoding = tf.reshape(pos_encoding, [position, d_model])\n",
    "\n",
    "    pos_encoding = pos_encoding[tf.newaxis, ...]\n",
    "    return tf.cast(pos_encoding, tf.float32)\n",
    "\n",
    "  def call(self, inputs):\n",
    "        # inputs가 2D 텐서일 경우, 임베딩을 통해 3D 텐서로 변환\n",
    "        if len(tf.shape(inputs)) == 2:  # (batch_size, seq_len)\n",
    "            seq_len = tf.shape(inputs)[1]\n",
    "            d_model = 512  # d_model은 여러분의 모델에 맞게 설정\n",
    "            embedding_layer = tf.keras.layers.Embedding(input_dim=5000, output_dim=d_model)  # 예시로 5000 단어사전 사용\n",
    "            inputs = embedding_layer(inputs)  # (batch_size, seq_len, d_model)\n",
    "\n",
    "        # inputs의 시퀀스 길이에 맞춰 pos_encoding을 자르고\n",
    "        seq_len = tf.shape(inputs)[1]\n",
    "        pos_encoding = self.pos_encoding[:, :seq_len, :]\n",
    "        \n",
    "        # pos_encoding을 inputs의 batch_size에 맞게 브로드캐스트\n",
    "        batch_size = tf.shape(inputs)[0]  # inputs의 배치 크기\n",
    "        pos_encoding = tf.broadcast_to(pos_encoding, [batch_size, seq_len, tf.shape(inputs)[2]])\n",
    "\n",
    "        # pos_encoding과 inputs을 더하기 전에 dtype을 맞추기 위해 cast 처리\n",
    "        inputs = tf.cast(inputs, tf.float32)\n",
    "\n",
    "        # inputs와 pos_encoding을 더하기\n",
    "        return inputs + pos_encoding  # 여기서 pos_encoding은 이미 inputs에 맞게 브로드캐스트됨"
   ]
  },
  {
   "cell_type": "code",
   "execution_count": 45,
   "id": "3d0ade57",
   "metadata": {},
   "outputs": [],
   "source": [
    "# 모델 파라미터\n",
    "seq_len = 40  # 시퀀스 길이\n",
    "d_model = 512  # 모델의 차원\n",
    "\n",
    "# 포지셔널 인코딩 레이어 생성\n",
    "positional_encoding_layer = PositionalEncoding(seq_len, d_model)\n",
    "\n",
    "# inputs를 float32로 변환\n",
    "inputs = tf.cast(inputs, tf.float32)\n",
    "\n",
    "# 포지셔널 인코딩을 추가\n",
    "inputs = positional_encoding_layer(inputs)"
   ]
  },
  {
   "cell_type": "code",
   "execution_count": 47,
   "id": "ef530bac",
   "metadata": {},
   "outputs": [
    {
     "name": "stdout",
     "output_type": "stream",
     "text": [
      "Positional Encoded Input: (11823, 40, 512)\n"
     ]
    }
   ],
   "source": [
    "print(f\"Positional Encoded Input: {inputs.shape}\")  # (batch_size, seq_len, d_model)"
   ]
  },
  {
   "cell_type": "markdown",
   "id": "cf3df526",
   "metadata": {},
   "source": [
    "## 4. GPT 모델을 정상적으로 구성하였다.(model.summary, model.fit 결과 캡쳐 첨부)\n",
    "- 노드의 transformer 코드를 수정하여 GPT1 모델을 구성합니다."
   ]
  },
  {
   "cell_type": "code",
   "execution_count": null,
   "id": "fd9ca7cf",
   "metadata": {},
   "outputs": [],
   "source": [
    "def transformer(vocab_size,\n",
    "                num_layers,\n",
    "                units,\n",
    "                d_model,\n",
    "                num_heads,\n",
    "                dropout,\n",
    "                name=\"transformer\"):\n",
    "  inputs = tf.keras.Input(shape=(None,), name=\"inputs\")\n",
    "  dec_inputs = tf.keras.Input(shape=(None,), name=\"dec_inputs\")\n",
    "\n",
    "  # 인코더에서 패딩을 위한 마스크\n",
    "  enc_padding_mask = tf.keras.layers.Lambda(\n",
    "      create_padding_mask, output_shape=(1, 1, None),\n",
    "      name='enc_padding_mask')(inputs)\n",
    "\n",
    "  # 디코더에서 미래의 토큰을 마스크 하기 위해서 사용합니다.\n",
    "  # 내부적으로 패딩 마스크도 포함되어져 있습니다.\n",
    "  look_ahead_mask = tf.keras.layers.Lambda(\n",
    "      create_look_ahead_mask,\n",
    "      output_shape=(1, None, None),\n",
    "      name='look_ahead_mask')(dec_inputs)\n",
    "\n",
    "  # 두 번째 어텐션 블록에서 인코더의 벡터들을 마스킹\n",
    "  # 디코더에서 패딩을 위한 마스크\n",
    "  dec_padding_mask = tf.keras.layers.Lambda(\n",
    "      create_padding_mask, output_shape=(1, 1, None),\n",
    "      name='dec_padding_mask')(inputs)\n",
    "\n",
    "  # 인코더\n",
    "  enc_outputs = encoder(\n",
    "      vocab_size=vocab_size,\n",
    "      num_layers=num_layers,\n",
    "      units=units,\n",
    "      d_model=d_model,\n",
    "      num_heads=num_heads,\n",
    "      dropout=dropout,\n",
    "  )(inputs=[inputs, enc_padding_mask])\n",
    "\n",
    "  # 디코더\n",
    "  dec_outputs = decoder(\n",
    "      vocab_size=vocab_size,\n",
    "      num_layers=num_layers,\n",
    "      units=units,\n",
    "      d_model=d_model,\n",
    "      num_heads=num_heads,\n",
    "      dropout=dropout,\n",
    "  )(inputs=[dec_inputs, enc_outputs, look_ahead_mask, dec_padding_mask])\n",
    "\n",
    "  # 완전연결층\n",
    "  outputs = tf.keras.layers.Dense(units=vocab_size, name=\"outputs\")(dec_outputs)\n",
    "\n",
    "  return tf.keras.Model(inputs=[inputs, dec_inputs], outputs=outputs, name=name)"
   ]
  },
  {
   "cell_type": "markdown",
   "id": "c6312186",
   "metadata": {},
   "source": [
    "**모델 생성**"
   ]
  },
  {
   "cell_type": "code",
   "execution_count": null,
   "id": "93efdcb1",
   "metadata": {},
   "outputs": [],
   "source": [
    "tf.keras.backend.clear_session()\n",
    "\n",
    "# 하이퍼파라미터\n",
    "NUM_LAYERS = 2 # 인코더와 디코더의 층의 개수\n",
    "D_MODEL = 256 # 인코더와 디코더 내부의 입, 출력의 고정 차원\n",
    "NUM_HEADS = 8 # 멀티 헤드 어텐션에서의 헤드 수 \n",
    "UNITS = 512 # 피드 포워드 신경망의 은닉층의 크기\n",
    "DROPOUT = 0.1 # 드롭아웃의 비율\n",
    "\n",
    "model = transformer(\n",
    "    vocab_size=VOCAB_SIZE,\n",
    "    num_layers=NUM_LAYERS,\n",
    "    units=UNITS,\n",
    "    d_model=D_MODEL,\n",
    "    num_heads=NUM_HEADS,\n",
    "    dropout=DROPOUT)\n",
    "\n",
    "model.summary()"
   ]
  },
  {
   "cell_type": "markdown",
   "id": "f68fbf86",
   "metadata": {},
   "source": [
    "**손실 함수**"
   ]
  },
  {
   "cell_type": "code",
   "execution_count": null,
   "id": "22f28fb6",
   "metadata": {},
   "outputs": [],
   "source": [
    "def loss_function(y_true, y_pred):\n",
    "  y_true = tf.reshape(y_true, shape=(-1, MAX_LENGTH - 1))\n",
    "  \n",
    "  loss = tf.keras.losses.SparseCategoricalCrossentropy(\n",
    "      from_logits=True, reduction='none')(y_true, y_pred)\n",
    "\n",
    "  mask = tf.cast(tf.not_equal(y_true, 0), tf.float32)\n",
    "  loss = tf.multiply(loss, mask)\n",
    "\n",
    "  return tf.reduce_mean(loss)"
   ]
  },
  {
   "cell_type": "markdown",
   "id": "f0825938",
   "metadata": {},
   "source": [
    "**커스텀 된 학습률**"
   ]
  },
  {
   "cell_type": "code",
   "execution_count": null,
   "id": "52ea4a99",
   "metadata": {},
   "outputs": [],
   "source": [
    "class CustomSchedule(tf.keras.optimizers.schedules.LearningRateSchedule):\n",
    "\n",
    "  def __init__(self, d_model, warmup_steps=4000):\n",
    "    super(CustomSchedule, self).__init__()\n",
    "\n",
    "    self.d_model = d_model\n",
    "    self.d_model = tf.cast(self.d_model, tf.float32)\n",
    "\n",
    "    self.warmup_steps = warmup_steps\n",
    "\n",
    "  def __call__(self, step):\n",
    "    arg1 = tf.math.rsqrt(step)\n",
    "    arg2 = step * (self.warmup_steps**-1.5)\n",
    "\n",
    "    return tf.math.rsqrt(self.d_model) * tf.math.minimum(arg1, arg2)"
   ]
  },
  {
   "cell_type": "code",
   "execution_count": null,
   "id": "c7b1c1d3",
   "metadata": {},
   "outputs": [],
   "source": [
    "import matplotlib.pyplot as plt\n",
    "\n",
    "sample_learning_rate = CustomSchedule(d_model=128)\n",
    "\n",
    "plt.plot(sample_learning_rate(tf.range(200000, dtype=tf.float32)))\n",
    "plt.ylabel(\"Learning Rate\")\n",
    "plt.xlabel(\"Train Step\")"
   ]
  },
  {
   "cell_type": "markdown",
   "id": "a6294821",
   "metadata": {},
   "source": [
    "**모델 컴파일**"
   ]
  },
  {
   "cell_type": "code",
   "execution_count": null,
   "id": "06e1d6f8",
   "metadata": {},
   "outputs": [],
   "source": [
    "learning_rate = CustomSchedule(D_MODEL)\n",
    "\n",
    "optimizer = tf.keras.optimizers.Adam(\n",
    "    learning_rate, beta_1=0.9, beta_2=0.98, epsilon=1e-9)\n",
    "\n",
    "def accuracy(y_true, y_pred):\n",
    "  y_true = tf.reshape(y_true, shape=(-1, MAX_LENGTH - 1))\n",
    "  return tf.keras.metrics.sparse_categorical_accuracy(y_true, y_pred)\n",
    "\n",
    "model.compile(optimizer=optimizer, loss=loss_function, metrics=[accuracy])"
   ]
  },
  {
   "cell_type": "code",
   "execution_count": null,
   "id": "e4485805",
   "metadata": {
    "scrolled": true
   },
   "outputs": [],
   "source": [
    "EPOCHS = 10\n",
    "model.fit(dataset, epochs=EPOCHS, verbose=1)"
   ]
  },
  {
   "cell_type": "markdown",
   "id": "87d91660",
   "metadata": {},
   "source": [
    "## 5. 입력에 따른 출력이 생성되었다.\n",
    "- 출력 결과물의 수준에 상관없이 모델이 정상적으로 동작하는지 확인합니다."
   ]
  },
  {
   "cell_type": "code",
   "execution_count": null,
   "id": "2f3c38e7",
   "metadata": {},
   "outputs": [],
   "source": [
    "def decoder_inference(sentence):\n",
    "  sentence = preprocess_sentence(sentence)\n",
    "\n",
    "  # 입력된 문장을 정수 인코딩 후, 시작 토큰과 종료 토큰을 앞뒤로 추가.\n",
    "  # ex) Where have you been? → [[8331   86   30    5 1059    7 8332]]\n",
    "  sentence = tf.expand_dims(\n",
    "      START_TOKEN + tokenizer.encode(sentence) + END_TOKEN, axis=0)\n",
    "\n",
    "  # 디코더의 현재까지의 예측한 출력 시퀀스가 지속적으로 저장되는 변수.\n",
    "  # 처음에는 예측한 내용이 없음으로 시작 토큰만 별도 저장. ex) 8331\n",
    "  output_sequence = tf.expand_dims(START_TOKEN, 0)\n",
    "\n",
    "  # 디코더의 인퍼런스 단계\n",
    "  for i in range(MAX_LENGTH):\n",
    "    # 디코더는 최대 MAX_LENGTH의 길이만큼 다음 단어 예측을 반복합니다.\n",
    "    predictions = model(inputs=[sentence, output_sequence], training=False)\n",
    "    predictions = predictions[:, -1:, :]\n",
    "\n",
    "    # 현재 예측한 단어의 정수\n",
    "    predicted_id = tf.cast(tf.argmax(predictions, axis=-1), tf.int32)\n",
    "\n",
    "    # 만약 현재 예측한 단어가 종료 토큰이라면 for문을 종료\n",
    "    if tf.equal(predicted_id, END_TOKEN[0]):\n",
    "      break\n",
    "\n",
    "    # 예측한 단어들은 지속적으로 output_sequence에 추가됩니다.\n",
    "    # 이 output_sequence는 다시 디코더의 입력이 됩니다.\n",
    "    output_sequence = tf.concat([output_sequence, predicted_id], axis=-1)\n",
    "\n",
    "  return tf.squeeze(output_sequence, axis=0)"
   ]
  },
  {
   "cell_type": "code",
   "execution_count": null,
   "id": "5f597c54",
   "metadata": {},
   "outputs": [],
   "source": [
    "def sentence_generation(sentence):\n",
    "  # 입력 문장에 대해서 디코더를 동작 시켜 예측된 정수 시퀀스를 리턴받습니다.\n",
    "  prediction = decoder_inference(sentence)\n",
    "\n",
    "  # 정수 시퀀스를 다시 텍스트 시퀀스로 변환합니다.\n",
    "  predicted_sentence = tokenizer.decode(\n",
    "      [i for i in prediction if i < tokenizer.vocab_size])\n",
    "\n",
    "  print('입력 : {}'.format(sentence))\n",
    "  print('출력 : {}'.format(predicted_sentence))\n",
    "\n",
    "  return predicted_sentence"
   ]
  },
  {
   "cell_type": "code",
   "execution_count": null,
   "id": "428eb509",
   "metadata": {},
   "outputs": [],
   "source": [
    "sentence_generation('오늘 뭐할까?')"
   ]
  },
  {
   "cell_type": "code",
   "execution_count": null,
   "id": "049ef8d1",
   "metadata": {},
   "outputs": [],
   "source": []
  }
 ],
 "metadata": {
  "kernelspec": {
   "display_name": "Python 3 (ipykernel)",
   "language": "python",
   "name": "python3"
  },
  "language_info": {
   "codemirror_mode": {
    "name": "ipython",
    "version": 3
   },
   "file_extension": ".py",
   "mimetype": "text/x-python",
   "name": "python",
   "nbconvert_exporter": "python",
   "pygments_lexer": "ipython3",
   "version": "3.9.7"
  }
 },
 "nbformat": 4,
 "nbformat_minor": 5
}
