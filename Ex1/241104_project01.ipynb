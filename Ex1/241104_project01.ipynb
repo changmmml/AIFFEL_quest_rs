{
 "cells": [
  {
   "cell_type": "markdown",
   "id": "d3418929",
   "metadata": {},
   "source": [
    "# 프로젝트 1\n",
    "## : 손수 설계하는 선형회귀, 당뇨병 수치를 맞춰보자!"
   ]
  },
  {
   "cell_type": "code",
   "execution_count": 1,
   "id": "0cecfb5c",
   "metadata": {},
   "outputs": [],
   "source": [
    "# (1) 데이터 가져오기\n",
    "from sklearn.datasets import load_diabetes\n",
    "\n",
    "diabetes = load_diabetes()"
   ]
  },
  {
   "cell_type": "code",
   "execution_count": 2,
   "id": "e39ca429",
   "metadata": {},
   "outputs": [],
   "source": [
    "# diabetes의 data를 df_X에, target을 df_y에 저장\n",
    "df_X = diabetes.data\n",
    "df_y = diabetes.target"
   ]
  },
  {
   "cell_type": "code",
   "execution_count": 3,
   "id": "50d4b6eb",
   "metadata": {},
   "outputs": [
    {
     "name": "stdout",
     "output_type": "stream",
     "text": [
      "<class 'numpy.ndarray'>\n",
      "<class 'numpy.ndarray'>\n"
     ]
    }
   ],
   "source": [
    "# (2),(3) 모델에 입력할 X, y 데이터 준비 (np arr)\n",
    "print(type(df_X))\n",
    "print(type(df_y))"
   ]
  },
  {
   "cell_type": "code",
   "execution_count": 4,
   "id": "b6b647a6",
   "metadata": {},
   "outputs": [
    {
     "name": "stdout",
     "output_type": "stream",
     "text": [
      "(442, 10)\n",
      "(442,)\n"
     ]
    }
   ],
   "source": [
    "# 데이터 모양 확인\n",
    "print(df_X.shape)\n",
    "print(df_y.shape)"
   ]
  },
  {
   "cell_type": "code",
   "execution_count": 5,
   "id": "3076a1a8",
   "metadata": {},
   "outputs": [
    {
     "name": "stdout",
     "output_type": "stream",
     "text": [
      "feature 1 : age\n",
      "feature 2 : sex\n",
      "feature 3 : bmi\n",
      "feature 4 : bp\n",
      "feature 5 : s1\n",
      "feature 6 : s2\n",
      "feature 7 : s3\n",
      "feature 8 : s4\n",
      "feature 9 : s5\n",
      "feature 10 : s6\n"
     ]
    }
   ],
   "source": [
    "# 특성 확인\n",
    "for i, feature_name in enumerate(diabetes.feature_names):\n",
    "    print(f'feature {i+1} : {feature_name}')"
   ]
  },
  {
   "cell_type": "code",
   "execution_count": 6,
   "id": "957116ce",
   "metadata": {},
   "outputs": [
    {
     "name": "stdout",
     "output_type": "stream",
     "text": [
      "<df_X[0]> :  [ 0.03807591  0.05068012  0.06169621  0.02187235 -0.0442235  -0.03482076\n",
      " -0.04340085 -0.00259226  0.01990842 -0.01764613]\n",
      "<df_y[0]> :  151.0\n"
     ]
    }
   ],
   "source": [
    "# 데이터 확인\n",
    "print('<df_X[0]> : ', df_X[0])\n",
    "print('<df_y[0]> : ', df_y[0])"
   ]
  },
  {
   "cell_type": "code",
   "execution_count": 7,
   "id": "98c9020d",
   "metadata": {},
   "outputs": [
    {
     "name": "stdout",
     "output_type": "stream",
     "text": [
      "(309, 10) (309,)\n",
      "(133, 10) (133,)\n"
     ]
    }
   ],
   "source": [
    "# (4) train 데이터와 test 데이터 분리\n",
    "from sklearn.model_selection import train_test_split\n",
    "\n",
    "# test 데이터의 비율이 0.3이 되도록 설정 후 분리\n",
    "X_train, X_test, y_train, y_test = train_test_split(df_X, df_y, test_size=0.3, random_state=42)\n",
    "\n",
    "# 데이터 확인\n",
    "print(X_train.shape, y_train.shape)\n",
    "print(X_test.shape, y_test.shape)"
   ]
  },
  {
   "cell_type": "code",
   "execution_count": 8,
   "id": "d5448c69",
   "metadata": {},
   "outputs": [],
   "source": [
    "# (5) 모델 준비하기 (입력 데이터 개수에 맞는 가중치 준비, 모델 함수 구현)\n",
    "import numpy as np\n",
    "\n",
    "# 모델 함수 구현 (선형 회귀)\n",
    "def model(X, W, b):\n",
    "    predictions = 0\n",
    "    for i in range(10): # 특성 개수 10개\n",
    "        predictions += X[:, i] * W[i]\n",
    "    predictions += b\n",
    "    return predictions\n",
    "\n",
    "# 파라미터(가중치)들의 초깃값 설정\n",
    "W = np.random.rand(10) # 특성 개수 10개\n",
    "b = np.random.rand()"
   ]
  },
  {
   "cell_type": "code",
   "execution_count": 9,
   "id": "d261f6ce",
   "metadata": {},
   "outputs": [],
   "source": [
    "# (6) 손실함수 Loss 정의 (MSE)\n",
    "\n",
    "# 손실함수 척도인 MSE를 정의\n",
    "def MSE(a, b):\n",
    "    mse = ((a - b) ** 2).mean()  # 두 값의 차이의 제곱의 평균\n",
    "    return mse\n",
    "\n",
    "# 손실함수 정의\n",
    "def loss(X, W, b, y):\n",
    "    predictions = model(X, W, b)\n",
    "    L = MSE(predictions, y)\n",
    "    return L"
   ]
  },
  {
   "cell_type": "code",
   "execution_count": 10,
   "id": "d7feda30",
   "metadata": {},
   "outputs": [],
   "source": [
    "# (7) 기울기를 구하는 gradient 함수 구현\n",
    "def gradient(X, W, b, y):\n",
    "    # N은 데이터 포인트의 개수\n",
    "    N = len(y)\n",
    "    \n",
    "    # y_pred 준비\n",
    "    y_pred = model(X, W, b)\n",
    "    \n",
    "    # 공식에 맞게 gradient 계산\n",
    "    dW = 1/N * 2 * X.T.dot(y_pred - y)\n",
    "        \n",
    "    # b의 gradient 계산\n",
    "    db = 2 * (y_pred - y).mean()\n",
    "    \n",
    "    return dW, db"
   ]
  },
  {
   "cell_type": "code",
   "execution_count": 11,
   "id": "7e13a186",
   "metadata": {},
   "outputs": [],
   "source": [
    "# (8) 하이퍼 파라미터인 학습률 설정\n",
    "LEARNING_RATE = 0.01"
   ]
  },
  {
   "cell_type": "code",
   "execution_count": 12,
   "id": "2406a1fa",
   "metadata": {},
   "outputs": [
    {
     "name": "stdout",
     "output_type": "stream",
     "text": [
      "Iteration 2000 : Loss 4942.6767\n",
      "Iteration 4000 : Loss 4284.6325\n",
      "Iteration 6000 : Loss 3900.0628\n",
      "Iteration 8000 : Loss 3660.1874\n",
      "Iteration 10000 : Loss 3500.3154\n",
      "Iteration 12000 : Loss 3387.2285\n",
      "Iteration 14000 : Loss 3303.3109\n",
      "Iteration 16000 : Loss 3238.7980\n",
      "Iteration 18000 : Loss 3187.9669\n",
      "Iteration 20000 : Loss 3147.2439\n"
     ]
    }
   ],
   "source": [
    "# (9) 모델 학습\n",
    "\n",
    "losses = [] # loss의 경향을 보기 위해 epoch당 학습 결과를 담기 위한 list\n",
    "\n",
    "for i in range(1, 20001): # loss값이 충분히 떨어질 때까지 학습 진행 - 20000번)\n",
    "    dW, db = gradient(X_train, W, b, y_train)\n",
    "    W -= LEARNING_RATE * dW\n",
    "    b -= LEARNING_RATE * db\n",
    "    L = loss(X_train, W, b, y_train)\n",
    "    losses.append(L) # epoch당 학습 결과 append\n",
    "    # 1000번마다 현재 loss 출력\n",
    "    if i % 2000 == 0:\n",
    "        print('Iteration %d : Loss %0.4f' % (i, L))"
   ]
  },
  {
   "cell_type": "code",
   "execution_count": 13,
   "id": "928615af",
   "metadata": {},
   "outputs": [
    {
     "name": "stdout",
     "output_type": "stream",
     "text": [
      "2863.1919390489084\n"
     ]
    }
   ],
   "source": [
    "# (10) test 데이터에 대한 성능 확인\n",
    "prediction = model(X_test, W, b)\n",
    "mse = loss(X_test, W, b, y_test)\n",
    "\n",
    "print(mse)"
   ]
  },
  {
   "cell_type": "code",
   "execution_count": 14,
   "id": "1b2e6656",
   "metadata": {},
   "outputs": [
    {
     "data": {
      "image/png": "[encoded data removed]",
      "text/plain": [
       "<Figure size 432x288 with 1 Axes>"
      ]
     },
     "metadata": {
      "needs_background": "light"
     },
     "output_type": "display_data"
    }
   ],
   "source": [
    "# (11) 정답 데이터와 예측한 데이터 시각화하기\n",
    "import matplotlib.pyplot as plt\n",
    "\n",
    "# x축에는 X 데이터의 첫 번째 컬럼, y축에는 정답인 target 데이터\n",
    "plt.scatter(X_test[:, 0], y_test)\n",
    "plt.scatter(X_test[:, 0], prediction)\n",
    "plt.show()"
   ]
  },
  {
   "cell_type": "code",
   "execution_count": null,
   "id": "84d62294",
   "metadata": {},
   "outputs": [],
   "source": []
  }
 ],
 "metadata": {
  "kernelspec": {
   "display_name": "Python 3 (ipykernel)",
   "language": "python",
   "name": "python3"
  },
  "language_info": {
   "codemirror_mode": {
    "name": "ipython",
    "version": 3
   },
   "file_extension": ".py",
   "mimetype": "text/x-python",
   "name": "python",
   "nbconvert_exporter": "python",
   "pygments_lexer": "ipython3",
   "version": "3.9.7"
  }
 },
 "nbformat": 4,
 "nbformat_minor": 5
}
