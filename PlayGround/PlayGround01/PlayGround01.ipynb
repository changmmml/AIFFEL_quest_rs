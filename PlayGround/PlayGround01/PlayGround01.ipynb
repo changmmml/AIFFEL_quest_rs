{
 "cells": [
  {
   "cell_type": "markdown",
   "metadata": {},
   "source": [
    "# 7. 케라스 완전 정복"
   ]
  },
  {
   "cell_type": "markdown",
   "metadata": {},
   "source": [
    "## 7.2. 케라스 모델을 만드는 여러 방법"
   ]
  },
  {
   "cell_type": "markdown",
   "metadata": {},
   "source": [
    "### 7.2.1 Sequential 모델"
   ]
  },
  {
   "cell_type": "code",
   "execution_count": 2,
   "metadata": {},
   "outputs": [
    {
     "name": "stderr",
     "output_type": "stream",
     "text": [
      "2024-11-12 10:50:57.362965: I tensorflow/core/platform/cpu_feature_guard.cc:182] This TensorFlow binary is optimized to use available CPU instructions in performance-critical operations.\n",
      "To enable the following instructions: SSE4.1 SSE4.2, in other operations, rebuild TensorFlow with the appropriate compiler flags.\n"
     ]
    }
   ],
   "source": [
    "# 7.1: Sequential 클래스\n",
    "from tensorflow import keras\n",
    "from tensorflow.keras import layers\n",
    "\n",
    "model = keras.Sequential([\n",
    "    layers.Dense(64, activation=\"relu\"),\n",
    "    layers.Dense(10, activation=\"softmax\")\n",
    "])"
   ]
  },
  {
   "cell_type": "code",
   "execution_count": 3,
   "metadata": {},
   "outputs": [],
   "source": [
    "# 7-2: 점진적으로 Sequential 모델 만들기\n",
    "model = keras.Sequential()\n",
    "model.add(layers.Dense(64, activation=\"relu\"))\n",
    "model.add(layers.Dense(10, activation=\"softmax\"))"
   ]
  },
  {
   "cell_type": "code",
   "execution_count": 4,
   "metadata": {},
   "outputs": [
    {
     "data": {
      "text/plain": [
       "[<tf.Variable 'dense_2/kernel:0' shape=(3, 64) dtype=float32, numpy=\n",
       " array([[ 0.04588303,  0.06753704,  0.23841876,  0.1820038 , -0.23032762,\n",
       "         -0.24117807,  0.24537146, -0.10598639,  0.09198183,  0.09921631,\n",
       "         -0.12883027,  0.07362947, -0.07140951,  0.12661022, -0.23298582,\n",
       "         -0.25802776,  0.08786228,  0.00519189, -0.06261785, -0.22227708,\n",
       "          0.18540278,  0.11900851, -0.09430952,  0.25440603,  0.19022152,\n",
       "         -0.06432799, -0.24605645,  0.14909151,  0.2942763 ,  0.15497604,\n",
       "          0.17164972, -0.2849294 , -0.06107697, -0.27070948,  0.22192574,\n",
       "          0.2563392 ,  0.15246874,  0.2680577 , -0.21077523,  0.0990164 ,\n",
       "          0.12001595, -0.00905186,  0.0757032 ,  0.12309864, -0.18211567,\n",
       "         -0.03600019, -0.15225478,  0.23582608, -0.05931255,  0.05687326,\n",
       "          0.19428861,  0.20262092, -0.12798266, -0.27268046, -0.25690484,\n",
       "          0.18864724,  0.06168413,  0.25231063, -0.1140281 ,  0.23844993,\n",
       "         -0.03829068,  0.05188757, -0.2345145 , -0.13663104],\n",
       "        [-0.13959117, -0.14227684, -0.11283803,  0.15289882, -0.17498612,\n",
       "         -0.2538478 , -0.08692136, -0.0431796 ,  0.24251354,  0.033921  ,\n",
       "          0.26579064, -0.22036338, -0.22810552,  0.27129483, -0.29082853,\n",
       "         -0.16909412, -0.14701124, -0.13879372,  0.16896549,  0.06260559,\n",
       "         -0.20653817,  0.26816738,  0.2920226 , -0.22442335,  0.09327656,\n",
       "          0.05071804, -0.13703609,  0.06713423, -0.26133794, -0.13144872,\n",
       "          0.21933979,  0.14710441,  0.11462492, -0.21993995, -0.07985632,\n",
       "         -0.01879078, -0.03867459, -0.08298762, -0.16398223,  0.17945248,\n",
       "         -0.19089603,  0.16506869, -0.2497324 ,  0.211236  , -0.20745592,\n",
       "          0.0384818 ,  0.23359889,  0.1766603 , -0.09370628,  0.2589485 ,\n",
       "          0.21474522, -0.09888953,  0.14594087,  0.16116822,  0.2673372 ,\n",
       "         -0.2867822 , -0.03596652, -0.17268026, -0.27862233,  0.05242902,\n",
       "          0.23487765, -0.08278592, -0.08064906,  0.10431293],\n",
       "        [ 0.05381179, -0.01489413,  0.03555399, -0.25098455, -0.08267148,\n",
       "         -0.05314742, -0.09702216, -0.227797  , -0.07631493,  0.16402867,\n",
       "          0.14780775,  0.04335111,  0.25396538, -0.08725376, -0.11577234,\n",
       "          0.24084067,  0.2426061 ,  0.18176213, -0.1412881 , -0.11659433,\n",
       "         -0.10535304,  0.27166253,  0.17533109, -0.26366472,  0.03251046,\n",
       "         -0.0484648 , -0.18451652,  0.02615952,  0.00934601, -0.11694293,\n",
       "          0.29900014,  0.04066882,  0.08772403,  0.00566113,  0.06607214,\n",
       "          0.17575869, -0.20937467, -0.0468137 ,  0.26471043,  0.08556539,\n",
       "         -0.15943383, -0.15488492, -0.1723711 ,  0.09994212,  0.28995574,\n",
       "          0.10282576,  0.09131709, -0.2485795 ,  0.01206434, -0.06395477,\n",
       "         -0.1201642 ,  0.18794826,  0.11587444,  0.10558912, -0.03191727,\n",
       "          0.11539114,  0.07129115, -0.2707508 ,  0.07765704, -0.28663546,\n",
       "         -0.2534725 , -0.1134748 ,  0.04277256, -0.24048993]],\n",
       "       dtype=float32)>,\n",
       " <tf.Variable 'dense_2/bias:0' shape=(64,) dtype=float32, numpy=\n",
       " array([0., 0., 0., 0., 0., 0., 0., 0., 0., 0., 0., 0., 0., 0., 0., 0., 0.,\n",
       "        0., 0., 0., 0., 0., 0., 0., 0., 0., 0., 0., 0., 0., 0., 0., 0., 0.,\n",
       "        0., 0., 0., 0., 0., 0., 0., 0., 0., 0., 0., 0., 0., 0., 0., 0., 0.,\n",
       "        0., 0., 0., 0., 0., 0., 0., 0., 0., 0., 0., 0., 0.], dtype=float32)>,\n",
       " <tf.Variable 'dense_3/kernel:0' shape=(64, 10) dtype=float32, numpy=\n",
       " array([[ 0.27561668,  0.07392305,  0.17312759,  0.06421146, -0.15347369,\n",
       "          0.27847806,  0.06672198, -0.18823792,  0.00986767,  0.24382272],\n",
       "        [ 0.20404848, -0.0528422 ,  0.16769332, -0.00815251, -0.23284993,\n",
       "          0.10747296,  0.05416155, -0.03823397, -0.10278711, -0.09491801],\n",
       "        [-0.15250973, -0.22306943, -0.04838575, -0.1490592 ,  0.08215821,\n",
       "          0.27256468,  0.18438154,  0.01189885, -0.20734748, -0.04956201],\n",
       "        [ 0.2094301 , -0.16065365,  0.21046793,  0.13958278, -0.23700699,\n",
       "          0.19302905, -0.08038343,  0.0541957 ,  0.00655842,  0.205951  ],\n",
       "        [-0.11307935,  0.18482175, -0.1337526 , -0.19212376,  0.14453617,\n",
       "          0.12156075, -0.2629066 , -0.28193286, -0.05061287,  0.04496375],\n",
       "        [ 0.13957462, -0.0412403 , -0.21778691,  0.13590062,  0.04624772,\n",
       "          0.2052004 ,  0.17065865,  0.20986325, -0.22683117,  0.20606592],\n",
       "        [-0.00783217,  0.11106414,  0.2096673 ,  0.17265078, -0.21909073,\n",
       "         -0.03410646, -0.02538079,  0.12969854,  0.2684116 ,  0.24856451],\n",
       "        [ 0.23793563, -0.19542867, -0.03313413,  0.06987706, -0.10578732,\n",
       "         -0.04651454, -0.15960625, -0.08842871, -0.2691196 ,  0.09585142],\n",
       "        [ 0.23619512, -0.1926486 , -0.16894168,  0.22250149, -0.22184308,\n",
       "         -0.14115013, -0.07550222,  0.04823056, -0.26834708,  0.2175816 ],\n",
       "        [ 0.20979941, -0.15163778, -0.11936317, -0.00461137,  0.23254964,\n",
       "          0.01986426, -0.22092754,  0.03070813,  0.15361184,  0.12207663],\n",
       "        [-0.10464312, -0.08073707,  0.07933706, -0.00303423, -0.03781462,\n",
       "          0.05108538, -0.23526433,  0.03027648, -0.08957562,  0.07577357],\n",
       "        [ 0.21094286,  0.08682746, -0.17626256, -0.16318217, -0.10763799,\n",
       "         -0.03092822, -0.07833496,  0.00775409, -0.18466973, -0.08601117],\n",
       "        [-0.00900596, -0.20350285,  0.0816696 ,  0.24172774,  0.15511423,\n",
       "          0.13947076,  0.19114852,  0.15089276, -0.04302789,  0.22398719],\n",
       "        [ 0.1552253 ,  0.12079331,  0.15259433, -0.24508497, -0.2064641 ,\n",
       "         -0.2795114 , -0.15567513, -0.24918099, -0.05107172, -0.21050173],\n",
       "        [-0.08333716, -0.05240431,  0.26669696, -0.0255411 ,  0.2780482 ,\n",
       "         -0.13381398,  0.12361616, -0.21024105, -0.0303202 , -0.27400762],\n",
       "        [ 0.15591791, -0.07785362,  0.14499742, -0.09976727, -0.01631653,\n",
       "         -0.15290573,  0.06962118,  0.12152794, -0.03891931,  0.0248315 ],\n",
       "        [-0.263335  , -0.16968581,  0.1399324 ,  0.12939146, -0.07895024,\n",
       "          0.00432149,  0.28309068,  0.221212  , -0.04909819,  0.20821291],\n",
       "        [-0.16585326, -0.16678654,  0.19477272,  0.22419414,  0.02253476,\n",
       "         -0.1602129 , -0.20525357, -0.20168607,  0.0721415 ,  0.00779596],\n",
       "        [-0.11801809, -0.09850453,  0.01388833,  0.15056363, -0.10225023,\n",
       "          0.09139118, -0.01143429, -0.04520692,  0.08760968, -0.1041958 ],\n",
       "        [-0.08895898,  0.0192135 ,  0.257004  , -0.09458509,  0.00752068,\n",
       "         -0.2326016 , -0.05656782, -0.10734735,  0.15325788,  0.2384167 ],\n",
       "        [-0.01589039,  0.20749098, -0.06838073, -0.27602845, -0.1944108 ,\n",
       "          0.03802359, -0.22161347,  0.0060451 , -0.02963522,  0.18248147],\n",
       "        [-0.11545968, -0.2692536 ,  0.22922423, -0.14623712,  0.14225733,\n",
       "         -0.25434184,  0.16945797,  0.0537498 , -0.03986888, -0.09158595],\n",
       "        [-0.09006177,  0.12809446, -0.21550494, -0.08697893, -0.14742593,\n",
       "          0.28369644,  0.24269506, -0.13594033,  0.03860402, -0.06936634],\n",
       "        [ 0.21233127,  0.14245191, -0.19993019,  0.19035906,  0.12214702,\n",
       "          0.25919905,  0.07811826,  0.0603064 , -0.23012507, -0.12678644],\n",
       "        [-0.00129384, -0.27471128,  0.07898533,  0.19011036, -0.2835283 ,\n",
       "         -0.01639697,  0.01678047, -0.15056174, -0.05684121,  0.10292649],\n",
       "        [-0.09346451, -0.17574857, -0.04953519, -0.00632164, -0.18654022,\n",
       "          0.14604887, -0.13681148, -0.07792538, -0.17765966,  0.18101195],\n",
       "        [-0.14349203, -0.28460094, -0.15941657, -0.2073895 , -0.05000505,\n",
       "         -0.26437387,  0.0177035 , -0.03422886,  0.17346051, -0.26856276],\n",
       "        [-0.20246978,  0.01152369,  0.2617956 , -0.2808163 , -0.13573265,\n",
       "          0.00575644, -0.00399554,  0.0086596 , -0.0984147 , -0.14027524],\n",
       "        [ 0.2369143 ,  0.24544218,  0.22238198, -0.0238829 , -0.07570758,\n",
       "         -0.20551032,  0.14613381, -0.19720694, -0.06480779, -0.17644131],\n",
       "        [ 0.05442652, -0.22540338,  0.26233986,  0.08845347, -0.15900469,\n",
       "         -0.13710015,  0.04184383,  0.14344126,  0.07853076,  0.01229334],\n",
       "        [-0.08745436, -0.0961504 ,  0.14702755,  0.15809953, -0.09522535,\n",
       "         -0.00238577, -0.06968834,  0.27922204,  0.21106833,  0.19684455],\n",
       "        [-0.03194648, -0.26313546, -0.19489968, -0.04125544,  0.03854015,\n",
       "         -0.11272532, -0.09529908, -0.21201593, -0.27036536,  0.12016657],\n",
       "        [-0.10856128,  0.14108646, -0.15571003,  0.0758405 ,  0.2555476 ,\n",
       "          0.06089005,  0.17494836,  0.16397762, -0.09640044,  0.22816905],\n",
       "        [-0.14669253,  0.25451693, -0.01234725, -0.15969294, -0.1975912 ,\n",
       "         -0.03662248, -0.00606555,  0.26326123,  0.20232028, -0.20007506],\n",
       "        [ 0.26648667, -0.10323212, -0.04014036, -0.02253827,  0.13739261,\n",
       "         -0.00765538, -0.12423937,  0.26565394,  0.11817491,  0.23811886],\n",
       "        [ 0.26339766,  0.02975178, -0.15475008, -0.02076027, -0.14877245,\n",
       "          0.20102891,  0.19594985, -0.25027704, -0.15693752,  0.2686487 ],\n",
       "        [-0.18913521, -0.09686324, -0.27422145, -0.2338105 ,  0.20985198,\n",
       "         -0.04340664, -0.12506755,  0.04919356, -0.12657802,  0.16083151],\n",
       "        [-0.02603844,  0.1042563 , -0.0290989 ,  0.02611157, -0.00586522,\n",
       "         -0.14668241, -0.07337621, -0.19242775,  0.06603333,  0.13285056],\n",
       "        [-0.25937882,  0.2433478 ,  0.26356575, -0.12979072,  0.19680199,\n",
       "          0.27759835,  0.078356  ,  0.07367837, -0.21468654, -0.03368533],\n",
       "        [ 0.27872393, -0.06738004,  0.03538907,  0.09648082, -0.01216003,\n",
       "         -0.06406488,  0.1455338 ,  0.01551163, -0.13240513,  0.13378891],\n",
       "        [ 0.22455373,  0.22159788,  0.0427376 , -0.07755695,  0.04058191,\n",
       "         -0.02947322, -0.06706455, -0.01545462,  0.10554042, -0.00037509],\n",
       "        [-0.24997428,  0.05202565,  0.02208662, -0.21876112, -0.0500536 ,\n",
       "          0.04224432,  0.15722227,  0.06274965,  0.01241481,  0.10178351],\n",
       "        [-0.05741976, -0.28416178, -0.08092764,  0.13569781, -0.22244418,\n",
       "         -0.25736788, -0.04268973,  0.18180257,  0.2535633 ,  0.1696023 ],\n",
       "        [-0.11394386,  0.18216279,  0.13541281,  0.01347536, -0.03478575,\n",
       "          0.1039533 ,  0.13695654, -0.18546996, -0.08654818, -0.1791983 ],\n",
       "        [-0.07193865,  0.06033817, -0.20603205, -0.22154689,  0.14765981,\n",
       "          0.12830123,  0.19262451, -0.1868815 ,  0.19729003,  0.08390126],\n",
       "        [-0.18306023,  0.00749543,  0.01903805,  0.12013867, -0.269519  ,\n",
       "          0.15463018, -0.07917759,  0.24871644, -0.24063444, -0.13772702],\n",
       "        [-0.22547467, -0.15728885, -0.1812816 , -0.02329004,  0.22217563,\n",
       "          0.04080757, -0.23160003,  0.06350806,  0.06842405,  0.04603511],\n",
       "        [ 0.0515686 , -0.0445932 , -0.1194853 , -0.10333817, -0.14672403,\n",
       "          0.15435916, -0.11038776,  0.13503224,  0.13364437, -0.0539877 ],\n",
       "        [ 0.11503804, -0.05437182, -0.18940791,  0.0209657 ,  0.27506605,\n",
       "         -0.22601888, -0.23561709,  0.26500407,  0.21122095, -0.13346428],\n",
       "        [ 0.05505797,  0.0047445 , -0.27764815,  0.28041872,  0.06078863,\n",
       "         -0.10281834, -0.0696937 , -0.25363982, -0.26073742,  0.13836709],\n",
       "        [-0.0605804 ,  0.13087708, -0.10731103, -0.2535925 , -0.25204027,\n",
       "         -0.17541096,  0.17677966,  0.11753473, -0.24261652, -0.0344125 ],\n",
       "        [ 0.10868803,  0.06992275,  0.08257964,  0.13199109, -0.22388966,\n",
       "          0.25875643,  0.08641633, -0.14305387, -0.19486274, -0.03694829],\n",
       "        [ 0.2308208 , -0.2464452 ,  0.0065915 , -0.26109898, -0.18904777,\n",
       "         -0.16355142, -0.24587804,  0.1651206 ,  0.06843734,  0.02047059],\n",
       "        [ 0.10606682, -0.2694467 ,  0.09577456, -0.04639085, -0.15447533,\n",
       "         -0.14402184, -0.21004307, -0.18792793, -0.12127438,  0.25397965],\n",
       "        [-0.25410125, -0.2471357 , -0.07477234, -0.22059765,  0.1422194 ,\n",
       "         -0.2670935 ,  0.21453795,  0.18315926, -0.04804313, -0.05471696],\n",
       "        [-0.26120076,  0.1095781 , -0.06824195, -0.02880418,  0.22483268,\n",
       "          0.25266603,  0.11254811,  0.20773873, -0.2159383 , -0.02832496],\n",
       "        [ 0.04403916,  0.2802752 ,  0.06633317, -0.01866901,  0.28364238,\n",
       "         -0.0671446 , -0.17716086,  0.22980383, -0.19002593,  0.01320502],\n",
       "        [ 0.26932314, -0.19304447, -0.0925647 ,  0.17368501,  0.04772881,\n",
       "         -0.10084541,  0.15577024,  0.17443234,  0.07823855,  0.16158557],\n",
       "        [ 0.00454661, -0.01679277,  0.07518747, -0.16948934,  0.12602839,\n",
       "          0.26475528,  0.08320388, -0.00350076, -0.21898311, -0.13139583],\n",
       "        [ 0.25378904,  0.27128097, -0.2056017 , -0.22030607,  0.06429434,\n",
       "          0.11260408, -0.05447297, -0.11913066, -0.23383507,  0.14532498],\n",
       "        [-0.02671897,  0.23197803,  0.0097619 , -0.11622764, -0.02055255,\n",
       "          0.00039002, -0.19368127, -0.13744114,  0.2003623 , -0.17009199],\n",
       "        [-0.02640477,  0.18768823, -0.27375454, -0.16859272, -0.23045148,\n",
       "          0.19678482,  0.15101802,  0.19293407,  0.18173617,  0.02957928],\n",
       "        [-0.14994937, -0.03590395, -0.11207834,  0.11330822, -0.03930926,\n",
       "          0.12111878, -0.01544991, -0.11305051, -0.01229689, -0.01498121],\n",
       "        [ 0.07649094, -0.23710243,  0.00440228,  0.05464166,  0.06183636,\n",
       "         -0.13021986, -0.21291193,  0.14054164, -0.06456053,  0.06642702]],\n",
       "       dtype=float32)>,\n",
       " <tf.Variable 'dense_3/bias:0' shape=(10,) dtype=float32, numpy=array([0., 0., 0., 0., 0., 0., 0., 0., 0., 0.], dtype=float32)>]"
      ]
     },
     "execution_count": 4,
     "metadata": {},
     "output_type": "execute_result"
    }
   ],
   "source": [
    "# 7-3,4: build() 메서드가 호출 전의 모델은 가중치가 없다. 그러므로 가중치를 만들기 위해 모델 호출\n",
    "model.build(input_shape=(None, 3))\n",
    "model.weights"
   ]
  },
  {
   "cell_type": "code",
   "execution_count": 5,
   "metadata": {},
   "outputs": [
    {
     "name": "stdout",
     "output_type": "stream",
     "text": [
      "Model: \"sequential_1\"\n",
      "_________________________________________________________________\n",
      " Layer (type)                Output Shape              Param #   \n",
      "=================================================================\n",
      " dense_2 (Dense)             (None, 64)                256       \n",
      "                                                                 \n",
      " dense_3 (Dense)             (None, 10)                650       \n",
      "                                                                 \n",
      "=================================================================\n",
      "Total params: 906\n",
      "Trainable params: 906\n",
      "Non-trainable params: 0\n",
      "_________________________________________________________________\n"
     ]
    }
   ],
   "source": [
    "# 7-5: summary() 메서드\n",
    "model.summary()"
   ]
  },
  {
   "cell_type": "code",
   "execution_count": 6,
   "metadata": {},
   "outputs": [
    {
     "name": "stdout",
     "output_type": "stream",
     "text": [
      "Model: \"my_example_model\"\n",
      "_________________________________________________________________\n",
      " Layer (type)                Output Shape              Param #   \n",
      "=================================================================\n",
      " my_first_layer (Dense)      (None, 64)                256       \n",
      "                                                                 \n",
      " my_last_layer (Dense)       (None, 10)                650       \n",
      "                                                                 \n",
      "=================================================================\n",
      "Total params: 906\n",
      "Trainable params: 906\n",
      "Non-trainable params: 0\n",
      "_________________________________________________________________\n"
     ]
    }
   ],
   "source": [
    "# 7-6: name 매개변수로 모델과 층에 이름 지정하기\n",
    "model = keras.Sequential(name=\"my_example_model\")\n",
    "model.add(layers.Dense(64, activation=\"relu\", name=\"my_first_layer\"))\n",
    "model.add(layers.Dense(10, activation=\"softmax\", name=\"my_last_layer\"))\n",
    "model.build((None, 3))\n",
    "model.summary()"
   ]
  },
  {
   "cell_type": "code",
   "execution_count": 7,
   "metadata": {},
   "outputs": [],
   "source": [
    "# 7-7 모델의 입력 크기를 미리 지정하기\n",
    "model = keras.Sequential()\n",
    "model.add(keras.Input(shape=(3,)))\n",
    "model.add(layers.Dense(64, activation=\"relu\"))"
   ]
  },
  {
   "cell_type": "code",
   "execution_count": 8,
   "metadata": {},
   "outputs": [
    {
     "name": "stdout",
     "output_type": "stream",
     "text": [
      "Model: \"sequential_2\"\n",
      "_________________________________________________________________\n",
      " Layer (type)                Output Shape              Param #   \n",
      "=================================================================\n",
      " dense_4 (Dense)             (None, 64)                256       \n",
      "                                                                 \n",
      "=================================================================\n",
      "Total params: 256\n",
      "Trainable params: 256\n",
      "Non-trainable params: 0\n",
      "_________________________________________________________________\n"
     ]
    }
   ],
   "source": [
    "model.summary()"
   ]
  },
  {
   "cell_type": "code",
   "execution_count": 9,
   "metadata": {},
   "outputs": [],
   "source": [
    "model.add(layers.Dense(10, activation=\"softmax\"))"
   ]
  },
  {
   "cell_type": "code",
   "execution_count": 10,
   "metadata": {},
   "outputs": [
    {
     "name": "stdout",
     "output_type": "stream",
     "text": [
      "Model: \"sequential_2\"\n",
      "_________________________________________________________________\n",
      " Layer (type)                Output Shape              Param #   \n",
      "=================================================================\n",
      " dense_4 (Dense)             (None, 64)                256       \n",
      "                                                                 \n",
      " dense_5 (Dense)             (None, 10)                650       \n",
      "                                                                 \n",
      "=================================================================\n",
      "Total params: 906\n",
      "Trainable params: 906\n",
      "Non-trainable params: 0\n",
      "_________________________________________________________________\n"
     ]
    }
   ],
   "source": [
    "model.summary()"
   ]
  },
  {
   "cell_type": "markdown",
   "metadata": {},
   "source": [
    "### 7.2.2. 함수형 API"
   ]
  },
  {
   "cell_type": "code",
   "execution_count": 11,
   "metadata": {},
   "outputs": [],
   "source": [
    "# 7-8: 2개의 Dense 층을 가진 간단한 함수형 모델\n",
    "inputs = keras.Input(shape=(3,), name=\"my_input\") \n",
    "features = layers.Dense(64, activation=\"relu\")(inputs)\n",
    "outputs = layers.Dense(10, activation=\"softmax\")(features)\n",
    "model = keras.Model(inputs=inputs, outputs=outputs) "
   ]
  },
  {
   "cell_type": "code",
   "execution_count": 12,
   "metadata": {},
   "outputs": [],
   "source": [
    "# 모델이 처리할 데이터의 타입과 크기 - 심볼릭 텐서\n",
    "inputs = keras.Input(shape=(3,), name=\"my_input\")"
   ]
  },
  {
   "cell_type": "code",
   "execution_count": 13,
   "metadata": {},
   "outputs": [
    {
     "data": {
      "text/plain": [
       "TensorShape([None, 3])"
      ]
     },
     "execution_count": 13,
     "metadata": {},
     "output_type": "execute_result"
    }
   ],
   "source": [
    "inputs.shape"
   ]
  },
  {
   "cell_type": "code",
   "execution_count": 14,
   "metadata": {},
   "outputs": [
    {
     "data": {
      "text/plain": [
       "tf.float32"
      ]
     },
     "execution_count": 14,
     "metadata": {},
     "output_type": "execute_result"
    }
   ],
   "source": [
    "inputs.dtype"
   ]
  },
  {
   "cell_type": "code",
   "execution_count": 15,
   "metadata": {},
   "outputs": [],
   "source": [
    "features = layers.Dense(64, activation=\"relu\")(inputs)"
   ]
  },
  {
   "cell_type": "code",
   "execution_count": 16,
   "metadata": {},
   "outputs": [
    {
     "data": {
      "text/plain": [
       "TensorShape([None, 64])"
      ]
     },
     "execution_count": 16,
     "metadata": {},
     "output_type": "execute_result"
    }
   ],
   "source": [
    "features.shape"
   ]
  },
  {
   "cell_type": "code",
   "execution_count": 17,
   "metadata": {},
   "outputs": [],
   "source": [
    "outputs = layers.Dense(10, activation=\"softmax\")(features)\n",
    "model = keras.Model(inputs=inputs, outputs=outputs)"
   ]
  },
  {
   "cell_type": "code",
   "execution_count": 18,
   "metadata": {},
   "outputs": [
    {
     "name": "stdout",
     "output_type": "stream",
     "text": [
      "Model: \"model_1\"\n",
      "_________________________________________________________________\n",
      " Layer (type)                Output Shape              Param #   \n",
      "=================================================================\n",
      " my_input (InputLayer)       [(None, 3)]               0         \n",
      "                                                                 \n",
      " dense_8 (Dense)             (None, 64)                256       \n",
      "                                                                 \n",
      " dense_9 (Dense)             (None, 10)                650       \n",
      "                                                                 \n",
      "=================================================================\n",
      "Total params: 906\n",
      "Trainable params: 906\n",
      "Non-trainable params: 0\n",
      "_________________________________________________________________\n"
     ]
    }
   ],
   "source": [
    "model.summary()"
   ]
  },
  {
   "cell_type": "markdown",
   "metadata": {},
   "source": [
    "<b>다중 입력, 다중 출력 모델"
   ]
  },
  {
   "cell_type": "code",
   "execution_count": 19,
   "metadata": {},
   "outputs": [],
   "source": [
    "# 7-9: 다중 입력, 다중 출력 함수형 모델\n",
    "vocabulary_size = 10000\n",
    "num_tags = 100\n",
    "num_departments = 4\n",
    "\n",
    "# 모델의 입력 정의\n",
    "title = keras.Input(shape=(vocabulary_size,), name=\"title\")\n",
    "text_body = keras.Input(shape=(vocabulary_size,), name=\"text_body\")\n",
    "tags = keras.Input(shape=(num_tags,), name=\"tags\")\n",
    "\n",
    "# 입력 특성을 하나의 텐서 feature로 연결\n",
    "features = layers.Concatenate()([title, text_body, tags])\n",
    "# 중간층을 적용하여 입력 특성을 더 풍부한 표현으로 재결합\n",
    "features = layers.Dense(64, activation=\"relu\")(features)\n",
    "\n",
    "# 모델 출력 정의\n",
    "priority = layers.Dense(1, activation=\"sigmoid\", name=\"priority\")(features)\n",
    "department = layers.Dense(\n",
    "    num_departments, activation=\"softmax\", name=\"department\")(features)\n",
    "\n",
    "# 입력과 출력을 지정해 모델 생성\n",
    "model = keras.Model(inputs=[title, text_body, tags], outputs=[priority, department])"
   ]
  },
  {
   "cell_type": "code",
   "execution_count": 20,
   "metadata": {},
   "outputs": [
    {
     "name": "stdout",
     "output_type": "stream",
     "text": [
      "40/40 [==============================] - 1s 10ms/step - loss: 38.9568 - priority_loss: 0.3326 - department_loss: 38.6242 - priority_mean_absolute_error: 0.4974 - department_accuracy: 0.1805\n",
      "40/40 [==============================] - 0s 3ms/step - loss: 44.2061 - priority_loss: 0.3364 - department_loss: 43.8697 - priority_mean_absolute_error: 0.5005 - department_accuracy: 0.2656\n",
      "40/40 [==============================] - 0s 3ms/step\n"
     ]
    }
   ],
   "source": [
    "# 7-10: 입력과 타깃 배열 리스트를 전달하여 모델 훈련하기\n",
    "import numpy as np\n",
    "\n",
    "num_samples = 1280\n",
    "\n",
    "# 더미 입력 데이터\n",
    "title_data = np.random.randint(0, 2, size=(num_samples, vocabulary_size))\n",
    "text_body_data = np.random.randint(0, 2, size=(num_samples, vocabulary_size))\n",
    "tags_data = np.random.randint(0, 2, size=(num_samples, num_tags))\n",
    "\n",
    "# 더미 타깃 데이터\n",
    "priority_data = np.random.random(size=(num_samples, 1))\n",
    "department_data = np.random.randint(0, 2, size=(num_samples, num_departments))\n",
    "\n",
    "model.compile(optimizer=\"rmsprop\",\n",
    "              loss=[\"mean_squared_error\", \"categorical_crossentropy\"],\n",
    "              metrics=[[\"mean_absolute_error\"], [\"accuracy\"]])\n",
    "model.fit([title_data, text_body_data, tags_data],\n",
    "          [priority_data, department_data],\n",
    "          epochs=1)\n",
    "model.evaluate([title_data, text_body_data, tags_data],\n",
    "               [priority_data, department_data])\n",
    "priority_preds, department_preds = model.predict([title_data, text_body_data, tags_data])"
   ]
  },
  {
   "cell_type": "code",
   "execution_count": 21,
   "metadata": {},
   "outputs": [
    {
     "name": "stdout",
     "output_type": "stream",
     "text": [
      "40/40 [==============================] - 1s 8ms/step - loss: 53.9735 - priority_loss: 0.3364 - department_loss: 53.6371 - priority_mean_absolute_error: 0.5005 - department_accuracy: 0.2016\n",
      "40/40 [==============================] - 0s 4ms/step - loss: 48.2298 - priority_loss: 0.3364 - department_loss: 47.8934 - priority_mean_absolute_error: 0.5005 - department_accuracy: 0.0602\n",
      "40/40 [==============================] - 0s 5ms/step\n"
     ]
    }
   ],
   "source": [
    "# 7-11: 입력과 타깃 배열을 딕셔너리로 전달하여 모델 훈련하기\n",
    "model.compile(optimizer=\"rmsprop\",\n",
    "              loss={\"priority\": \"mean_squared_error\", \"department\": \"categorical_crossentropy\"},\n",
    "              metrics={\"priority\": [\"mean_absolute_error\"], \"department\": [\"accuracy\"]})\n",
    "model.fit({\"title\": title_data, \"text_body\": text_body_data, \"tags\": tags_data},\n",
    "          {\"priority\": priority_data, \"department\": department_data},\n",
    "          epochs=1)\n",
    "# 9, 10번째 줄 - 부여한 이름을 통해 데이터를 딕셔너리로 전달\n",
    "model.evaluate({\"title\": title_data, \"text_body\": text_body_data, \"tags\": tags_data},\n",
    "               {\"priority\": priority_data, \"department\": department_data})\n",
    "priority_preds, department_preds = model.predict(\n",
    "    {\"title\": title_data, \"text_body\": text_body_data, \"tags\": tags_data})"
   ]
  },
  {
   "cell_type": "markdown",
   "metadata": {},
   "source": [
    "<b>함수형 API의 장점: 층 연결 구조 활용하기"
   ]
  },
  {
   "cell_type": "code",
   "execution_count": 22,
   "metadata": {},
   "outputs": [
    {
     "data": {
      "image/png": "[encoded data removed]",
      "text/plain": [
       "<IPython.core.display.Image object>"
      ]
     },
     "execution_count": 22,
     "metadata": {},
     "output_type": "execute_result"
    }
   ],
   "source": [
    "keras.utils.plot_model(model, \"ticket_classifier.png\")"
   ]
  },
  {
   "cell_type": "code",
   "execution_count": 23,
   "metadata": {},
   "outputs": [
    {
     "data": {
      "image/png": "[encoded data removed]",
      "text/plain": [
       "<IPython.core.display.Image object>"
      ]
     },
     "execution_count": 23,
     "metadata": {},
     "output_type": "execute_result"
    }
   ],
   "source": [
    "keras.utils.plot_model(model, \"ticket_classifier_with_shape_info.png\", show_shapes=True)"
   ]
  },
  {
   "cell_type": "code",
   "execution_count": 24,
   "metadata": {},
   "outputs": [
    {
     "data": {
      "text/plain": [
       "[<keras.engine.input_layer.InputLayer at 0x1de8a5790>,\n",
       " <keras.engine.input_layer.InputLayer at 0x1de88c4d0>,\n",
       " <keras.engine.input_layer.InputLayer at 0x1de8deb90>,\n",
       " <keras.layers.merging.concatenate.Concatenate at 0x1de8b6a50>,\n",
       " <keras.layers.core.dense.Dense at 0x1de8caf50>,\n",
       " <keras.layers.core.dense.Dense at 0x1de8c0c10>,\n",
       " <keras.layers.core.dense.Dense at 0x1de8c0d10>]"
      ]
     },
     "execution_count": 24,
     "metadata": {},
     "output_type": "execute_result"
    }
   ],
   "source": [
    "# 7-12: 함수형 모델에 있는 층의 입력과 출력을 출력\n",
    "model.layers"
   ]
  },
  {
   "cell_type": "code",
   "execution_count": 25,
   "metadata": {},
   "outputs": [
    {
     "data": {
      "text/plain": [
       "[<KerasTensor: shape=(None, 10000) dtype=float32 (created by layer 'title')>,\n",
       " <KerasTensor: shape=(None, 10000) dtype=float32 (created by layer 'text_body')>,\n",
       " <KerasTensor: shape=(None, 100) dtype=float32 (created by layer 'tags')>]"
      ]
     },
     "execution_count": 25,
     "metadata": {},
     "output_type": "execute_result"
    }
   ],
   "source": [
    "model.layers[3].input"
   ]
  },
  {
   "cell_type": "code",
   "execution_count": 26,
   "metadata": {},
   "outputs": [
    {
     "data": {
      "text/plain": [
       "<KerasTensor: shape=(None, 20100) dtype=float32 (created by layer 'concatenate')>"
      ]
     },
     "execution_count": 26,
     "metadata": {},
     "output_type": "execute_result"
    }
   ],
   "source": [
    "model.layers[3].output"
   ]
  },
  {
   "cell_type": "code",
   "execution_count": 27,
   "metadata": {},
   "outputs": [],
   "source": [
    "# 7-13: 중간층의 출력을 재사용해서 새로운 모델 만들기\n",
    "features = model.layers[4].output\n",
    "difficulty = layers.Dense(3, activation=\"softmax\", name=\"difficulty\")(features)\n",
    "\n",
    "new_model = keras.Model(\n",
    "    inputs=[title, text_body, tags],\n",
    "    outputs=[priority, department, difficulty])"
   ]
  },
  {
   "cell_type": "code",
   "execution_count": 28,
   "metadata": {},
   "outputs": [
    {
     "data": {
      "image/png": "[encoded data removed]",
      "text/plain": [
       "<IPython.core.display.Image object>"
      ]
     },
     "execution_count": 28,
     "metadata": {},
     "output_type": "execute_result"
    }
   ],
   "source": [
    "keras.utils.plot_model(new_model, \"updated_ticket_classifier.png\", show_shapes=True)"
   ]
  },
  {
   "cell_type": "markdown",
   "metadata": {},
   "source": [
    "### 7.2.3. Model 서브클래싱\n",
    "- \\_\\_init\\_\\_() 메서드에서 모델이 사용할 층 정의\n",
    "- call() 메서드에서 앞서 만든 층을 사용하여 모델의 정방향 패스를 정의\n",
    "- 서브클래스의 객체를 만들고 데이터와 함께 호출하여 가중치 생성"
   ]
  },
  {
   "cell_type": "code",
   "execution_count": 29,
   "metadata": {},
   "outputs": [],
   "source": [
    "# 7-14: 간단한 서브클래싱 모델\n",
    "class CustomerTicketModel(keras.Model):\n",
    "\n",
    "    def __init__(self, num_departments):\n",
    "        # 무보 클래스의 생성자 호출\n",
    "        super().__init__()\n",
    "        self.concat_layer = layers.Concatenate()\n",
    "        self.mixing_layer = layers.Dense(64, activation=\"relu\")\n",
    "        self.priority_scorer = layers.Dense(1, activation=\"sigmoid\")\n",
    "        self.department_classifier = layers.Dense(\n",
    "            num_departments, activation=\"softmax\")\n",
    "\n",
    "    # call() 메서드에서 정방향 패스를 정의\n",
    "    def call(self, inputs):\n",
    "        title = inputs[\"title\"]\n",
    "        text_body = inputs[\"text_body\"]\n",
    "        tags = inputs[\"tags\"]\n",
    "\n",
    "        features = self.concat_layer([title, text_body, tags])\n",
    "        features = self.mixing_layer(features)\n",
    "        priority = self.priority_scorer(features)\n",
    "        department = self.department_classifier(features)\n",
    "        return priority, department"
   ]
  },
  {
   "cell_type": "code",
   "execution_count": 30,
   "metadata": {},
   "outputs": [],
   "source": [
    "model = CustomerTicketModel(num_departments=4)\n",
    "\n",
    "priority, department = model(\n",
    "    {\"title\": title_data, \"text_body\": text_body_data, \"tags\": tags_data})"
   ]
  },
  {
   "cell_type": "code",
   "execution_count": 31,
   "metadata": {},
   "outputs": [
    {
     "name": "stdout",
     "output_type": "stream",
     "text": [
      "40/40 [==============================] - 1s 10ms/step - loss: 20.3904 - output_1_loss: 0.3257 - output_2_loss: 20.0647 - output_1_mean_absolute_error: 0.4896 - output_2_accuracy: 0.2516\n",
      "40/40 [==============================] - 0s 4ms/step - loss: 11.0115 - output_1_loss: 0.3354 - output_2_loss: 10.6761 - output_1_mean_absolute_error: 0.4995 - output_2_accuracy: 0.2688\n",
      "40/40 [==============================] - 0s 3ms/step\n"
     ]
    }
   ],
   "source": [
    "model.compile(optimizer=\"rmsprop\",\n",
    "              # 손실과 측정 지표로 전달하는 값은 call() 메서드가 반환하는 것과 일치해야 함\n",
    "              loss=[\"mean_squared_error\", \"categorical_crossentropy\"],\n",
    "              metrics=[[\"mean_absolute_error\"], [\"accuracy\"]])\n",
    "# 입력 데이터 구조는 call() 메서드가 기대하는 것과 일치해야 함 - 여기서는 title, text_body, tags 키를 가진 딕셔너리.\n",
    "model.fit({\"title\": title_data,\n",
    "           \"text_body\": text_body_data,\n",
    "           \"tags\": tags_data},\n",
    "           # 타깃 데이터의 구조는 call() 메서드가 반환하는 것과 정확히 일치해야 함 - 여기서는 2개의 원소를 가진 리스트\n",
    "          [priority_data, department_data],\n",
    "          epochs=1)\n",
    "model.evaluate({\"title\": title_data,\n",
    "                \"text_body\": text_body_data,\n",
    "                \"tags\": tags_data},\n",
    "               [priority_data, department_data])\n",
    "priority_preds, department_preds = model.predict({\"title\": title_data,\n",
    "                                                  \"text_body\": text_body_data,\n",
    "                                                  \"tags\": tags_data})"
   ]
  },
  {
   "cell_type": "markdown",
   "metadata": {},
   "source": [
    "<b> 서브클래싱된 모델이 지원하지 않는 것 </b>\n",
    "- 다양한 메서드와 메서드를 통한 정보를 활용할 수 없음 (ex. call()의 정보, summary() 출력, plot_model(), ...)"
   ]
  },
  {
   "cell_type": "markdown",
   "metadata": {},
   "source": [
    "### 7.2.4. 여러 방식을 혼합하여 사용하기"
   ]
  },
  {
   "cell_type": "code",
   "execution_count": 32,
   "metadata": {},
   "outputs": [],
   "source": [
    "# 7-15: 서브클래싱한 모델을 포함하는 함수형 모델 만들기\n",
    "class Classifier(keras.Model):\n",
    "\n",
    "    def __init__(self, num_classes=2):\n",
    "        super().__init__()\n",
    "        if num_classes == 2:\n",
    "            num_units = 1\n",
    "            activation = \"sigmoid\"\n",
    "        else:\n",
    "            num_units = num_classes\n",
    "            activation = \"softmax\"\n",
    "        self.dense = layers.Dense(num_units, activation=activation)\n",
    "\n",
    "    def call(self, inputs):\n",
    "        return self.dense(inputs)\n",
    "\n",
    "inputs = keras.Input(shape=(3,))\n",
    "features = layers.Dense(64, activation=\"relu\")(inputs)\n",
    "outputs = Classifier(num_classes=10)(features)\n",
    "model = keras.Model(inputs=inputs, outputs=outputs)"
   ]
  },
  {
   "cell_type": "code",
   "execution_count": 33,
   "metadata": {},
   "outputs": [],
   "source": [
    "# 7-16: 함수형 모델을 표함하는 서브클래싱 모델 만들기\n",
    "inputs = keras.Input(shape=(64,))\n",
    "outputs = layers.Dense(1, activation=\"sigmoid\")(inputs)\n",
    "binary_classifier = keras.Model(inputs=inputs, outputs=outputs)\n",
    "\n",
    "class MyModel(keras.Model):\n",
    "\n",
    "    def __init__(self, num_classes=2):\n",
    "        super().__init__()\n",
    "        self.dense = layers.Dense(64, activation=\"relu\")\n",
    "        self.classifier = binary_classifier\n",
    "\n",
    "    def call(self, inputs):\n",
    "        features = self.dense(inputs)\n",
    "        return self.classifier(features)\n",
    "\n",
    "model = MyModel()"
   ]
  },
  {
   "cell_type": "markdown",
   "metadata": {},
   "source": [
    "### 7.2.5. 작업에 적합한 도구 사용하기\n",
    "- 함수형 API : 쉬운 사용성과 유연성 사이에 적절한 절충점\n",
    "- 일반적으로 서브클래싱 층을 포함한 함수형 모델을 사용하면 함수형 API의 장점을 유지하면서 높은 개발 유연성 확보 가능"
   ]
  },
  {
   "cell_type": "markdown",
   "metadata": {},
   "source": [
    "## 7.3. 내장된 훈련 루프와 평가 루프 사용하기"
   ]
  },
  {
   "cell_type": "code",
   "execution_count": 34,
   "metadata": {},
   "outputs": [
    {
     "name": "stdout",
     "output_type": "stream",
     "text": [
      "Epoch 1/3\n",
      "1563/1563 [==============================] - 9s 5ms/step - loss: 0.2947 - accuracy: 0.9112 - val_loss: 0.1390 - val_accuracy: 0.9605\n",
      "Epoch 2/3\n",
      "1563/1563 [==============================] - 9s 6ms/step - loss: 0.1595 - accuracy: 0.9531 - val_loss: 0.1104 - val_accuracy: 0.9685\n",
      "Epoch 3/3\n",
      "1563/1563 [==============================] - 8s 5ms/step - loss: 0.1274 - accuracy: 0.9639 - val_loss: 0.0984 - val_accuracy: 0.9738\n",
      "313/313 [==============================] - 1s 2ms/step - loss: 0.0915 - accuracy: 0.9759\n",
      "313/313 [==============================] - 1s 2ms/step\n"
     ]
    }
   ],
   "source": [
    "# 7-17: 표준 워크플로: compile(), fit(), evaluate(), predict()\n",
    "from tensorflow.keras.datasets import mnist\n",
    "\n",
    "# 모델 생성 (이후에 재사용 할 수 있도록 함수로 생성)\n",
    "def get_mnist_model():\n",
    "    inputs = keras.Input(shape=(28 * 28,))\n",
    "    features = layers.Dense(512, activation=\"relu\")(inputs)\n",
    "    features = layers.Dropout(0.5)(features)\n",
    "    outputs = layers.Dense(10, activation=\"softmax\")(features)\n",
    "    model = keras.Model(inputs, outputs)\n",
    "    return model\n",
    "\n",
    "(images, labels), (test_images, test_labels) = mnist.load_data()\n",
    "images = images.reshape((60000, 28 * 28)).astype(\"float32\") / 255\n",
    "test_images = test_images.reshape((10000, 28 * 28)).astype(\"float32\") / 255\n",
    "train_images, val_images = images[10000:], images[:10000]\n",
    "train_labels, val_labels = labels[10000:], labels[:10000]\n",
    "\n",
    "model = get_mnist_model()\n",
    "model.compile(optimizer=\"rmsprop\",\n",
    "              loss=\"sparse_categorical_crossentropy\",\n",
    "              metrics=[\"accuracy\"])\n",
    "model.fit(train_images, train_labels,\n",
    "          epochs=3,\n",
    "          validation_data=(val_images, val_labels))\n",
    "test_metrics = model.evaluate(test_images, test_labels)\n",
    "predictions = model.predict(test_images)"
   ]
  },
  {
   "cell_type": "markdown",
   "metadata": {},
   "source": [
    "워크플로 커스터마이징\n",
    "- 사용자 정의 측정 지표 전달\n",
    "- `fit()` 메서드에 **콜백**(callback)을 전달하여 훈련하는 동안 특정 시점에 수행될 행동을 예약"
   ]
  },
  {
   "cell_type": "markdown",
   "metadata": {},
   "source": [
    "### 7.3.1. 사용자 정의 지표 만들기"
   ]
  },
  {
   "cell_type": "code",
   "execution_count": null,
   "metadata": {},
   "outputs": [],
   "source": [
    "# 7-18: Metric 클래스를 상속하여 사용자 정의 지표 구현하기\n",
    "import tensorflow as tf\n",
    "\n",
    "# metric 클래스 상속\n",
    "class RootMeanSquaredError(keras.metrics.Metric):\n",
    "\n",
    "    # 생성자에서 상태 변수 정의. 층과 마찬가지로 add_weight() 메서드 사용\n",
    "    def __init__(self, name=\"rmse\", **kwargs):\n",
    "        super().__init__(name=name, **kwargs)\n",
    "        self.mse_sum = self.add_weight(name=\"mse_sum\", initializer=\"zeros\")\n",
    "        self.total_samples = self.add_weight(\n",
    "            name=\"total_samples\", initializer=\"zeros\", dtype=\"int32\")\n",
    "\n",
    "    # 역전파로 업데이트가 되지 않으므로 상태 업데이트 로직을 update_state() 메서드 안에 직접 작성\n",
    "    def update_state(self, y_true, y_pred, sample_weight=None):\n",
    "        # y_pred는 각 클래스에 대한 확률을 담고 있으므로 이에 맞추어 원-핫 인코딩 변환\n",
    "        y_true = tf.one_hot(y_true, depth=tf.shape(y_pred)[1])\n",
    "        mse = tf.reduce_sum(tf.square(y_true - y_pred))\n",
    "        self.mse_sum.assign_add(mse)\n",
    "        num_samples = tf.shape(y_pred)[0]\n",
    "        self.total_samples.assign_add(num_samples)\n",
    "\n",
    "    # 현재 지표 값 반환\n",
    "    def result(self):\n",
    "        return tf.sqrt(self.mse_sum / tf.cast(self.total_samples, tf.float32))\n",
    "\n",
    "    # 객체 상태 초기화 - 지표 객체 하나를 서로 다른 훈련 반복에 사용하거나 훈련, 평가에 모두 사용 가능\n",
    "    def reset_state(self):\n",
    "        self.mse_sum.assign(0.)\n",
    "        self.total_samples.assign(0)"
   ]
  },
  {
   "cell_type": "markdown",
   "metadata": {},
   "source": [
    "진행 표시줄에 RMSE 값이 표시"
   ]
  },
  {
   "cell_type": "code",
   "execution_count": 36,
   "metadata": {},
   "outputs": [
    {
     "name": "stdout",
     "output_type": "stream",
     "text": [
      "Epoch 1/3\n",
      "1563/1563 [==============================] - 8s 5ms/step - loss: 0.2933 - accuracy: 0.9129 - rmse: 7.1785 - val_loss: 0.1506 - val_accuracy: 0.9564 - val_rmse: 7.3606\n",
      "Epoch 2/3\n",
      "1563/1563 [==============================] - 8s 5ms/step - loss: 0.1573 - accuracy: 0.9550 - rmse: 7.3531 - val_loss: 0.1173 - val_accuracy: 0.9668 - val_rmse: 7.4033\n",
      "Epoch 3/3\n",
      "1563/1563 [==============================] - 8s 5ms/step - loss: 0.1290 - accuracy: 0.9634 - rmse: 7.3846 - val_loss: 0.1042 - val_accuracy: 0.9725 - val_rmse: 7.4245\n",
      "313/313 [==============================] - 1s 2ms/step - loss: 0.0897 - accuracy: 0.9747 - rmse: 7.4362\n"
     ]
    }
   ],
   "source": [
    "model = get_mnist_model()\n",
    "model.compile(optimizer=\"rmsprop\",\n",
    "              loss=\"sparse_categorical_crossentropy\",\n",
    "              metrics=[\"accuracy\", RootMeanSquaredError()])\n",
    "model.fit(train_images, train_labels,\n",
    "          epochs=3,\n",
    "          validation_data=(val_images, val_labels))\n",
    "test_metrics = model.evaluate(test_images, test_labels)"
   ]
  },
  {
   "cell_type": "markdown",
   "metadata": {},
   "source": [
    "### 7.3.2. 콜백 사용하기\n",
    "- 콜백을 사용하면 모델 스스로 판단하고 동적으로 작동할 수 있게 됨"
   ]
  },
  {
   "cell_type": "markdown",
   "metadata": {},
   "source": [
    "**콜백을 사용하는 몇 가지 사례**\n",
    "- 모델 체크포인트 저장 : 훈련하는 동안 어떤 지점에서 모델의 현재 가중치 저장\n",
    "- 조기 종료 : 검증 손실이 더 이상 향상되지 않을 때 훈련 중지\n",
    "- 훈련하는 동안 하이퍼파라미터 값을 동적으로 조정 : 옵티마이저의 학습률 같은 경우\n",
    "- 훈련과 검증 지표를 로그에 기록하거나 모델이 학습한 표현이 업데이트될 때마다 시각화 : ex. `fit()` 메서드의 진행 표시줄"
   ]
  },
  {
   "cell_type": "markdown",
   "metadata": {},
   "source": [
    "**ModelCheckpoint와 EarlyStopping 콜백**"
   ]
  },
  {
   "cell_type": "code",
   "execution_count": 37,
   "metadata": {},
   "outputs": [
    {
     "name": "stdout",
     "output_type": "stream",
     "text": [
      "Epoch 1/10\n",
      "1563/1563 [==============================] - 11s 7ms/step - loss: 0.2930 - accuracy: 0.9132 - val_loss: 0.1451 - val_accuracy: 0.9585\n",
      "Epoch 2/10\n",
      "1563/1563 [==============================] - 11s 7ms/step - loss: 0.1620 - accuracy: 0.9542 - val_loss: 0.1171 - val_accuracy: 0.9690\n",
      "Epoch 3/10\n",
      "1563/1563 [==============================] - 9s 6ms/step - loss: 0.1298 - accuracy: 0.9632 - val_loss: 0.1018 - val_accuracy: 0.9731\n",
      "Epoch 4/10\n",
      "1563/1563 [==============================] - 8s 5ms/step - loss: 0.1144 - accuracy: 0.9673 - val_loss: 0.1008 - val_accuracy: 0.9727\n",
      "Epoch 5/10\n",
      "1563/1563 [==============================] - 9s 6ms/step - loss: 0.1055 - accuracy: 0.9725 - val_loss: 0.0962 - val_accuracy: 0.9768\n",
      "Epoch 6/10\n",
      "1563/1563 [==============================] - 8s 5ms/step - loss: 0.0925 - accuracy: 0.9750 - val_loss: 0.0920 - val_accuracy: 0.9769\n",
      "Epoch 7/10\n",
      "1563/1563 [==============================] - 7s 5ms/step - loss: 0.0889 - accuracy: 0.9760 - val_loss: 0.0877 - val_accuracy: 0.9794\n",
      "Epoch 8/10\n",
      "1563/1563 [==============================] - 7s 5ms/step - loss: 0.0816 - accuracy: 0.9776 - val_loss: 0.0852 - val_accuracy: 0.9797\n",
      "Epoch 9/10\n",
      "1563/1563 [==============================] - 9s 6ms/step - loss: 0.0772 - accuracy: 0.9791 - val_loss: 0.0901 - val_accuracy: 0.9799\n",
      "Epoch 10/10\n",
      "1563/1563 [==============================] - 10s 7ms/step - loss: 0.0727 - accuracy: 0.9806 - val_loss: 0.0942 - val_accuracy: 0.9801\n"
     ]
    },
    {
     "data": {
      "text/plain": [
       "<keras.callbacks.History at 0x1df1e9b50>"
      ]
     },
     "execution_count": 37,
     "metadata": {},
     "output_type": "execute_result"
    }
   ],
   "source": [
    "# 7-19: fit() 메서드에서 callbacks 매개변수 사용하기\n",
    "# fit() 메서드의 vallbacks 매개변수를 사용하여 콜백의 리스트를 모델로 전달\n",
    "callbacks_list = [\n",
    "    keras.callbacks.EarlyStopping( # 성능 향상이 머무면 훈련 중지\n",
    "        monitor=\"val_accuracy\", # 모델의 검증 정확도를 모니터링\n",
    "        patience=2, # 두 번의 에포크 동안 정확도가 향상되지 않으면 훈련 중지\n",
    "    ),\n",
    "    keras.callbacks.ModelCheckpoint( # 매 에포크 끝에서 현재 가중치 저장\n",
    "        filepath=\"checkpoint_path.h5\", # 모델 파일의 저장 경로\n",
    "        # 아래 두 매개변수는 val_loss가 좋아지지 않으면 모델 파일을 저장하지 않음을 의미 \n",
    "        monitor=\"val_loss\",\n",
    "        save_best_only=True,\n",
    "    )\n",
    "]\n",
    "model = get_mnist_model()\n",
    "model.compile(optimizer=\"rmsprop\",\n",
    "              loss=\"sparse_categorical_crossentropy\",\n",
    "              metrics=[\"accuracy\"]) # 정확도를 모니터링하므로 모델 지표에 포함되어야 함\n",
    "# 콜백이 검증 손실, 정확도를 모니터링 하기에 fit()을 호출할 때 val_data 매개변수로 검증 데이터를 전달\n",
    "# 학습 후 항상 모델을 수동으로 저장할 수 있음\n",
    "model.fit(train_images, train_labels,\n",
    "          epochs=10,\n",
    "          callbacks=callbacks_list,\n",
    "          validation_data=(val_images, val_labels))"
   ]
  },
  {
   "cell_type": "code",
   "execution_count": 38,
   "metadata": {},
   "outputs": [],
   "source": [
    "# 저장된 모델 불러오기\n",
    "model = keras.models.load_model(\"checkpoint_path.h5\")"
   ]
  },
  {
   "cell_type": "markdown",
   "metadata": {},
   "source": [
    "### 7.3.3. 사용자 정의 콜백 만들기\n",
    "- on_epoch_begin\n",
    "- ..."
   ]
  },
  {
   "cell_type": "code",
   "execution_count": 39,
   "metadata": {},
   "outputs": [],
   "source": [
    "# 7-20: Callback 클래스를 상속하여 사용자 정의 콜백 만들기\n",
    "#       훈련 도중 배치 손실 값을 리스트에 추가하고 에포크 끝에서 이 값을 그래프로 저장하는 예\n",
    "from matplotlib import pyplot as plt\n",
    "\n",
    "class LossHistory(keras.callbacks.Callback):\n",
    "    def on_train_begin(self, logs):\n",
    "        self.per_batch_losses = []\n",
    "\n",
    "    def on_batch_end(self, batch, logs):\n",
    "        self.per_batch_losses.append(logs.get(\"loss\"))\n",
    "\n",
    "    def on_epoch_end(self, epoch, logs):\n",
    "        plt.clf()\n",
    "        plt.plot(range(len(self.per_batch_losses)), self.per_batch_losses,\n",
    "                 label=\"Training loss for each batch\")\n",
    "        plt.xlabel(f\"Batch (epoch {epoch})\")\n",
    "        plt.ylabel(\"Loss\")\n",
    "        plt.legend()\n",
    "        plt.savefig(f\"plot_at_epoch_{epoch}\")\n",
    "        self.per_batch_losses = []"
   ]
  },
  {
   "cell_type": "code",
   "execution_count": 40,
   "metadata": {},
   "outputs": [
    {
     "name": "stdout",
     "output_type": "stream",
     "text": [
      "Epoch 1/10\n",
      "1563/1563 [==============================] - 9s 5ms/step - loss: 0.2947 - accuracy: 0.9116 - val_loss: 0.1557 - val_accuracy: 0.9541\n",
      "Epoch 2/10\n",
      "1563/1563 [==============================] - 11s 7ms/step - loss: 0.1565 - accuracy: 0.9553 - val_loss: 0.1168 - val_accuracy: 0.9683\n",
      "Epoch 3/10\n",
      "1563/1563 [==============================] - 8s 5ms/step - loss: 0.1272 - accuracy: 0.9633 - val_loss: 0.0993 - val_accuracy: 0.9739\n",
      "Epoch 4/10\n",
      "1563/1563 [==============================] - 8s 5ms/step - loss: 0.1137 - accuracy: 0.9683 - val_loss: 0.0961 - val_accuracy: 0.9762\n",
      "Epoch 5/10\n",
      "1563/1563 [==============================] - 9s 6ms/step - loss: 0.1023 - accuracy: 0.9724 - val_loss: 0.0934 - val_accuracy: 0.9762\n",
      "Epoch 6/10\n",
      "1563/1563 [==============================] - 12s 8ms/step - loss: 0.0950 - accuracy: 0.9740 - val_loss: 0.0899 - val_accuracy: 0.9786\n",
      "Epoch 7/10\n",
      "1563/1563 [==============================] - 10s 6ms/step - loss: 0.0862 - accuracy: 0.9761 - val_loss: 0.1047 - val_accuracy: 0.9756\n",
      "Epoch 8/10\n",
      "1563/1563 [==============================] - 9s 6ms/step - loss: 0.0796 - accuracy: 0.9778 - val_loss: 0.0894 - val_accuracy: 0.9790\n",
      "Epoch 9/10\n",
      "1563/1563 [==============================] - 9s 6ms/step - loss: 0.0782 - accuracy: 0.9789 - val_loss: 0.0953 - val_accuracy: 0.9786\n",
      "Epoch 10/10\n",
      "1563/1563 [==============================] - 9s 6ms/step - loss: 0.0723 - accuracy: 0.9801 - val_loss: 0.0879 - val_accuracy: 0.9803\n"
     ]
    },
    {
     "data": {
      "text/plain": [
       "<keras.callbacks.History at 0x1dedf6510>"
      ]
     },
     "execution_count": 40,
     "metadata": {},
     "output_type": "execute_result"
    },
    {
     "data": {
      "image/png": "[encoded data removed]",
      "text/plain": [
       "<Figure size 640x480 with 1 Axes>"
      ]
     },
     "metadata": {},
     "output_type": "display_data"
    }
   ],
   "source": [
    "model = get_mnist_model()\n",
    "model.compile(optimizer=\"rmsprop\",\n",
    "              loss=\"sparse_categorical_crossentropy\",\n",
    "              metrics=[\"accuracy\"])\n",
    "model.fit(train_images, train_labels,\n",
    "          epochs=10,\n",
    "          callbacks=[LossHistory()],\n",
    "          validation_data=(val_images, val_labels))"
   ]
  },
  {
   "cell_type": "markdown",
   "metadata": {},
   "source": [
    "### 7.3.4. 텐서보드를 사용한 모니터링과 시각화\n",
    "모델의 최종 손실 외에 더 많은 정보를 모니터링하면 모델 작동에 대한 명확한 그림을 그릴 수 있기에 모델을 더 빠르게 개선 가능"
   ]
  },
  {
   "cell_type": "code",
   "execution_count": 41,
   "metadata": {},
   "outputs": [
    {
     "name": "stdout",
     "output_type": "stream",
     "text": [
      "Epoch 1/10\n",
      "1563/1563 [==============================] - 10s 6ms/step - loss: 0.2902 - accuracy: 0.9146 - val_loss: 0.1544 - val_accuracy: 0.9555\n",
      "Epoch 2/10\n",
      "1563/1563 [==============================] - 9s 6ms/step - loss: 0.1578 - accuracy: 0.9546 - val_loss: 0.1131 - val_accuracy: 0.9689\n",
      "Epoch 3/10\n",
      "1563/1563 [==============================] - 8s 5ms/step - loss: 0.1292 - accuracy: 0.9633 - val_loss: 0.1079 - val_accuracy: 0.9705\n",
      "Epoch 4/10\n",
      "1563/1563 [==============================] - 8s 5ms/step - loss: 0.1130 - accuracy: 0.9685 - val_loss: 0.0976 - val_accuracy: 0.9746\n",
      "Epoch 5/10\n",
      "1563/1563 [==============================] - 9s 6ms/step - loss: 0.1023 - accuracy: 0.9719 - val_loss: 0.0958 - val_accuracy: 0.9738\n",
      "Epoch 6/10\n",
      "1563/1563 [==============================] - 9s 6ms/step - loss: 0.0943 - accuracy: 0.9732 - val_loss: 0.0914 - val_accuracy: 0.9781\n",
      "Epoch 7/10\n",
      "1563/1563 [==============================] - 9s 6ms/step - loss: 0.0878 - accuracy: 0.9760 - val_loss: 0.0888 - val_accuracy: 0.9792\n",
      "Epoch 8/10\n",
      "1563/1563 [==============================] - 8s 5ms/step - loss: 0.0828 - accuracy: 0.9776 - val_loss: 0.0926 - val_accuracy: 0.9782\n",
      "Epoch 9/10\n",
      "1563/1563 [==============================] - 7s 5ms/step - loss: 0.0769 - accuracy: 0.9791 - val_loss: 0.0921 - val_accuracy: 0.9793\n",
      "Epoch 10/10\n",
      "1563/1563 [==============================] - 8s 5ms/step - loss: 0.0690 - accuracy: 0.9812 - val_loss: 0.1031 - val_accuracy: 0.9776\n"
     ]
    },
    {
     "data": {
      "text/plain": [
       "<keras.callbacks.History at 0x1dea11bd0>"
      ]
     },
     "execution_count": 41,
     "metadata": {},
     "output_type": "execute_result"
    }
   ],
   "source": [
    "model = get_mnist_model()\n",
    "model.compile(optimizer=\"rmsprop\",\n",
    "              loss=\"sparse_categorical_crossentropy\",\n",
    "              metrics=[\"accuracy\"])\n",
    "\n",
    "# 지정한 위치에 콜백 로그 기록\n",
    "tensorboard = keras.callbacks.TensorBoard(\n",
    "    log_dir=\"./tb_logs\",\n",
    ")\n",
    "model.fit(train_images, train_labels,\n",
    "          epochs=10,\n",
    "          validation_data=(val_images, val_labels),\n",
    "          callbacks=[tensorboard])"
   ]
  },
  {
   "cell_type": "code",
   "execution_count": 42,
   "metadata": {},
   "outputs": [
    {
     "data": {
      "text/plain": [
       "ERROR: Failed to launch TensorBoard (exited with 1).\n",
       "Contents of stderr:\n",
       "Traceback (most recent call last):\n",
       "  File \"/Users/ian/opt/anaconda3/envs/tf/bin/tensorboard\", line 7, in <module>\n",
       "    from tensorboard.main import run_main\n",
       "  File \"/Users/ian/opt/anaconda3/envs/tf/lib/python3.11/site-packages/tensorboard/main.py\", line 27, in <module>\n",
       "    from tensorboard import default\n",
       "  File \"/Users/ian/opt/anaconda3/envs/tf/lib/python3.11/site-packages/tensorboard/default.py\", line 33, in <module>\n",
       "    from tensorboard.plugins.audio import audio_plugin\n",
       "  File \"/Users/ian/opt/anaconda3/envs/tf/lib/python3.11/site-packages/tensorboard/plugins/audio/audio_plugin.py\", line 25, in <module>\n",
       "    from tensorboard.data import provider\n",
       "  File \"/Users/ian/opt/anaconda3/envs/tf/lib/python3.11/site-packages/tensorboard/data/__init__.py\", line 17, in <module>\n",
       "    from tensorboard.data import experimental  # noqa: F401\n",
       "    ^^^^^^^^^^^^^^^^^^^^^^^^^^^^^^^^^^^^^^^^^\n",
       "  File \"/Users/ian/opt/anaconda3/envs/tf/lib/python3.11/site-packages/tensorboard/data/experimental/__init__.py\", line 17, in <module>\n",
       "    from tensorboard.data.experimental.experiment_from_dev import (  # noqa: F401\n",
       "  File \"/Users/ian/opt/anaconda3/envs/tf/lib/python3.11/site-packages/tensorboard/data/experimental/experiment_from_dev.py\", line 21, in <module>\n",
       "    import grpc\n",
       "  File \"/Users/ian/opt/anaconda3/envs/tf/lib/python3.11/site-packages/grpc/__init__.py\", line 22, in <module>\n",
       "    from grpc import _compression\n",
       "  File \"/Users/ian/opt/anaconda3/envs/tf/lib/python3.11/site-packages/grpc/_compression.py\", line 15, in <module>\n",
       "    from grpc._cython import cygrpc\n",
       "ImportError: dlopen(/Users/ian/opt/anaconda3/envs/tf/lib/python3.11/site-packages/grpc/_cython/cygrpc.cpython-311-darwin.so, 0x0002): Symbol not found: __ZN4absl12lts_2021110219str_format_internal13FormatArgImpl8DispatchINS0_11string_viewEEEbNS2_4DataENS1_24FormatConversionSpecImplEPv\n",
       "  Referenced from: <DE1337BE-69F7-30B5-BB4F-B8F592B8054E> /Users/ian/opt/anaconda3/envs/tf/lib/libgpr.26.0.0.dylib\n",
       "  Expected in:     <71A470E2-6C11-34F5-A20E-AADFDE27C250> /Users/ian/opt/anaconda3/envs/tf/lib/libabsl_str_format_internal.2111.0.0.dylib"
      ]
     },
     "metadata": {},
     "output_type": "display_data"
    }
   ],
   "source": [
    "%load_ext tensorboard\n",
    "%tensorboard --logdir ./tb_logs"
   ]
  },
  {
   "cell_type": "markdown",
   "metadata": {},
   "source": [
    "## 7.4. 사용자 정의 훈련, 평가 루프 만들기"
   ]
  },
  {
   "cell_type": "markdown",
   "metadata": {},
   "source": [
    "### 7.4.1. 훈련 vs. 추론\n",
    "- Dropout 충과 같은 일부 케라스 층은 훈련과 추론에서 동작이 다름 : `dropout(input, training=True)` - 정방향 패스에만 동작\n",
    "- 훈련 가능한 가중치와 훈련되지 않는 가중치 구분 : `model.weights` 대신 `model.trainabel_weights` 사용"
   ]
  },
  {
   "cell_type": "code",
   "execution_count": 43,
   "metadata": {},
   "outputs": [],
   "source": [
    "# 지도 학습을 위한 훈련 스텝 구현\n",
    "def train_step(inputs, targets):\n",
    "    with tf.GradientTape() as tape:\n",
    "        predictions = model(input, training=True)\n",
    "        loss = loss_fn(targets, predictions)\n",
    "    gradients = tape.grdients(loss, model.trainabel_weights)\n",
    "    optimizer.apply_gradients(zip(model.trainabel_weights, gradients))"
   ]
  },
  {
   "cell_type": "markdown",
   "metadata": {},
   "source": [
    "### 7.4.2 측정 지표의 저수준 사용법"
   ]
  },
  {
   "cell_type": "code",
   "execution_count": 44,
   "metadata": {},
   "outputs": [
    {
     "name": "stdout",
     "output_type": "stream",
     "text": [
      "결과: 1.00\n"
     ]
    }
   ],
   "source": [
    "metric = keras.metrics.SparseCategoricalAccuracy()\n",
    "targets = [0, 1, 2]\n",
    "predictions = [[1, 0, 0], [0, 1, 0], [0, 0, 1]]\n",
    "metric.update_state(targets, predictions)\n",
    "current_result = metric.result()\n",
    "print(f\"결과: {current_result:.2f}\")"
   ]
  },
  {
   "cell_type": "code",
   "execution_count": 45,
   "metadata": {},
   "outputs": [
    {
     "name": "stdout",
     "output_type": "stream",
     "text": [
      "평균 지표: 2.00\n"
     ]
    }
   ],
   "source": [
    "values = [0, 1, 2, 3, 4]\n",
    "mean_tracker = keras.metrics.Mean()\n",
    "for value in values:\n",
    "    mean_tracker.update_state(value)\n",
    "print(f\"평균 지표: {mean_tracker.result():.2f}\")"
   ]
  },
  {
   "cell_type": "markdown",
   "metadata": {},
   "source": [
    "### 7.4.3. 완전한 훈련과 평가 루프"
   ]
  },
  {
   "cell_type": "code",
   "execution_count": null,
   "metadata": {},
   "outputs": [],
   "source": [
    "# 7-21: 단계별 훈련 루프 작성하기: 훈련 스텝 함수\n",
    "model = get_mnist_model()\n",
    "\n",
    "loss_fn = keras.losses.SparseCategoricalCrossentropy()\n",
    "optimizer = keras.optimizers.RMSprop()\n",
    "metrics = [keras.metrics.SparseCategoricalAccuracy()]\n",
    "loss_tracking_metric = keras.metrics.Mean()\n",
    "\n",
    "def train_step(inputs, targets):\n",
    "    # 정방향 패스 실행\n",
    "    with tf.GradientTape() as tape:\n",
    "        predictions = model(inputs, training=True)\n",
    "        loss = loss_fn(targets, predictions)\n",
    "    # 역방향 패스 실행\n",
    "    gradients = tape.gradient(loss, model.trainable_weights)\n",
    "    optimizer.apply_gradients(zip(gradients, model.trainable_weights))\n",
    "    \n",
    "    # 측정 지표 계산\n",
    "    logs = {}\n",
    "    for metric in metrics:\n",
    "        metric.update_state(targets, predictions)\n",
    "        logs[metric.name] = metric.result()\n",
    "\n",
    "    # 손실 평균 계산\n",
    "    loss_tracking_metric.update_state(loss)\n",
    "    logs[\"loss\"] = loss_tracking_metric.result()\n",
    "    return logs"
   ]
  },
  {
   "cell_type": "code",
   "execution_count": 47,
   "metadata": {},
   "outputs": [],
   "source": [
    "# 7-22: 단계별 훈련 루프 작성하기: 지표 재설정\n",
    "def reset_metrics():\n",
    "    for metric in metrics:\n",
    "        metric.reset_state()\n",
    "    loss_tracking_metric.reset_state()"
   ]
  },
  {
   "cell_type": "code",
   "execution_count": 48,
   "metadata": {},
   "outputs": [
    {
     "name": "stderr",
     "output_type": "stream",
     "text": [
      "2024-11-12 11:38:49.780534: I tensorflow/core/common_runtime/executor.cc:1197] [/device:CPU:0] (DEBUG INFO) Executor start aborting (this does not indicate an error and you can ignore this message): INVALID_ARGUMENT: You must feed a value for placeholder tensor 'Placeholder/_1' with dtype uint8 and shape [50000]\n",
      "\t [[{{node Placeholder/_1}}]]\n"
     ]
    },
    {
     "name": "stdout",
     "output_type": "stream",
     "text": [
      "0번째 에포크 결과\n",
      "...sparse_categorical_accuracy: 0.9139\n",
      "...loss: 0.2903\n",
      "1번째 에포크 결과\n",
      "...sparse_categorical_accuracy: 0.9533\n",
      "...loss: 0.1628\n",
      "2번째 에포크 결과\n",
      "...sparse_categorical_accuracy: 0.9635\n",
      "...loss: 0.1315\n"
     ]
    }
   ],
   "source": [
    "# 7-23: 단계별 훈련 루프 작성하기: 훈련 루프 자체\n",
    "training_dataset = tf.data.Dataset.from_tensor_slices((train_images, train_labels))\n",
    "training_dataset = training_dataset.batch(32)\n",
    "epochs = 3\n",
    "for epoch in range(epochs):\n",
    "    reset_metrics()\n",
    "    for inputs_batch, targets_batch in training_dataset:\n",
    "        logs = train_step(inputs_batch, targets_batch)\n",
    "    print(f\"{epoch}번째 에포크 결과\")\n",
    "    for key, value in logs.items():\n",
    "        print(f\"...{key}: {value:.4f}\")"
   ]
  },
  {
   "cell_type": "code",
   "execution_count": 49,
   "metadata": {},
   "outputs": [
    {
     "name": "stderr",
     "output_type": "stream",
     "text": [
      "2024-11-12 11:40:34.601379: I tensorflow/core/common_runtime/executor.cc:1197] [/device:CPU:0] (DEBUG INFO) Executor start aborting (this does not indicate an error and you can ignore this message): INVALID_ARGUMENT: You must feed a value for placeholder tensor 'Placeholder/_1' with dtype uint8 and shape [10000]\n",
      "\t [[{{node Placeholder/_1}}]]\n"
     ]
    },
    {
     "name": "stdout",
     "output_type": "stream",
     "text": [
      "평가 결과:\n",
      "...val_sparse_categorical_accuracy: 0.9687\n",
      "...val_loss: 0.1122\n"
     ]
    }
   ],
   "source": [
    "# 7-24: 단계별 평가 루프 작성하기\n",
    "def test_step(inputs, targets):\n",
    "    predictions = model(inputs, training=False)\n",
    "    loss = loss_fn(targets, predictions)\n",
    "\n",
    "    logs = {}\n",
    "    for metric in metrics:\n",
    "        metric.update_state(targets, predictions)\n",
    "        logs[\"val_\" + metric.name] = metric.result()\n",
    "\n",
    "    loss_tracking_metric.update_state(loss)\n",
    "    logs[\"val_loss\"] = loss_tracking_metric.result()\n",
    "    return logs\n",
    "\n",
    "val_dataset = tf.data.Dataset.from_tensor_slices((val_images, val_labels))\n",
    "val_dataset = val_dataset.batch(32)\n",
    "reset_metrics()\n",
    "for inputs_batch, targets_batch in val_dataset:\n",
    "    logs = test_step(inputs_batch, targets_batch)\n",
    "print(\"평가 결과:\")\n",
    "for key, value in logs.items():\n",
    "    print(f\"...{key}: {value:.4f}\")"
   ]
  },
  {
   "cell_type": "markdown",
   "metadata": {},
   "source": [
    "### 7.4.4. tf.function으로 성능 높이기\n",
    "- 텐서플로 코드는 계산 그래프로 컴파일 하는 것이 성능 상승 - 전역적인 최적화 가능\n",
    "- 디버깅할 때는 데코레이터를 쓰지 않고 즉시 실행 모드를 사용하는 것이 좋음"
   ]
  },
  {
   "cell_type": "code",
   "execution_count": 50,
   "metadata": {},
   "outputs": [
    {
     "name": "stderr",
     "output_type": "stream",
     "text": [
      "2024-11-12 11:41:44.744831: I tensorflow/core/common_runtime/executor.cc:1197] [/device:CPU:0] (DEBUG INFO) Executor start aborting (this does not indicate an error and you can ignore this message): INVALID_ARGUMENT: You must feed a value for placeholder tensor 'Placeholder/_1' with dtype uint8 and shape [10000]\n",
      "\t [[{{node Placeholder/_1}}]]\n"
     ]
    },
    {
     "name": "stdout",
     "output_type": "stream",
     "text": [
      "평가 결과:\n",
      "...val_sparse_categorical_accuracy: 0.9687\n",
      "...val_loss: 0.1122\n"
     ]
    }
   ],
   "source": [
    "# 7-25: 평가 스텝 함수에 @tf.function 데코레이터 추가하기\n",
    "@tf.function\n",
    "def test_step(inputs, targets):\n",
    "    predictions = model(inputs, training=False)\n",
    "    loss = loss_fn(targets, predictions)\n",
    "\n",
    "    logs = {}\n",
    "    for metric in metrics:\n",
    "        metric.update_state(targets, predictions)\n",
    "        logs[\"val_\" + metric.name] = metric.result()\n",
    "\n",
    "    loss_tracking_metric.update_state(loss)\n",
    "    logs[\"val_loss\"] = loss_tracking_metric.result()\n",
    "    return logs\n",
    "\n",
    "val_dataset = tf.data.Dataset.from_tensor_slices((val_images, val_labels))\n",
    "val_dataset = val_dataset.batch(32)\n",
    "reset_metrics()\n",
    "for inputs_batch, targets_batch in val_dataset:\n",
    "    logs = test_step(inputs_batch, targets_batch)\n",
    "print(\"평가 결과:\")\n",
    "for key, value in logs.items():\n",
    "    print(f\"...{key}: {value:.4f}\")"
   ]
  },
  {
   "cell_type": "markdown",
   "metadata": {},
   "source": [
    "### 7.4.5. fit() 메서드를 사용자 정의 루프로 활용하기\n",
    "사용자 정의 훈련 스텝 함수를 제공하고 나머지 처리는 프레임워크에 위힘 가능 - Model 클래스의 train_step() 메서드 오버라이딩\n",
    "- keras.Model을 상속한 새로운 클래스 생성\n",
    "- train_step(self, data) 메서드를 오버라이드\n",
    "- 모델의 Metric 객체를 반환하는 metrics 속성 구현\n",
    "    - 매 에포크 시작이나 eval 호출 시 모델이 reset_state() 메서드를 자동 호출 = 수동 지표 설정 X\n"
   ]
  },
  {
   "cell_type": "code",
   "execution_count": 51,
   "metadata": {},
   "outputs": [],
   "source": [
    "# 7-26: fit()이 사용할 사용자 정의 훈련 스텝 구현\n",
    "loss_fn = keras.losses.SparseCategoricalCrossentropy()\n",
    "loss_tracker = keras.metrics.Mean(name=\"loss\")\n",
    "\n",
    "class CustomModel(keras.Model):\n",
    "    # train_step 메서트를 오버라이드\n",
    "    def train_step(self, data):\n",
    "        inputs, targets = data\n",
    "        with tf.GradientTape() as tape:\n",
    "            # 모델이 클래스 자체이므로 model() 대신에 selt() 사용\n",
    "            predictions = self(inputs, training=True)\n",
    "            loss = loss_fn(targets, predictions)\n",
    "        gradients = tape.gradient(loss, self.trainable_weights)\n",
    "        self.optimizer.apply_gradients(zip(gradients, self.trainable_weights))\n",
    "\n",
    "        loss_tracker.update_state(loss)\n",
    "        return {\"loss\": loss_tracker.result()}\n",
    "\n",
    "    @property\n",
    "    # 에포크마다 재설정할 지표는 여기 나열\n",
    "    def metrics(self):\n",
    "        return [loss_tracker]"
   ]
  },
  {
   "cell_type": "code",
   "execution_count": 52,
   "metadata": {},
   "outputs": [
    {
     "name": "stdout",
     "output_type": "stream",
     "text": [
      "Epoch 1/3\n",
      "1563/1563 [==============================] - 9s 5ms/step - loss: 0.2915\n",
      "Epoch 2/3\n",
      "1563/1563 [==============================] - 8s 5ms/step - loss: 0.1561\n",
      "Epoch 3/3\n",
      "1563/1563 [==============================] - 9s 6ms/step - loss: 0.1264\n"
     ]
    },
    {
     "data": {
      "text/plain": [
       "<keras.callbacks.History at 0x1e1357490>"
      ]
     },
     "execution_count": 52,
     "metadata": {},
     "output_type": "execute_result"
    }
   ],
   "source": [
    "inputs = keras.Input(shape=(28 * 28,))\n",
    "features = layers.Dense(512, activation=\"relu\")(inputs)\n",
    "features = layers.Dropout(0.5)(features)\n",
    "outputs = layers.Dense(10, activation=\"softmax\")(features)\n",
    "model = CustomModel(inputs, outputs)\n",
    "\n",
    "model.compile(optimizer=keras.optimizers.RMSprop())\n",
    "model.fit(train_images, train_labels, epochs=3)"
   ]
  },
  {
   "cell_type": "markdown",
   "metadata": {},
   "source": [
    "주의할 점\n",
    "- 이 패턴 때문에 함수형 API로 모델을 만드는 데 문제가 되지 않음. 즉, 어떤 방식을 사용해서 모델을 만들어도 이 방식을 사용할 수 있음\n",
    "- 프레임워크가 알아서 처리하기 때문에 train_step 메서드를 오버라이딩할 때 @tf.function 데코레이터를 사용할 필요 없음"
   ]
  },
  {
   "cell_type": "markdown",
   "metadata": {},
   "source": [
    "`Compile()` 메서드를 통해 지표와 손실 설정\n",
    "- `self.compiled_loss` : 메서드에 전달한 손실 함수\n",
    "- `self.compiled_metrics` : 메서드에 전달된 지표 목록이 포함되어 있는 객체. `self.compiled_metrics.update_state(`)`를 호출해 모든 지표를 동시에 업데이트 가능\n",
    "- `self.metrics` : `compile()` 메서드에 전달한 실제 지표의 목록. 앞서 `loss_tracking_metric`으로 수동으로 했던 것과 비슷하게 손실을 추적하는 지표 포함"
   ]
  },
  {
   "cell_type": "code",
   "execution_count": 53,
   "metadata": {},
   "outputs": [],
   "source": [
    "class CustomModel(keras.Model):\n",
    "    def train_step(self, data):\n",
    "        inputs, targets = data\n",
    "        with tf.GradientTape() as tape:\n",
    "            predictions = self(inputs, training=True)\n",
    "            # self.compiled_loss를 사용해서 손실 계산\n",
    "            loss = self.compiled_loss(targets, predictions)\n",
    "        gradients = tape.gradient(loss, self.trainable_weights)\n",
    "        self.optimizer.apply_gradients(zip(gradients, self.trainable_weights))\n",
    "        # self.compiled_metrics로 모델 지표 업데이트\n",
    "        self.compiled_metrics.update_state(targets, predictions)\n",
    "        # 측정 지표 이름과 현재 값을 매필한 딕셔너리 반환\n",
    "        return {m.name: m.result() for m in self.metrics}"
   ]
  },
  {
   "cell_type": "code",
   "execution_count": 54,
   "metadata": {},
   "outputs": [
    {
     "name": "stdout",
     "output_type": "stream",
     "text": [
      "Epoch 1/3\n",
      "1563/1563 [==============================] - 8s 5ms/step - loss: 0.2979 - sparse_categorical_accuracy: 0.9110\n",
      "Epoch 2/3\n",
      "1563/1563 [==============================] - 8s 5ms/step - loss: 0.1601 - sparse_categorical_accuracy: 0.9538\n",
      "Epoch 3/3\n",
      "1563/1563 [==============================] - 11s 7ms/step - loss: 0.1324 - sparse_categorical_accuracy: 0.9633\n"
     ]
    },
    {
     "data": {
      "text/plain": [
       "<keras.callbacks.History at 0x1e44dc410>"
      ]
     },
     "execution_count": 54,
     "metadata": {},
     "output_type": "execute_result"
    }
   ],
   "source": [
    "inputs = keras.Input(shape=(28 * 28,))\n",
    "features = layers.Dense(512, activation=\"relu\")(inputs)\n",
    "features = layers.Dropout(0.5)(features)\n",
    "outputs = layers.Dense(10, activation=\"softmax\")(features)\n",
    "model = CustomModel(inputs, outputs)\n",
    "\n",
    "model.compile(optimizer=keras.optimizers.RMSprop(),\n",
    "              loss=keras.losses.SparseCategoricalCrossentropy(),\n",
    "              metrics=[keras.metrics.SparseCategoricalAccuracy()])\n",
    "model.fit(train_images, train_labels, epochs=3)"
   ]
  },
  {
   "cell_type": "markdown",
   "metadata": {},
   "source": [
    "## 7.5. 요약\n",
    "- 케라스는 복잡성의 단계적 공개 원칙을 기반으로 다양한 워크플로 제공. 워크플로는 부드럽게 서로 상호 운영 가능\n",
    "- Sequential 클래스, 함수형 API를 사용하거나 Model 클래스를 상속하여 모델을 만들 수 있음. 대부분 함수형 API를 사용할 것.\n",
    "- 모델을 훈련하고 평가하는 가장 간단한 방법은 기본으로 제공되는 `fit()`과 `evaluation()` 메서드를 사용하는 것\n",
    "- 케라스의 콜백은 `fit()`메서드가 실행되는 동안 모델을 모니터링하고 모델의 상태에 따라 자동으로 행동을 수행할 수 있는 간단한 방법\n",
    "- `train_steo()`메서드를 오버라이딩하여 `fit()` 메서드의 동작을 완전히 제어할 수 있음\n",
    "- `fit()` 메서드를 넘어서 밑바닥부터 자신만의 훈련 루프를 작성할 수 있음"
   ]
  },
  {
   "cell_type": "markdown",
   "metadata": {},
   "source": []
  }
 ],
 "metadata": {
  "kernelspec": {
   "display_name": "tf",
   "language": "python",
   "name": "python3"
  },
  "language_info": {
   "codemirror_mode": {
    "name": "ipython",
    "version": 3
   },
   "file_extension": ".py",
   "mimetype": "text/x-python",
   "name": "python",
   "nbconvert_exporter": "python",
   "pygments_lexer": "ipython3",
   "version": "3.11.5"
  }
 },
 "nbformat": 4,
 "nbformat_minor": 2
}
