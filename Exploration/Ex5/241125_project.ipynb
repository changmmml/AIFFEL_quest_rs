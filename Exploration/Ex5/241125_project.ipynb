{
 "cells": [
  {
   "cell_type": "markdown",
   "id": "bb8f63bb",
   "metadata": {},
   "source": [
    "# 6. 영화리뷰 텍스트 감성분석하기 [프로젝트]\n",
    "## 6-1. 프로젝트 : 네이버 영화리뷰 감성분석 도전하기"
   ]
  },
  {
   "cell_type": "code",
   "execution_count": 1,
   "id": "8537ae90",
   "metadata": {},
   "outputs": [
    {
     "name": "stdout",
     "output_type": "stream",
     "text": [
      "1.3.3\n",
      "0.5.2\n",
      "4.1.2\n"
     ]
    }
   ],
   "source": [
    "# 라이브러리 버전 확인\n",
    "import pandas\n",
    "import konlpy\n",
    "import gensim\n",
    "\n",
    "print(pandas.__version__)\n",
    "print(konlpy.__version__)\n",
    "print(gensim.__version__)"
   ]
  },
  {
   "cell_type": "markdown",
   "id": "60f10a8b",
   "metadata": {},
   "source": [
    "### 1) 데이터 준비와 확인"
   ]
  },
  {
   "cell_type": "code",
   "execution_count": 2,
   "id": "b43f1df0",
   "metadata": {},
   "outputs": [
    {
     "data": {
      "text/html": [
       "<div>\n",
       "<style scoped>\n",
       "    .dataframe tbody tr th:only-of-type {\n",
       "        vertical-align: middle;\n",
       "    }\n",
       "\n",
       "    .dataframe tbody tr th {\n",
       "        vertical-align: top;\n",
       "    }\n",
       "\n",
       "    .dataframe thead th {\n",
       "        text-align: right;\n",
       "    }\n",
       "</style>\n",
       "<table border=\"1\" class=\"dataframe\">\n",
       "  <thead>\n",
       "    <tr style=\"text-align: right;\">\n",
       "      <th></th>\n",
       "      <th>id</th>\n",
       "      <th>document</th>\n",
       "      <th>label</th>\n",
       "    </tr>\n",
       "  </thead>\n",
       "  <tbody>\n",
       "    <tr>\n",
       "      <th>0</th>\n",
       "      <td>9976970</td>\n",
       "      <td>아 더빙.. 진짜 짜증나네요 목소리</td>\n",
       "      <td>0</td>\n",
       "    </tr>\n",
       "    <tr>\n",
       "      <th>1</th>\n",
       "      <td>3819312</td>\n",
       "      <td>흠...포스터보고 초딩영화줄....오버연기조차 가볍지 않구나</td>\n",
       "      <td>1</td>\n",
       "    </tr>\n",
       "    <tr>\n",
       "      <th>2</th>\n",
       "      <td>10265843</td>\n",
       "      <td>너무재밓었다그래서보는것을추천한다</td>\n",
       "      <td>0</td>\n",
       "    </tr>\n",
       "    <tr>\n",
       "      <th>3</th>\n",
       "      <td>9045019</td>\n",
       "      <td>교도소 이야기구먼 ..솔직히 재미는 없다..평점 조정</td>\n",
       "      <td>0</td>\n",
       "    </tr>\n",
       "    <tr>\n",
       "      <th>4</th>\n",
       "      <td>6483659</td>\n",
       "      <td>사이몬페그의 익살스런 연기가 돋보였던 영화!스파이더맨에서 늙어보이기만 했던 커스틴 ...</td>\n",
       "      <td>1</td>\n",
       "    </tr>\n",
       "  </tbody>\n",
       "</table>\n",
       "</div>"
      ],
      "text/plain": [
       "         id                                           document  label\n",
       "0   9976970                                아 더빙.. 진짜 짜증나네요 목소리      0\n",
       "1   3819312                  흠...포스터보고 초딩영화줄....오버연기조차 가볍지 않구나      1\n",
       "2  10265843                                  너무재밓었다그래서보는것을추천한다      0\n",
       "3   9045019                      교도소 이야기구먼 ..솔직히 재미는 없다..평점 조정      0\n",
       "4   6483659  사이몬페그의 익살스런 연기가 돋보였던 영화!스파이더맨에서 늙어보이기만 했던 커스틴 ...      1"
      ]
     },
     "execution_count": 2,
     "metadata": {},
     "output_type": "execute_result"
    }
   ],
   "source": [
    "import pandas as pd\n",
    "\n",
    "# 데이터를 읽어봅시다. \n",
    "train_data = pd.read_table('~/aiffel/sentiment_classification/data/ratings_train.txt')\n",
    "test_data = pd.read_table('~/aiffel/sentiment_classification/data/ratings_test.txt')\n",
    "\n",
    "train_data.head()"
   ]
  },
  {
   "cell_type": "markdown",
   "id": "99d3c3f5",
   "metadata": {},
   "source": [
    "### 2) 데이터로더 구성\n",
    "실습 때 다루었던 IMDB 데이터셋은 텍스트를 가공하여 imdb.data_loader() 메서드를 호출하면 숫자 인덱스로 변환된 텍스트와 word_to_index 딕셔너리까지 친절하게 제공합니다. 그러나 이번에 다루게 될 nsmc 데이터셋은 전혀 가공되지 않은 텍스트 파일로 이루어져 있습니다. 이것을 읽어서 imdb.data_loader()와 동일하게 동작하는 자신만의 data_loader를 만들어 보는 것으로 시작합니다.\n",
    "\n",
    "data_loader 안에서는 다음을 수행해야 합니다.\n",
    "- 데이터의 중복 제거\n",
    "- NaN 결측치 제거\n",
    "- 한국어 토크나이저로 토큰화\n",
    "- 불용어(Stopwords) 제거\n",
    "- 사전word_to_index 구성\n",
    "- 텍스트 스트링을 사전 인덱스 스트링으로 변환\n",
    "- X_train, y_train, X_test, y_test, word_to_index 리턴"
   ]
  },
  {
   "cell_type": "code",
   "execution_count": 3,
   "id": "fb4adea6",
   "metadata": {},
   "outputs": [],
   "source": [
    "from konlpy.tag import Mecab\n",
    "import numpy as np\n",
    "from collections import Counter\n",
    "\n",
    "tokenizer = Mecab()\n",
    "stopwords = ['의','가','이','은','들','는','좀','잘','걍','과','도','를','으로','자','에','와','한','하다']\n",
    "num_words = 10000\n",
    "\n",
    "def load_data(train_data, test_data, num_words=num_words):\n",
    "    train_data.drop_duplicates(subset=['document'], inplace=True) # 데이터의 중복 제거\n",
    "    train_data = train_data.dropna(how = 'any') # NaN 결측치 제거\n",
    "    test_data.drop_duplicates(subset=['document'], inplace=True) # 데이터의 중복 제거\n",
    "    test_data = test_data.dropna(how = 'any') # NaN 결측치 제거\n",
    "\n",
    "    X_train = []\n",
    "    for sentence in train_data['document']:\n",
    "        temp_X = tokenizer.morphs(sentence) # 토큰화\n",
    "        temp_X = [word for word in temp_X if not word in stopwords] # 불용어 제거\n",
    "        X_train.append(temp_X)\n",
    "\n",
    "    X_test = []\n",
    "    for sentence in test_data['document']:\n",
    "        temp_X = tokenizer.morphs(sentence) # 토큰화\n",
    "        temp_X = [word for word in temp_X if not word in stopwords] # 불용어 제거\n",
    "        X_test.append(temp_X)\n",
    "    \n",
    "    words = np.concatenate(X_train).tolist()\n",
    "    counter = Counter(words)\n",
    "    counter = counter.most_common(10000-4)\n",
    "    vocab = ['<PAD>', '<UNK>', '<BOS>', '<UNUSE>'] + [key for key, _ in counter]\n",
    "    word_to_index = {word:index for index, word in enumerate(vocab)}\n",
    "        \n",
    "    def wordlist_to_indexlist(wordlist):\n",
    "        return [word_to_index[word] if word in word_to_index else word_to_index['<UNK>'] for word in wordlist]\n",
    "        \n",
    "    X_train = list(map(wordlist_to_indexlist, X_train))\n",
    "    X_test = list(map(wordlist_to_indexlist, X_test))\n",
    "        \n",
    "    return X_train, np.array(list(train_data['label'])), X_test, np.array(list(test_data['label'])), word_to_index\n",
    "\n",
    "    \n",
    "X_train, y_train, X_test, y_test, word_to_index = load_data(train_data, test_data)"
   ]
  },
  {
   "cell_type": "code",
   "execution_count": 4,
   "id": "5c973b2d",
   "metadata": {},
   "outputs": [],
   "source": [
    "index_to_word = {index:word for word, index in word_to_index.items()}"
   ]
  },
  {
   "cell_type": "code",
   "execution_count": 5,
   "id": "9981c7fc",
   "metadata": {},
   "outputs": [],
   "source": [
    "# 문장 1개를 활용할 딕셔너리와 함께 주면, 단어 인덱스 리스트 벡터로 변환해 주는 함수입니다. \n",
    "# 단, 모든 문장은 <BOS>로 시작하는 것으로 합니다. \n",
    "def get_encoded_sentence(sentence, word_to_index):\n",
    "    return [word_to_index['<BOS>']]+[word_to_index[word] if word in word_to_index else word_to_index['<UNK>'] for word in sentence.split()]\n",
    "\n",
    "# 여러 개의 문장 리스트를 한꺼번에 단어 인덱스 리스트 벡터로 encode해 주는 함수입니다. \n",
    "def get_encoded_sentences(sentences, word_to_index):\n",
    "    return [get_encoded_sentence(sentence, word_to_index) for sentence in sentences]\n",
    "\n",
    "# 숫자 벡터로 encode된 문장을 원래대로 decode하는 함수입니다. \n",
    "def get_decoded_sentence(encoded_sentence, index_to_word):\n",
    "    return ' '.join(index_to_word[index] if index in index_to_word else '<UNK>' for index in encoded_sentence[1:])\n",
    "\n",
    "# 여러 개의 숫자 벡터로 encode된 문장을 한꺼번에 원래대로 decode하는 함수입니다. \n",
    "def get_decoded_sentences(encoded_sentences, index_to_word):\n",
    "    return [get_decoded_sentence(encoded_sentence, index_to_word) for encoded_sentence in encoded_sentences]"
   ]
  },
  {
   "cell_type": "markdown",
   "id": "b03a5962",
   "metadata": {},
   "source": [
    "### 3) 모델 구성을 위한 데이터 분석 및 가공\n",
    "- 데이터셋 내 문장 길이 분포\n",
    "- 적절한 최대 문장 길이 지정\n",
    "- keras.preprocessing.sequence.pad_sequences 을 활용한 패딩 추가"
   ]
  },
  {
   "cell_type": "code",
   "execution_count": 6,
   "id": "8114b35a",
   "metadata": {},
   "outputs": [
    {
     "name": "stdout",
     "output_type": "stream",
     "text": [
      "훈련 샘플 개수: 146182, 테스트 개수: 49157\n"
     ]
    }
   ],
   "source": [
    "print(f\"훈련 샘플 개수: {len(X_train)}, 테스트 개수: {len(X_test)}\")"
   ]
  },
  {
   "cell_type": "code",
   "execution_count": 7,
   "id": "59bd2258",
   "metadata": {},
   "outputs": [
    {
     "name": "stdout",
     "output_type": "stream",
     "text": [
      "[32, 74, 919, 4, 4, 39, 228, 20, 33, 748]\n",
      "더 빙 . . 진짜 짜증 나 네요 목소리\n",
      "라벨:  0\n",
      "1번째 리뷰 문장 길이:  10\n",
      "2번째 리뷰 문장 길이:  17\n"
     ]
    }
   ],
   "source": [
    "print(X_train[0])  # 1번째 리뷰데이터\n",
    "print(get_decoded_sentence(X_train[0], index_to_word)) # 1번째 리뷰데이터\n",
    "print('라벨: ', y_train[0])  # 1번째 리뷰데이터의 라벨\n",
    "print('1번째 리뷰 문장 길이: ', len(X_train[0]))\n",
    "print('2번째 리뷰 문장 길이: ', len(X_train[1]))"
   ]
  },
  {
   "cell_type": "markdown",
   "id": "88acd9d8",
   "metadata": {},
   "source": [
    "**데이터셋 내 문장 길이 분포 확인, 적절한 최대 문장 길이 설정**"
   ]
  },
  {
   "cell_type": "code",
   "execution_count": 8,
   "id": "692b72fd",
   "metadata": {},
   "outputs": [
    {
     "name": "stdout",
     "output_type": "stream",
     "text": [
      "문장길이 평균 :  15.96940191154864\n",
      "문장길이 최대 :  116\n",
      "문장길이 표준편차 :  12.843571191092\n",
      "pad_sequences maxlen :  41\n",
      "전체 문장의 0.9342988343341575%가 maxlen 설정값 이내에 포함됩니다. \n"
     ]
    }
   ],
   "source": [
    "total_data_text = list(X_train) + list(X_test)\n",
    "# 텍스트데이터 문장길이의 리스트를 생성한 후\n",
    "num_tokens = [len(tokens) for tokens in total_data_text]\n",
    "num_tokens = np.array(num_tokens)\n",
    "# 문장길이의 평균값, 최대값, 표준편차를 계산해 본다. \n",
    "print('문장길이 평균 : ', np.mean(num_tokens))\n",
    "print('문장길이 최대 : ', np.max(num_tokens))\n",
    "print('문장길이 표준편차 : ', np.std(num_tokens))\n",
    "\n",
    "# 예를들어, 최대 길이를 (평균 + 2*표준편차)로 한다면,  \n",
    "max_tokens = np.mean(num_tokens) + 2 * np.std(num_tokens)\n",
    "maxlen = int(max_tokens)\n",
    "print('pad_sequences maxlen : ', maxlen)\n",
    "print(f'전체 문장의 {np.sum(num_tokens < max_tokens) / len(num_tokens)}%가 maxlen 설정값 이내에 포함됩니다. ')"
   ]
  },
  {
   "cell_type": "markdown",
   "id": "13a1eaf1",
   "metadata": {},
   "source": [
    "maxlen : 41 로 설정"
   ]
  },
  {
   "cell_type": "markdown",
   "id": "9c68728d",
   "metadata": {},
   "source": [
    "**keras.preprocessing.sequence.pad_sequences 을 활용한 패딩 추가**\n",
    "\n",
    "RNN은 입력데이터가 순차적으로 처리되어, 가장 마지막 입력이 최종 state 값에 가장 영향을 많이 미치게 된다. 그러므로 마지막 입력이 무의미한 padding으로 채워지는 것은 비효율적.\n",
    "\n",
    "\"pre\" 사용"
   ]
  },
  {
   "cell_type": "code",
   "execution_count": 10,
   "id": "2a3a2002",
   "metadata": {},
   "outputs": [
    {
     "name": "stdout",
     "output_type": "stream",
     "text": [
      "(146182, 41)\n"
     ]
    }
   ],
   "source": [
    "import tensorflow as tf\n",
    "\n",
    "X_train = tf.keras.preprocessing.sequence.pad_sequences(X_train,\n",
    "                                                        value=word_to_index[\"<PAD>\"],\n",
    "                                                        padding='pre',\n",
    "                                                        maxlen=maxlen)\n",
    "\n",
    "X_test = tf.keras.preprocessing.sequence.pad_sequences(X_test,\n",
    "                                                       value=word_to_index[\"<PAD>\"],\n",
    "                                                       padding='pre',\n",
    "                                                       maxlen=maxlen)\n",
    "\n",
    "print(X_train.shape)"
   ]
  },
  {
   "cell_type": "markdown",
   "id": "ef516f21",
   "metadata": {},
   "source": [
    "### 4) 모델 구성 및 validation set 구성\n",
    "**3가지 모델 구성 (conv1d, lstm, GRU)**"
   ]
  },
  {
   "cell_type": "code",
   "execution_count": 11,
   "id": "68959e52",
   "metadata": {},
   "outputs": [],
   "source": [
    "from tensorflow.keras.initializers import Constant\n",
    "\n",
    "vocab_size = 146182    # 어휘 사전의 크기\n",
    "word_vector_dim = 400  # 워드 벡터의 차원 수 "
   ]
  },
  {
   "cell_type": "code",
   "execution_count": 12,
   "id": "658ea582",
   "metadata": {},
   "outputs": [
    {
     "name": "stdout",
     "output_type": "stream",
     "text": [
      "Model: \"sequential\"\n",
      "_________________________________________________________________\n",
      "Layer (type)                 Output Shape              Param #   \n",
      "=================================================================\n",
      "embedding (Embedding)        (None, 41, 400)           58472800  \n",
      "_________________________________________________________________\n",
      "conv1d (Conv1D)              (None, 35, 16)            44816     \n",
      "_________________________________________________________________\n",
      "max_pooling1d (MaxPooling1D) (None, 7, 16)             0         \n",
      "_________________________________________________________________\n",
      "conv1d_1 (Conv1D)            (None, 1, 16)             1808      \n",
      "_________________________________________________________________\n",
      "global_max_pooling1d (Global (None, 16)                0         \n",
      "_________________________________________________________________\n",
      "dense (Dense)                (None, 8)                 136       \n",
      "_________________________________________________________________\n",
      "dense_1 (Dense)              (None, 1)                 9         \n",
      "=================================================================\n",
      "Total params: 58,519,569\n",
      "Trainable params: 58,519,569\n",
      "Non-trainable params: 0\n",
      "_________________________________________________________________\n"
     ]
    }
   ],
   "source": [
    "# Conv1D 모델 구성\n",
    "conv1d = tf.keras.Sequential()\n",
    "conv1d.add(tf.keras.layers.Embedding(vocab_size, word_vector_dim, input_length=maxlen, mask_zero=True))\n",
    "conv1d.add(tf.keras.layers.Conv1D(16, 7, activation='relu'))\n",
    "conv1d.add(tf.keras.layers.MaxPooling1D(5))\n",
    "conv1d.add(tf.keras.layers.Conv1D(16, 7, activation='relu'))\n",
    "conv1d.add(tf.keras.layers.GlobalMaxPooling1D())\n",
    "conv1d.add(tf.keras.layers.Dense(8, activation='relu'))\n",
    "conv1d.add(tf.keras.layers.Dense(1, activation='sigmoid')) \n",
    "\n",
    "conv1d.summary()"
   ]
  },
  {
   "cell_type": "code",
   "execution_count": 13,
   "id": "ebdf943a",
   "metadata": {},
   "outputs": [
    {
     "name": "stdout",
     "output_type": "stream",
     "text": [
      "Model: \"sequential_1\"\n",
      "_________________________________________________________________\n",
      "Layer (type)                 Output Shape              Param #   \n",
      "=================================================================\n",
      "embedding_1 (Embedding)      (None, 41, 400)           58472800  \n",
      "_________________________________________________________________\n",
      "lstm (LSTM)                  (None, 16)                26688     \n",
      "_________________________________________________________________\n",
      "dense_2 (Dense)              (None, 16)                272       \n",
      "_________________________________________________________________\n",
      "dense_3 (Dense)              (None, 8)                 136       \n",
      "_________________________________________________________________\n",
      "dense_4 (Dense)              (None, 1)                 9         \n",
      "=================================================================\n",
      "Total params: 58,499,905\n",
      "Trainable params: 58,499,905\n",
      "Non-trainable params: 0\n",
      "_________________________________________________________________\n"
     ]
    }
   ],
   "source": [
    "# LSTM 모델 구성\n",
    "lstm = tf.keras.Sequential()\n",
    "lstm.add(tf.keras.layers.Embedding(vocab_size, word_vector_dim, input_length=maxlen, mask_zero=True))\n",
    "lstm.add(tf.keras.layers.LSTM(16))\n",
    "lstm.add(tf.keras.layers.Dense(16, activation='relu'))\n",
    "lstm.add(tf.keras.layers.Dense(8, activation='relu'))\n",
    "lstm.add(tf.keras.layers.Dense(1, activation='sigmoid'))\n",
    "\n",
    "lstm.summary()"
   ]
  },
  {
   "cell_type": "code",
   "execution_count": 14,
   "id": "db7c03f3",
   "metadata": {},
   "outputs": [
    {
     "name": "stdout",
     "output_type": "stream",
     "text": [
      "Model: \"sequential_2\"\n",
      "_________________________________________________________________\n",
      "Layer (type)                 Output Shape              Param #   \n",
      "=================================================================\n",
      "embedding_2 (Embedding)      (None, 41, 400)           58472800  \n",
      "_________________________________________________________________\n",
      "gru (GRU)                    (None, 16)                20064     \n",
      "_________________________________________________________________\n",
      "dense_5 (Dense)              (None, 16)                272       \n",
      "_________________________________________________________________\n",
      "dense_6 (Dense)              (None, 8)                 136       \n",
      "_________________________________________________________________\n",
      "dense_7 (Dense)              (None, 1)                 9         \n",
      "=================================================================\n",
      "Total params: 58,493,281\n",
      "Trainable params: 58,493,281\n",
      "Non-trainable params: 0\n",
      "_________________________________________________________________\n"
     ]
    }
   ],
   "source": [
    "# GRU 모델 구성\n",
    "GRU = tf.keras.Sequential()\n",
    "GRU.add(tf.keras.layers.Embedding(vocab_size, word_vector_dim, input_length=maxlen, mask_zero=True))\n",
    "GRU.add(tf.keras.layers.GRU(16))\n",
    "GRU.add(tf.keras.layers.Dense(16, activation='relu'))\n",
    "GRU.add(tf.keras.layers.Dense(8, activation='relu'))\n",
    "GRU.add(tf.keras.layers.Dense(1, activation='sigmoid'))\n",
    "\n",
    "GRU.summary()"
   ]
  },
  {
   "cell_type": "markdown",
   "id": "b3ba6b3a",
   "metadata": {},
   "source": [
    "**Val set 분리**"
   ]
  },
  {
   "cell_type": "code",
   "execution_count": 15,
   "id": "2840aaa2",
   "metadata": {},
   "outputs": [
    {
     "name": "stdout",
     "output_type": "stream",
     "text": [
      "(86182, 41)\n",
      "(86182,)\n"
     ]
    }
   ],
   "source": [
    "# validation set 60000건 분리\n",
    "X_val = X_train[:60000]   \n",
    "y_val = y_train[:60000]\n",
    "\n",
    "# validation set을 제외한 나머지 86182건\n",
    "partial_X_train = X_train[60000:]  \n",
    "partial_y_train = y_train[60000:]\n",
    "\n",
    "print(partial_X_train.shape)\n",
    "print(partial_y_train.shape)"
   ]
  },
  {
   "cell_type": "markdown",
   "id": "b3e8d1c7",
   "metadata": {},
   "source": [
    "### 5) 모델 훈련 개시"
   ]
  },
  {
   "cell_type": "code",
   "execution_count": 21,
   "id": "fed18bb3",
   "metadata": {},
   "outputs": [
    {
     "name": "stdout",
     "output_type": "stream",
     "text": [
      "Epoch 1/20\n",
      "169/169 [==============================] - 7s 39ms/step - loss: 0.0080 - accuracy: 0.9969 - val_loss: 1.4820 - val_accuracy: 0.8220\n",
      "Epoch 2/20\n",
      "169/169 [==============================] - 6s 38ms/step - loss: 0.0067 - accuracy: 0.9972 - val_loss: 1.5830 - val_accuracy: 0.8247\n",
      "Epoch 3/20\n",
      "169/169 [==============================] - 6s 38ms/step - loss: 0.0072 - accuracy: 0.9970 - val_loss: 1.5220 - val_accuracy: 0.8238\n",
      "Epoch 4/20\n",
      "169/169 [==============================] - 6s 38ms/step - loss: 0.0084 - accuracy: 0.9965 - val_loss: 1.4612 - val_accuracy: 0.8234\n",
      "Epoch 5/20\n",
      "169/169 [==============================] - 6s 38ms/step - loss: 0.0089 - accuracy: 0.9965 - val_loss: 1.4476 - val_accuracy: 0.8257\n",
      "Epoch 6/20\n",
      "169/169 [==============================] - 6s 38ms/step - loss: 0.0077 - accuracy: 0.9969 - val_loss: 1.5568 - val_accuracy: 0.8253\n",
      "Epoch 7/20\n",
      "169/169 [==============================] - 6s 38ms/step - loss: 0.0066 - accuracy: 0.9973 - val_loss: 1.5691 - val_accuracy: 0.8231\n",
      "Epoch 8/20\n",
      "169/169 [==============================] - 6s 38ms/step - loss: 0.0056 - accuracy: 0.9976 - val_loss: 1.5857 - val_accuracy: 0.8246\n",
      "Epoch 9/20\n",
      "169/169 [==============================] - 6s 38ms/step - loss: 0.0060 - accuracy: 0.9973 - val_loss: 1.7594 - val_accuracy: 0.8247\n",
      "Epoch 10/20\n",
      "169/169 [==============================] - 6s 38ms/step - loss: 0.0065 - accuracy: 0.9972 - val_loss: 1.7022 - val_accuracy: 0.8260\n",
      "Epoch 11/20\n",
      "169/169 [==============================] - 6s 38ms/step - loss: 0.0067 - accuracy: 0.9971 - val_loss: 1.7197 - val_accuracy: 0.8237\n",
      "Epoch 12/20\n",
      "169/169 [==============================] - 6s 38ms/step - loss: 0.0067 - accuracy: 0.9971 - val_loss: 1.6515 - val_accuracy: 0.8212\n",
      "Epoch 13/20\n",
      "169/169 [==============================] - 6s 38ms/step - loss: 0.0062 - accuracy: 0.9972 - val_loss: 1.7513 - val_accuracy: 0.8237\n",
      "Epoch 14/20\n",
      "169/169 [==============================] - 6s 38ms/step - loss: 0.0058 - accuracy: 0.9974 - val_loss: 1.7003 - val_accuracy: 0.8217\n",
      "Epoch 15/20\n",
      "169/169 [==============================] - 6s 38ms/step - loss: 0.0071 - accuracy: 0.9972 - val_loss: 1.6730 - val_accuracy: 0.8238\n",
      "Epoch 16/20\n",
      "169/169 [==============================] - 6s 38ms/step - loss: 0.0075 - accuracy: 0.9969 - val_loss: 1.6764 - val_accuracy: 0.8212\n",
      "Epoch 17/20\n",
      "169/169 [==============================] - 6s 38ms/step - loss: 0.0059 - accuracy: 0.9974 - val_loss: 1.7214 - val_accuracy: 0.8238\n",
      "Epoch 18/20\n",
      "169/169 [==============================] - 6s 38ms/step - loss: 0.0070 - accuracy: 0.9969 - val_loss: 1.7577 - val_accuracy: 0.8263\n",
      "Epoch 19/20\n",
      "169/169 [==============================] - 6s 38ms/step - loss: 0.0076 - accuracy: 0.9966 - val_loss: 1.6376 - val_accuracy: 0.8239\n",
      "Epoch 20/20\n",
      "169/169 [==============================] - 6s 38ms/step - loss: 0.0071 - accuracy: 0.9969 - val_loss: 1.7368 - val_accuracy: 0.8249\n"
     ]
    }
   ],
   "source": [
    "conv1d.compile(optimizer='adam',\n",
    "              loss='binary_crossentropy',\n",
    "              metrics=['accuracy'])\n",
    "              \n",
    "epochs = 20\n",
    "\n",
    "history_conv1d = conv1d.fit(partial_X_train,\n",
    "                    partial_y_train,\n",
    "                    epochs=epochs,\n",
    "                    batch_size=512,\n",
    "                    validation_data=(X_val, y_val),\n",
    "                    verbose=1)"
   ]
  },
  {
   "cell_type": "code",
   "execution_count": 23,
   "id": "b05a8273",
   "metadata": {},
   "outputs": [
    {
     "name": "stdout",
     "output_type": "stream",
     "text": [
      "1537/1537 - 3s - loss: 1.8122 - accuracy: 0.8223\n",
      "[1.8122119903564453, 0.8223447203636169]\n"
     ]
    }
   ],
   "source": [
    "results_conv1d = conv1d.evaluate(X_test,  y_test, verbose=2)\n",
    "\n",
    "print(results_conv1d)"
   ]
  },
  {
   "cell_type": "code",
   "execution_count": 19,
   "id": "4338e141",
   "metadata": {},
   "outputs": [
    {
     "name": "stdout",
     "output_type": "stream",
     "text": [
      "Epoch 1/40\n",
      "169/169 [==============================] - 27s 137ms/step - loss: 0.4323 - accuracy: 0.8062 - val_loss: 0.3526 - val_accuracy: 0.8465\n",
      "Epoch 2/40\n",
      "169/169 [==============================] - 22s 133ms/step - loss: 0.3145 - accuracy: 0.8683 - val_loss: 0.3434 - val_accuracy: 0.8518\n",
      "Epoch 3/40\n",
      "169/169 [==============================] - 22s 132ms/step - loss: 0.2734 - accuracy: 0.8874 - val_loss: 0.3537 - val_accuracy: 0.8497\n",
      "Epoch 4/40\n",
      "169/169 [==============================] - 22s 132ms/step - loss: 0.2355 - accuracy: 0.9036 - val_loss: 0.3571 - val_accuracy: 0.8533\n",
      "Epoch 5/40\n",
      "169/169 [==============================] - 22s 131ms/step - loss: 0.2001 - accuracy: 0.9211 - val_loss: 0.3941 - val_accuracy: 0.8485\n",
      "Epoch 6/40\n",
      "169/169 [==============================] - 22s 130ms/step - loss: 0.1720 - accuracy: 0.9334 - val_loss: 0.4193 - val_accuracy: 0.8467\n",
      "Epoch 7/40\n",
      "169/169 [==============================] - 22s 133ms/step - loss: 0.1482 - accuracy: 0.9440 - val_loss: 0.4629 - val_accuracy: 0.8464\n",
      "Epoch 8/40\n",
      "169/169 [==============================] - 22s 131ms/step - loss: 0.1275 - accuracy: 0.9525 - val_loss: 0.5069 - val_accuracy: 0.8416\n",
      "Epoch 9/40\n",
      "169/169 [==============================] - 22s 131ms/step - loss: 0.1127 - accuracy: 0.9595 - val_loss: 0.5558 - val_accuracy: 0.8404\n",
      "Epoch 10/40\n",
      "169/169 [==============================] - 22s 131ms/step - loss: 0.1004 - accuracy: 0.9644 - val_loss: 0.6124 - val_accuracy: 0.8357\n",
      "Epoch 11/40\n",
      "169/169 [==============================] - 22s 131ms/step - loss: 0.0883 - accuracy: 0.9691 - val_loss: 0.6652 - val_accuracy: 0.8340\n",
      "Epoch 12/40\n",
      "169/169 [==============================] - 22s 131ms/step - loss: 0.0778 - accuracy: 0.9730 - val_loss: 0.7279 - val_accuracy: 0.8347\n",
      "Epoch 13/40\n",
      "169/169 [==============================] - 22s 131ms/step - loss: 0.0711 - accuracy: 0.9756 - val_loss: 0.7724 - val_accuracy: 0.8339\n",
      "Epoch 14/40\n",
      "169/169 [==============================] - 22s 130ms/step - loss: 0.0641 - accuracy: 0.9773 - val_loss: 0.8251 - val_accuracy: 0.8313\n",
      "Epoch 15/40\n",
      "169/169 [==============================] - 22s 131ms/step - loss: 0.0566 - accuracy: 0.9801 - val_loss: 0.9023 - val_accuracy: 0.8335\n",
      "Epoch 16/40\n",
      "169/169 [==============================] - 22s 131ms/step - loss: 0.0539 - accuracy: 0.9812 - val_loss: 0.9356 - val_accuracy: 0.8337\n",
      "Epoch 17/40\n",
      "169/169 [==============================] - 22s 133ms/step - loss: 0.0509 - accuracy: 0.9820 - val_loss: 1.0125 - val_accuracy: 0.8309\n",
      "Epoch 18/40\n",
      "169/169 [==============================] - 22s 132ms/step - loss: 0.0461 - accuracy: 0.9844 - val_loss: 0.9876 - val_accuracy: 0.8291\n",
      "Epoch 19/40\n",
      "169/169 [==============================] - 22s 131ms/step - loss: 0.0413 - accuracy: 0.9860 - val_loss: 1.0541 - val_accuracy: 0.8301\n",
      "Epoch 20/40\n",
      "169/169 [==============================] - 22s 131ms/step - loss: 0.0369 - accuracy: 0.9875 - val_loss: 1.1704 - val_accuracy: 0.8291\n",
      "Epoch 21/40\n",
      "169/169 [==============================] - 22s 132ms/step - loss: 0.0340 - accuracy: 0.9880 - val_loss: 1.2150 - val_accuracy: 0.8280\n",
      "Epoch 22/40\n",
      "169/169 [==============================] - 22s 130ms/step - loss: 0.0323 - accuracy: 0.9888 - val_loss: 1.2368 - val_accuracy: 0.8264\n",
      "Epoch 23/40\n",
      "169/169 [==============================] - 22s 131ms/step - loss: 0.0343 - accuracy: 0.9879 - val_loss: 1.2971 - val_accuracy: 0.8306\n",
      "Epoch 24/40\n",
      "169/169 [==============================] - 22s 131ms/step - loss: 0.0339 - accuracy: 0.9882 - val_loss: 1.1863 - val_accuracy: 0.8307\n",
      "Epoch 25/40\n",
      "169/169 [==============================] - 22s 131ms/step - loss: 0.0292 - accuracy: 0.9899 - val_loss: 1.3244 - val_accuracy: 0.8303\n",
      "Epoch 26/40\n",
      "169/169 [==============================] - 22s 131ms/step - loss: 0.0264 - accuracy: 0.9907 - val_loss: 1.3132 - val_accuracy: 0.8301\n",
      "Epoch 27/40\n",
      "169/169 [==============================] - 22s 131ms/step - loss: 0.0262 - accuracy: 0.9907 - val_loss: 1.3832 - val_accuracy: 0.8302\n",
      "Epoch 28/40\n",
      "169/169 [==============================] - 22s 131ms/step - loss: 0.0240 - accuracy: 0.9911 - val_loss: 1.4457 - val_accuracy: 0.8257\n",
      "Epoch 29/40\n",
      "169/169 [==============================] - 22s 131ms/step - loss: 0.0253 - accuracy: 0.9909 - val_loss: 1.4392 - val_accuracy: 0.8270\n",
      "Epoch 30/40\n",
      "169/169 [==============================] - 22s 130ms/step - loss: 0.0232 - accuracy: 0.9914 - val_loss: 1.4712 - val_accuracy: 0.8278\n",
      "Epoch 31/40\n",
      "169/169 [==============================] - 22s 131ms/step - loss: 0.0191 - accuracy: 0.9933 - val_loss: 1.5745 - val_accuracy: 0.8281\n",
      "Epoch 32/40\n",
      "169/169 [==============================] - 22s 131ms/step - loss: 0.0177 - accuracy: 0.9937 - val_loss: 1.5766 - val_accuracy: 0.8259\n",
      "Epoch 33/40\n",
      "169/169 [==============================] - 22s 131ms/step - loss: 0.0182 - accuracy: 0.9934 - val_loss: 1.6401 - val_accuracy: 0.8283\n",
      "Epoch 34/40\n",
      "169/169 [==============================] - 22s 130ms/step - loss: 0.0198 - accuracy: 0.9930 - val_loss: 1.5635 - val_accuracy: 0.8266\n",
      "Epoch 35/40\n",
      "169/169 [==============================] - 22s 131ms/step - loss: 0.0198 - accuracy: 0.9928 - val_loss: 1.5463 - val_accuracy: 0.8271\n",
      "Epoch 36/40\n",
      "169/169 [==============================] - 22s 130ms/step - loss: 0.0219 - accuracy: 0.9916 - val_loss: 1.4918 - val_accuracy: 0.8224\n",
      "Epoch 37/40\n",
      "169/169 [==============================] - 22s 130ms/step - loss: 0.0169 - accuracy: 0.9936 - val_loss: 1.6866 - val_accuracy: 0.8238\n",
      "Epoch 38/40\n",
      "169/169 [==============================] - 22s 130ms/step - loss: 0.0140 - accuracy: 0.9944 - val_loss: 1.6855 - val_accuracy: 0.8259\n",
      "Epoch 39/40\n",
      "169/169 [==============================] - 22s 130ms/step - loss: 0.0192 - accuracy: 0.9932 - val_loss: 1.6088 - val_accuracy: 0.8259\n",
      "Epoch 40/40\n",
      "169/169 [==============================] - 22s 131ms/step - loss: 0.0171 - accuracy: 0.9933 - val_loss: 1.6570 - val_accuracy: 0.8217\n"
     ]
    }
   ],
   "source": [
    "lstm.compile(optimizer='adam',\n",
    "              loss='binary_crossentropy',\n",
    "              metrics=['accuracy'])\n",
    "              \n",
    "epochs = 20\n",
    "\n",
    "history_lstm = lstm.fit(partial_X_train,\n",
    "                    partial_y_train,\n",
    "                    epochs=epochs,\n",
    "                    batch_size=512,\n",
    "                    validation_data=(X_val, y_val),\n",
    "                    verbose=1)"
   ]
  },
  {
   "cell_type": "code",
   "execution_count": 24,
   "id": "0c932cad",
   "metadata": {},
   "outputs": [
    {
     "name": "stdout",
     "output_type": "stream",
     "text": [
      "1537/1537 - 12s - loss: 1.6460 - accuracy: 0.8210\n",
      "[1.6459797620773315, 0.8209817409515381]\n"
     ]
    }
   ],
   "source": [
    "results_lstm = lstm.evaluate(X_test,  y_test, verbose=2)\n",
    "\n",
    "print(results_lstm)"
   ]
  },
  {
   "cell_type": "code",
   "execution_count": 25,
   "id": "aee4818f",
   "metadata": {},
   "outputs": [
    {
     "name": "stdout",
     "output_type": "stream",
     "text": [
      "Epoch 1/20\n",
      "169/169 [==============================] - 27s 143ms/step - loss: 0.0611 - accuracy: 0.9793 - val_loss: 0.7790 - val_accuracy: 0.8322\n",
      "Epoch 2/20\n",
      "169/169 [==============================] - 23s 138ms/step - loss: 0.0489 - accuracy: 0.9837 - val_loss: 0.8910 - val_accuracy: 0.8290\n",
      "Epoch 3/20\n",
      "169/169 [==============================] - 23s 138ms/step - loss: 0.0438 - accuracy: 0.9850 - val_loss: 0.9066 - val_accuracy: 0.8291\n",
      "Epoch 4/20\n",
      "169/169 [==============================] - 23s 138ms/step - loss: 0.0422 - accuracy: 0.9854 - val_loss: 0.9581 - val_accuracy: 0.8273\n",
      "Epoch 5/20\n",
      "169/169 [==============================] - 23s 138ms/step - loss: 0.0395 - accuracy: 0.9863 - val_loss: 0.9900 - val_accuracy: 0.8236\n",
      "Epoch 6/20\n",
      "169/169 [==============================] - 23s 139ms/step - loss: 0.0360 - accuracy: 0.9875 - val_loss: 1.0483 - val_accuracy: 0.8263\n",
      "Epoch 7/20\n",
      "169/169 [==============================] - 23s 138ms/step - loss: 0.0344 - accuracy: 0.9877 - val_loss: 1.0972 - val_accuracy: 0.8270\n",
      "Epoch 8/20\n",
      "169/169 [==============================] - 24s 139ms/step - loss: 0.0322 - accuracy: 0.9886 - val_loss: 1.1287 - val_accuracy: 0.8248\n",
      "Epoch 9/20\n",
      "169/169 [==============================] - 23s 139ms/step - loss: 0.0282 - accuracy: 0.9897 - val_loss: 1.1792 - val_accuracy: 0.8261\n",
      "Epoch 10/20\n",
      "169/169 [==============================] - 23s 139ms/step - loss: 0.0266 - accuracy: 0.9905 - val_loss: 1.2670 - val_accuracy: 0.8244\n",
      "Epoch 11/20\n",
      "169/169 [==============================] - 23s 138ms/step - loss: 0.0268 - accuracy: 0.9905 - val_loss: 1.2981 - val_accuracy: 0.8268\n",
      "Epoch 12/20\n",
      "169/169 [==============================] - 23s 138ms/step - loss: 0.0266 - accuracy: 0.9904 - val_loss: 1.2485 - val_accuracy: 0.8244\n",
      "Epoch 13/20\n",
      "169/169 [==============================] - 23s 138ms/step - loss: 0.0240 - accuracy: 0.9914 - val_loss: 1.3172 - val_accuracy: 0.8275\n",
      "Epoch 14/20\n",
      "169/169 [==============================] - 23s 138ms/step - loss: 0.0218 - accuracy: 0.9922 - val_loss: 1.3389 - val_accuracy: 0.8231\n",
      "Epoch 15/20\n",
      "169/169 [==============================] - 23s 136ms/step - loss: 0.0212 - accuracy: 0.9924 - val_loss: 1.3740 - val_accuracy: 0.8248\n",
      "Epoch 16/20\n",
      "169/169 [==============================] - 23s 137ms/step - loss: 0.0241 - accuracy: 0.9911 - val_loss: 1.3381 - val_accuracy: 0.8250\n",
      "Epoch 17/20\n",
      "169/169 [==============================] - 23s 137ms/step - loss: 0.0229 - accuracy: 0.9915 - val_loss: 1.3533 - val_accuracy: 0.8258\n",
      "Epoch 18/20\n",
      "169/169 [==============================] - 23s 137ms/step - loss: 0.0227 - accuracy: 0.9916 - val_loss: 1.3226 - val_accuracy: 0.8226\n",
      "Epoch 19/20\n",
      "169/169 [==============================] - 23s 138ms/step - loss: 0.0201 - accuracy: 0.9925 - val_loss: 1.3843 - val_accuracy: 0.8231\n",
      "Epoch 20/20\n",
      "169/169 [==============================] - 23s 138ms/step - loss: 0.0183 - accuracy: 0.9934 - val_loss: 1.3918 - val_accuracy: 0.8250\n"
     ]
    }
   ],
   "source": [
    "GRU.compile(optimizer='adam',\n",
    "              loss='binary_crossentropy',\n",
    "              metrics=['accuracy'])\n",
    "              \n",
    "epochs = 20\n",
    "\n",
    "history_GRU = GRU.fit(partial_X_train,\n",
    "                    partial_y_train,\n",
    "                    epochs=epochs,\n",
    "                    batch_size=512,\n",
    "                    validation_data=(X_val, y_val),\n",
    "                    verbose=1)"
   ]
  },
  {
   "cell_type": "code",
   "execution_count": 27,
   "id": "1360d4b0",
   "metadata": {},
   "outputs": [
    {
     "name": "stdout",
     "output_type": "stream",
     "text": [
      "1537/1537 - 13s - loss: 1.3870 - accuracy: 0.8240\n",
      "[1.3869946002960205, 0.8240332007408142]\n"
     ]
    }
   ],
   "source": [
    "results_GRU = GRU.evaluate(X_test,  y_test, verbose=2)\n",
    "\n",
    "print(results_GRU)"
   ]
  },
  {
   "cell_type": "markdown",
   "id": "760ccf0f",
   "metadata": {},
   "source": [
    "### 6) Loss, Accuracy 그래프 시각화"
   ]
  },
  {
   "cell_type": "code",
   "execution_count": 28,
   "id": "6c43fcbb",
   "metadata": {},
   "outputs": [],
   "source": [
    "import matplotlib.pyplot as plt"
   ]
  },
  {
   "cell_type": "code",
   "execution_count": 30,
   "id": "d821d878",
   "metadata": {},
   "outputs": [
    {
     "name": "stdout",
     "output_type": "stream",
     "text": [
      "dict_keys(['loss', 'accuracy', 'val_loss', 'val_accuracy'])\n"
     ]
    }
   ],
   "source": [
    "history_dict_conv1d = history_conv1d.history\n",
    "print(history_dict_conv1d.keys())"
   ]
  },
  {
   "cell_type": "code",
   "execution_count": 31,
   "id": "2d7d44e7",
   "metadata": {},
   "outputs": [
    {
     "data": {
      "image/png": "[encoded data removed]",
      "text/plain": [
       "<Figure size 432x288 with 1 Axes>"
      ]
     },
     "metadata": {
      "needs_background": "light"
     },
     "output_type": "display_data"
    }
   ],
   "source": [
    "acc = history_dict_conv1d['accuracy']\n",
    "val_acc = history_dict_conv1d['val_accuracy']\n",
    "loss = history_dict_conv1d['loss']\n",
    "val_loss = history_dict_conv1d['val_loss']\n",
    "\n",
    "epochs = range(1, len(acc) + 1)\n",
    "\n",
    "# \"bo\"는 \"파란색 점\"입니다\n",
    "plt.plot(epochs, loss, 'bo', label='Training loss')\n",
    "# b는 \"파란 실선\"입니다\n",
    "plt.plot(epochs, val_loss, 'b', label='Validation loss')\n",
    "plt.title('Training and validation loss of Conv1D')\n",
    "plt.xlabel('Epochs')\n",
    "plt.ylabel('Loss')\n",
    "plt.legend()\n",
    "\n",
    "plt.show()"
   ]
  },
  {
   "cell_type": "code",
   "execution_count": 32,
   "id": "e29cf041",
   "metadata": {},
   "outputs": [
    {
     "data": {
      "image/png": "[encoded data removed]",
      "text/plain": [
       "<Figure size 432x288 with 1 Axes>"
      ]
     },
     "metadata": {
      "needs_background": "light"
     },
     "output_type": "display_data"
    }
   ],
   "source": [
    "plt.clf()   # 그림을 초기화합니다\n",
    "\n",
    "plt.plot(epochs, acc, 'bo', label='Training acc')\n",
    "plt.plot(epochs, val_acc, 'b', label='Validation acc')\n",
    "plt.title('Training and validation accuracy of Conv1D')\n",
    "plt.xlabel('Epochs')\n",
    "plt.ylabel('Accuracy')\n",
    "plt.legend()\n",
    "\n",
    "plt.show()"
   ]
  },
  {
   "cell_type": "code",
   "execution_count": 35,
   "id": "d937d535",
   "metadata": {},
   "outputs": [
    {
     "name": "stdout",
     "output_type": "stream",
     "text": [
      "dict_keys(['loss', 'accuracy', 'val_loss', 'val_accuracy'])\n"
     ]
    }
   ],
   "source": [
    "history_dict_lstm = history.history\n",
    "print(history_dict_lstm.keys())"
   ]
  },
  {
   "cell_type": "code",
   "execution_count": 36,
   "id": "567aaf86",
   "metadata": {},
   "outputs": [
    {
     "data": {
      "image/png": "[encoded data removed]",
      "text/plain": [
       "<Figure size 432x288 with 1 Axes>"
      ]
     },
     "metadata": {
      "needs_background": "light"
     },
     "output_type": "display_data"
    }
   ],
   "source": [
    "acc = history_dict_lstm['accuracy']\n",
    "val_acc = history_dict_lstm['val_accuracy']\n",
    "loss = history_dict_lstm['loss']\n",
    "val_loss = history_dict_lstm['val_loss']\n",
    "\n",
    "epochs = range(1, len(acc) + 1)\n",
    "\n",
    "plt.clf()\n",
    "# \"bo\"는 \"파란색 점\"입니다\n",
    "plt.plot(epochs, loss, 'bo', label='Training loss')\n",
    "# b는 \"파란 실선\"입니다\n",
    "plt.plot(epochs, val_loss, 'b', label='Validation loss')\n",
    "plt.title('Training and validation loss of LSTM')\n",
    "plt.xlabel('Epochs')\n",
    "plt.ylabel('Loss')\n",
    "plt.legend()\n",
    "\n",
    "plt.show()"
   ]
  },
  {
   "cell_type": "code",
   "execution_count": 37,
   "id": "a393a574",
   "metadata": {},
   "outputs": [
    {
     "data": {
      "image/png": "[encoded data removed]",
      "text/plain": [
       "<Figure size 432x288 with 1 Axes>"
      ]
     },
     "metadata": {
      "needs_background": "light"
     },
     "output_type": "display_data"
    }
   ],
   "source": [
    "plt.clf()   # 그림을 초기화합니다\n",
    "\n",
    "plt.plot(epochs, acc, 'bo', label='Training acc')\n",
    "plt.plot(epochs, val_acc, 'b', label='Validation acc')\n",
    "plt.title('Training and validation accuracy of LSTM')\n",
    "plt.xlabel('Epochs')\n",
    "plt.ylabel('Accuracy')\n",
    "plt.legend()\n",
    "\n",
    "plt.show()"
   ]
  },
  {
   "cell_type": "code",
   "execution_count": 39,
   "id": "9a37aaf3",
   "metadata": {},
   "outputs": [
    {
     "name": "stdout",
     "output_type": "stream",
     "text": [
      "dict_keys(['loss', 'accuracy', 'val_loss', 'val_accuracy'])\n"
     ]
    }
   ],
   "source": [
    "history_dict_GRU = history_GRU.history\n",
    "print(history_dict_GRU.keys())"
   ]
  },
  {
   "cell_type": "code",
   "execution_count": 40,
   "id": "785a7c8f",
   "metadata": {},
   "outputs": [
    {
     "data": {
      "image/png": "[encoded data removed]",
      "text/plain": [
       "<Figure size 432x288 with 1 Axes>"
      ]
     },
     "metadata": {
      "needs_background": "light"
     },
     "output_type": "display_data"
    }
   ],
   "source": [
    "acc = history_dict_GRU['accuracy']\n",
    "val_acc = history_dict_GRU['val_accuracy']\n",
    "loss = history_dict_GRU['loss']\n",
    "val_loss = history_dict_GRU['val_loss']\n",
    "\n",
    "epochs = range(1, len(acc) + 1)\n",
    "\n",
    "plt.clf()\n",
    "# \"bo\"는 \"파란색 점\"입니다\n",
    "plt.plot(epochs, loss, 'bo', label='Training loss')\n",
    "# b는 \"파란 실선\"입니다\n",
    "plt.plot(epochs, val_loss, 'b', label='Validation loss')\n",
    "plt.title('Training and validation loss of GRU')\n",
    "plt.xlabel('Epochs')\n",
    "plt.ylabel('Loss')\n",
    "plt.legend()\n",
    "\n",
    "plt.show()"
   ]
  },
  {
   "cell_type": "code",
   "execution_count": 41,
   "id": "a48e27f5",
   "metadata": {},
   "outputs": [
    {
     "data": {
      "image/png": "[encoded data removed]",
      "text/plain": [
       "<Figure size 432x288 with 1 Axes>"
      ]
     },
     "metadata": {
      "needs_background": "light"
     },
     "output_type": "display_data"
    }
   ],
   "source": [
    "plt.clf()   # 그림을 초기화합니다\n",
    "\n",
    "plt.plot(epochs, acc, 'bo', label='Training acc')\n",
    "plt.plot(epochs, val_acc, 'b', label='Validation acc')\n",
    "plt.title('Training and validation accuracy of GRU')\n",
    "plt.xlabel('Epochs')\n",
    "plt.ylabel('Accuracy')\n",
    "plt.legend()\n",
    "\n",
    "plt.show()"
   ]
  },
  {
   "cell_type": "markdown",
   "id": "5d7f0d0f",
   "metadata": {},
   "source": [
    "### 7) 학습된 Embedding 레이어 분석"
   ]
  },
  {
   "cell_type": "code",
   "execution_count": 42,
   "id": "6a4cf103",
   "metadata": {},
   "outputs": [],
   "source": [
    "import os"
   ]
  },
  {
   "cell_type": "code",
   "execution_count": 44,
   "id": "e80359ab",
   "metadata": {},
   "outputs": [
    {
     "name": "stdout",
     "output_type": "stream",
     "text": [
      "(146182, 400)\n"
     ]
    }
   ],
   "source": [
    "embedding_layer = conv1d.layers[0]\n",
    "weights = embedding_layer.get_weights()[0]\n",
    "print(weights.shape)    # shape: (vocab_size, embedding_dim)"
   ]
  },
  {
   "cell_type": "code",
   "execution_count": 52,
   "id": "aa9a693c",
   "metadata": {},
   "outputs": [],
   "source": [
    "# 학습한 Embedding 파라미터를 파일에 써서 저장합니다. \n",
    "vocab_size = 10000\n",
    "word_vector_dim = 400\n",
    "\n",
    "word2vec_file_path = os.getenv('HOME')+'/aiffel/sentiment_classification/data/word2vec_1.txt'\n",
    "\n",
    "f = open(word2vec_file_path, 'w')\n",
    "f.write('{} {}\\n'.format(vocab_size-4, word_vector_dim))  # 몇개의 벡터를 얼마 사이즈로 기재할지 타이틀을 씁니다.\n",
    "\n",
    "# 단어 개수(에서 특수문자 4개는 제외하고)만큼의 워드 벡터를 파일에 기록합니다. \n",
    "vectors = conv1d.get_weights()[0]\n",
    "for i in range(4,vocab_size):\n",
    "    f.write('{} {}\\n'.format(index_to_word[i], ' '.join(map(str, list(vectors[i, :])))))\n",
    "f.close()"
   ]
  },
  {
   "cell_type": "code",
   "execution_count": 54,
   "id": "dd1f6b35",
   "metadata": {},
   "outputs": [
    {
     "data": {
      "text/plain": [
       "array([ 2.10452098e-02,  2.17845496e-02,  9.14489999e-02, -1.83550529e-02,\n",
       "        1.39746249e-01,  7.42215067e-02, -3.34964059e-02, -8.67893174e-02,\n",
       "       -6.30136533e-03,  3.74231115e-02,  3.19521762e-02,  1.42269984e-01,\n",
       "       -3.49401422e-02, -1.10084765e-01,  3.51346992e-02, -3.15199122e-02,\n",
       "        1.75257415e-01, -1.36073917e-01, -2.21619266e-03,  4.97226343e-02,\n",
       "       -6.63404763e-02,  4.90787858e-03, -9.69258174e-02, -2.00634658e-01,\n",
       "       -1.88379526e-01, -2.25303713e-02,  1.51243821e-01, -7.78952762e-02,\n",
       "       -2.75105149e-01,  2.01559719e-02,  3.34334858e-02, -7.06377104e-02,\n",
       "        1.15636297e-01,  3.75721045e-02,  6.49203826e-03,  5.18325008e-02,\n",
       "       -5.87675497e-02,  1.07634448e-01, -4.98265028e-02,  8.50838842e-04,\n",
       "        3.22715081e-02,  3.81977037e-02,  1.73785478e-01, -6.03074208e-03,\n",
       "       -1.48351314e-02, -9.21036303e-02, -1.29139811e-01, -2.61207353e-02,\n",
       "        3.73511650e-02,  3.11167408e-02,  9.03944969e-02, -3.01984698e-03,\n",
       "       -7.59413466e-02, -4.16901149e-03,  1.46427095e-01, -6.88877627e-02,\n",
       "       -3.89998332e-02, -2.94207036e-02, -1.98765501e-01,  8.93697441e-02,\n",
       "        2.13305634e-02, -8.68717674e-03, -1.25573156e-02, -6.12055250e-02,\n",
       "        1.44509338e-02,  7.30481325e-03, -4.03468050e-02,  3.78068909e-02,\n",
       "       -9.54459086e-02,  1.29561588e-01, -6.11213259e-02,  1.01426855e-01,\n",
       "       -1.78343341e-01,  1.35851502e-02, -3.27745713e-02, -3.94824743e-02,\n",
       "       -3.57359231e-01, -2.43910998e-02,  1.92179397e-01,  6.92980438e-02,\n",
       "        2.61673220e-02,  1.00606456e-01,  2.67413966e-02, -1.56640727e-02,\n",
       "       -9.11082700e-02, -3.93004715e-02,  1.19613372e-02,  1.33837750e-02,\n",
       "        2.25447658e-02,  2.82249041e-02,  1.64227962e-01, -4.19784896e-02,\n",
       "        7.41327256e-02, -2.51896620e-01, -1.75914392e-02, -6.51084706e-02,\n",
       "       -5.51807843e-02,  1.41382128e-01, -2.29480773e-01, -1.41914934e-01,\n",
       "        1.98169470e-01,  9.91212949e-02, -3.86094267e-04,  3.10444206e-01,\n",
       "       -1.21555645e-02,  1.65401384e-01,  8.34631026e-02,  1.07337862e-01,\n",
       "        1.73001122e-02, -2.22686559e-01,  4.10523685e-03, -2.08580037e-04,\n",
       "       -2.81607937e-02,  1.32880852e-01, -1.17270097e-01, -1.05643310e-01,\n",
       "       -1.67928003e-02,  1.07465811e-01, -2.23588981e-02, -1.10110804e-03,\n",
       "       -6.47803172e-02, -1.06751435e-02,  2.51756515e-02, -2.00717434e-01,\n",
       "       -1.09600164e-01, -5.14332652e-02, -3.65088880e-02,  6.62861243e-02,\n",
       "        4.42048274e-02, -2.28676535e-02, -1.02588050e-02, -1.67243510e-01,\n",
       "       -8.14136043e-02, -1.47939369e-01,  2.31259726e-02,  2.71105617e-01,\n",
       "        6.52358159e-02, -5.00523150e-02,  1.30992532e-01,  4.58447821e-02,\n",
       "       -9.13130268e-02,  1.66151091e-01, -3.47764567e-02, -2.24755570e-01,\n",
       "       -1.67374179e-01,  8.90211463e-02,  1.45289883e-01,  3.56433839e-02,\n",
       "        2.13791385e-01,  5.60767390e-02,  7.24432692e-02, -3.95612270e-02,\n",
       "       -7.09112883e-02,  7.57104009e-02, -1.83217172e-02,  2.27702111e-02,\n",
       "       -1.79139197e-01,  8.28515738e-03, -5.69527298e-02, -2.48927642e-02,\n",
       "        1.28040342e-02,  7.27569908e-02,  1.27088027e-02,  8.52978081e-02,\n",
       "       -2.09568217e-01,  8.96446556e-02, -2.88665563e-01, -1.24978863e-01,\n",
       "       -8.97456333e-03, -1.31908074e-01,  1.59825981e-01,  1.44018224e-02,\n",
       "       -6.59212023e-02, -1.35939479e-01, -8.67831483e-02, -5.63726872e-02,\n",
       "        8.06334720e-04,  9.99850333e-02,  4.47448827e-02, -4.40121815e-02,\n",
       "        7.92058408e-02,  4.43916619e-02,  2.17653345e-02, -4.35194816e-04,\n",
       "        1.28267528e-02,  1.77779108e-01,  5.73464623e-03, -4.37403359e-02,\n",
       "       -1.74766816e-02, -1.10302925e-01,  1.48069486e-01,  5.12370914e-02,\n",
       "        1.14406757e-01,  5.18046059e-02,  8.94308165e-02, -1.25183716e-01,\n",
       "       -1.42679438e-01, -1.21196888e-01,  1.55508608e-01,  3.16132344e-02,\n",
       "        5.19448854e-02, -2.39726510e-02, -7.09210057e-03, -4.14030477e-02,\n",
       "       -1.58384353e-01,  1.04157470e-01, -9.06855091e-02, -3.53249796e-02,\n",
       "        9.82765034e-02, -8.60955641e-02, -1.55584022e-01, -1.40581667e-01,\n",
       "        6.37586340e-02,  1.65672943e-01, -1.68465868e-01, -2.16003903e-03,\n",
       "       -1.38013139e-01, -1.24566734e-01, -1.84122622e-02,  1.67458549e-01,\n",
       "       -9.76575762e-02,  2.72505619e-02,  2.18793936e-02,  5.99298365e-02,\n",
       "       -1.30358636e-01, -7.32928589e-02, -7.28204921e-02,  1.42518863e-01,\n",
       "       -5.07889083e-03, -8.62519369e-02, -1.50789469e-01, -6.01994283e-02,\n",
       "        1.28942132e-01, -1.36995792e-01, -3.41601409e-02,  3.96193452e-02,\n",
       "        1.31649345e-01,  3.56558487e-02,  7.18775243e-02, -8.62017870e-02,\n",
       "        6.83859736e-02, -5.71025722e-02,  1.89499885e-01, -1.80420429e-02,\n",
       "        3.03195059e-01, -5.83029054e-02,  8.05418715e-02,  7.01785535e-02,\n",
       "        1.60655618e-01,  7.65629560e-02, -3.74220833e-02, -9.37498808e-02,\n",
       "       -9.36214253e-02,  8.57396945e-02,  1.57329708e-01,  9.25897509e-02,\n",
       "       -1.32258490e-01,  9.66728926e-02,  7.32594803e-02, -8.99890214e-02,\n",
       "        7.10920021e-02, -4.78581972e-02,  1.55741766e-01,  3.47173810e-02,\n",
       "        1.37631416e-01,  1.92665800e-01,  6.63683936e-02,  1.05022058e-01,\n",
       "       -2.78231464e-02, -5.69042191e-02,  8.15394241e-03,  9.51620713e-02,\n",
       "        5.83883077e-02, -2.87615899e-02, -6.15489408e-02,  1.10872552e-01,\n",
       "       -2.04112217e-01,  7.90529102e-02, -3.21560539e-02,  6.31060498e-03,\n",
       "       -6.54842407e-02, -1.06349900e-01, -6.62961230e-02, -4.54900786e-02,\n",
       "        1.32122770e-01,  1.26710922e-01,  2.22892724e-02,  8.61622542e-02,\n",
       "        3.25485645e-03,  8.93758684e-02, -4.46770377e-02,  6.36104643e-02,\n",
       "       -5.14931008e-02,  6.63229600e-02,  1.43505454e-01,  1.28989354e-01,\n",
       "       -8.40165243e-02,  5.51434085e-02,  1.30547900e-02, -2.86013950e-02,\n",
       "       -2.57148370e-02, -4.99828793e-02,  2.41492838e-02, -1.86320364e-01,\n",
       "        3.43421280e-01, -1.01016089e-01, -1.39547527e-01,  7.83752836e-03,\n",
       "       -1.12117685e-01, -8.10937732e-02, -7.42188049e-03,  4.79766577e-02,\n",
       "       -3.42904218e-02, -1.39654607e-01, -1.12131320e-01,  1.35252297e-01,\n",
       "        4.82505374e-02,  6.16175272e-02,  7.60651678e-02,  1.38126552e-01,\n",
       "        4.79050204e-02,  5.63020669e-02, -7.71156475e-02, -3.97133604e-02,\n",
       "       -5.95345423e-02, -1.55710831e-01,  1.21714585e-02,  1.12323724e-01,\n",
       "        3.52141783e-02,  4.89924103e-02, -2.16510892e-02,  1.75513215e-02,\n",
       "        5.74003309e-02, -1.21994026e-01, -5.85586764e-03,  9.12504569e-02,\n",
       "       -9.01136920e-03, -1.41617626e-01, -1.36864677e-01,  2.72513688e-01,\n",
       "       -5.30543663e-02,  1.20027930e-01, -1.01300672e-01,  2.94845194e-01,\n",
       "       -3.09242234e-02,  2.01604404e-02, -6.11575844e-04,  1.63080528e-01,\n",
       "       -1.97211996e-01,  1.13702744e-01, -1.61233336e-01,  4.60058451e-02,\n",
       "       -8.09712261e-02,  2.55259555e-02, -2.95319483e-02, -1.68961003e-01,\n",
       "       -1.30123466e-01,  1.98297650e-01,  5.61257787e-02,  2.10467260e-02,\n",
       "       -1.09158501e-01, -5.06352596e-02,  4.76715453e-02,  4.39786278e-02,\n",
       "       -8.22820887e-02,  1.88472040e-03,  5.76707497e-02,  5.16884699e-02,\n",
       "       -1.02263130e-02,  1.10054016e-02, -2.66831517e-01, -1.04356475e-01,\n",
       "       -9.05591026e-02, -4.00100462e-02, -9.28450227e-02,  2.71523418e-03,\n",
       "       -1.37612261e-02,  2.24686470e-02, -6.24538995e-02,  4.13603969e-02,\n",
       "       -2.17375867e-02, -7.61059746e-02, -1.27830002e-02, -5.20342635e-03,\n",
       "        4.51471284e-02,  1.31060645e-01,  1.55304112e-02, -1.13411278e-01,\n",
       "       -5.74151091e-02, -1.14832699e-01,  4.50018123e-02, -7.21320286e-02,\n",
       "        1.16395712e-01, -6.33030459e-02,  3.29396985e-02,  1.60233025e-02,\n",
       "       -9.43791568e-02,  7.76085928e-02, -1.49062589e-01, -1.38386101e-01],\n",
       "      dtype=float32)"
      ]
     },
     "execution_count": 54,
     "metadata": {},
     "output_type": "execute_result"
    }
   ],
   "source": [
    "from gensim.models.keyedvectors import Word2VecKeyedVectors\n",
    "\n",
    "word_vectors = Word2VecKeyedVectors.load_word2vec_format(word2vec_file_path, binary=False)\n",
    "vector = word_vectors['movie']\n",
    "vector"
   ]
  },
  {
   "cell_type": "code",
   "execution_count": 55,
   "id": "6f1685d6",
   "metadata": {},
   "outputs": [
    {
     "data": {
      "text/plain": [
       "[('챔피언', 0.8849951028823853),\n",
       " ('이제서야', 0.8758705258369446),\n",
       " ('압도', 0.8698944449424744),\n",
       " ('따스', 0.8619720339775085),\n",
       " ('고마워요', 0.8602678179740906),\n",
       " ('탱고', 0.8591127991676331),\n",
       " ('브라질', 0.8578736782073975),\n",
       " ('구할', 0.8564664721488953),\n",
       " ('and', 0.8499206304550171),\n",
       " ('담백', 0.8425288796424866)]"
      ]
     },
     "execution_count": 55,
     "metadata": {},
     "output_type": "execute_result"
    }
   ],
   "source": [
    "# 가장 유사한 단어와 그 유사도 확인\n",
    "word_vectors.similar_by_word(\"love\")"
   ]
  },
  {
   "cell_type": "markdown",
   "id": "884e9c18",
   "metadata": {},
   "source": [
    "**전혀 상관없는 단어의 유사도만 높은 것을 확인할 수 있다.**"
   ]
  },
  {
   "cell_type": "markdown",
   "id": "5f335567",
   "metadata": {},
   "source": [
    "### 8) 한국어 Word2Vec 임베딩 활용하여 성능 개선\n",
    "- 한국어 Word2Vec은 /data 폴더 안에 있는 word2vec_ko.model을 활용하세요.\n",
    "- 한국어 Word2Vec을 활용할 때는 load_word2vec_format() 형태가 아닌 load() 형태로 모델을 불러와주세요. 또한 모델을 활용할 때에는 아래 예시와 같이 .wv를 붙여서 활용합니다. 좀더 자세한 활용법에 대해선 다음 링크들을 참조해주세요."
   ]
  },
  {
   "cell_type": "code",
   "execution_count": 57,
   "id": "fed12e01",
   "metadata": {},
   "outputs": [
    {
     "data": {
      "text/plain": [
       "array([ 1.038851  , -1.1634965 ,  2.2386286 ,  0.8971453 , -2.088168  ,\n",
       "       -4.1942534 , -0.02519768, -0.69813883, -0.2908033 , -1.4651134 ,\n",
       "       -2.6863668 ,  0.7999443 , -0.6957915 , -0.5018775 ,  3.5025773 ,\n",
       "        0.21326113, -0.6588098 , -1.1900496 ,  0.61399573,  2.1247969 ,\n",
       "        0.1549463 ,  3.0840218 ,  3.1680267 , -3.9143991 ,  3.6073153 ,\n",
       "        0.5315545 , -0.3511633 , -1.107248  ,  1.7767181 , -0.95981866,\n",
       "        2.6072454 , -0.00697957, -3.27628   ,  1.558644  ,  0.81922376,\n",
       "        1.9231955 ,  3.7026553 , -0.53824735, -0.4920138 ,  2.4657123 ,\n",
       "       -2.620749  , -0.08950733,  0.61453176,  1.8866426 ,  0.257866  ,\n",
       "       -2.7827141 ,  2.9129577 , -0.6313133 ,  2.0387425 , -4.222685  ,\n",
       "       -2.7560544 ,  1.7903243 , -1.3080189 , -2.5531402 , -0.43849912,\n",
       "       -3.1073573 , -0.29090825,  5.1817617 ,  1.9604833 , -5.1421604 ,\n",
       "       -0.71431434,  4.5624633 , -0.55525815, -3.3019137 ,  1.6761336 ,\n",
       "       -1.9606539 , -0.2726863 ,  0.2465995 ,  1.2685091 ,  1.6055685 ,\n",
       "        1.8344896 ,  1.2752469 ,  0.99503314, -2.3348706 , -0.9290329 ,\n",
       "       -1.5920266 ,  5.693834  ,  1.1132814 , -0.9603875 , -1.970055  ,\n",
       "       -1.0120267 , -2.7289615 , -2.7759619 ,  3.214084  ,  1.8573734 ,\n",
       "       -1.3495721 , -0.10321241,  3.434593  , -2.8573685 , -1.9004927 ,\n",
       "       -1.6801298 , -2.805677  ,  1.7723105 , -0.41865307, -2.310913  ,\n",
       "       -6.2761464 , -0.8376036 ,  2.4590037 ,  2.1697695 , -4.440443  ],\n",
       "      dtype=float32)"
      ]
     },
     "execution_count": 57,
     "metadata": {},
     "output_type": "execute_result"
    }
   ],
   "source": [
    "from gensim.models.keyedvectors import Word2VecKeyedVectors\n",
    "\n",
    "word2vec_file_path = os.getenv('HOME')+'/data/word2vec_ko.model'\n",
    "word_vectors = Word2VecKeyedVectors.load(word2vec_file_path)\n",
    "\n",
    "vector = word_vectors.wv['끝']\n",
    "vector"
   ]
  },
  {
   "cell_type": "code",
   "execution_count": 59,
   "id": "9383a3c1",
   "metadata": {},
   "outputs": [
    {
     "ename": "TypeError",
     "evalue": "argument of type 'Word2Vec' is not iterable",
     "output_type": "error",
     "traceback": [
      "\u001b[0;31m---------------------------------------------------------------------------\u001b[0m",
      "\u001b[0;31mTypeError\u001b[0m                                 Traceback (most recent call last)",
      "\u001b[0;32m/tmp/ipykernel_156/3747269340.py\u001b[0m in \u001b[0;36m<module>\u001b[0;34m\u001b[0m\n\u001b[1;32m      6\u001b[0m \u001b[0;31m# embedding_matrix에 Word2Vec 워드 벡터를 단어 하나씩마다 차례차례 카피한다.\u001b[0m\u001b[0;34m\u001b[0m\u001b[0;34m\u001b[0m\u001b[0m\n\u001b[1;32m      7\u001b[0m \u001b[0;32mfor\u001b[0m \u001b[0mi\u001b[0m \u001b[0;32min\u001b[0m \u001b[0mrange\u001b[0m\u001b[0;34m(\u001b[0m\u001b[0;36m4\u001b[0m\u001b[0;34m,\u001b[0m\u001b[0mvocab_size\u001b[0m\u001b[0;34m)\u001b[0m\u001b[0;34m:\u001b[0m\u001b[0;34m\u001b[0m\u001b[0;34m\u001b[0m\u001b[0m\n\u001b[0;32m----> 8\u001b[0;31m     \u001b[0;32mif\u001b[0m \u001b[0mindex_to_word\u001b[0m\u001b[0;34m[\u001b[0m\u001b[0mi\u001b[0m\u001b[0;34m]\u001b[0m \u001b[0;32min\u001b[0m \u001b[0mword_vectors\u001b[0m\u001b[0;34m:\u001b[0m\u001b[0;34m\u001b[0m\u001b[0;34m\u001b[0m\u001b[0m\n\u001b[0m\u001b[1;32m      9\u001b[0m         \u001b[0membedding_matrix\u001b[0m\u001b[0;34m[\u001b[0m\u001b[0mi\u001b[0m\u001b[0;34m]\u001b[0m \u001b[0;34m=\u001b[0m \u001b[0mword2vec\u001b[0m\u001b[0;34m[\u001b[0m\u001b[0mindex_to_word\u001b[0m\u001b[0;34m[\u001b[0m\u001b[0mi\u001b[0m\u001b[0;34m]\u001b[0m\u001b[0;34m]\u001b[0m\u001b[0;34m\u001b[0m\u001b[0;34m\u001b[0m\u001b[0m\n",
      "\u001b[0;31mTypeError\u001b[0m: argument of type 'Word2Vec' is not iterable"
     ]
    }
   ],
   "source": [
    "vocab_size = 10000    # 어휘 사전의 크기입니다(10,000개의 단어)\n",
    "word_vector_dim = 300  # 워드 벡터의 차원수\n",
    "\n",
    "embedding_matrix = np.random.rand(vocab_size, word_vector_dim)\n",
    "\n",
    "# embedding_matrix에 Word2Vec 워드 벡터를 단어 하나씩마다 차례차례 카피한다.\n",
    "for i in range(4,vocab_size):\n",
    "    if index_to_word[i] in word_vectors:\n",
    "        embedding_matrix[i] = word2vec[index_to_word[i]]"
   ]
  },
  {
   "cell_type": "code",
   "execution_count": null,
   "id": "83424106",
   "metadata": {},
   "outputs": [],
   "source": [
    "from tensorflow.keras.initializers import Constant\n",
    "\n",
    "vocab_size = 10000    # 어휘 사전의 크기입니다(10,000개의 단어)\n",
    "word_vector_dim = 300  # 워드 벡터의 차원 수 \n",
    "\n",
    "# 모델 구성\n",
    "model = tf.keras.Sequential()\n",
    "model.add(tf.keras.layers.Embedding(vocab_size, \n",
    "                                 word_vector_dim, \n",
    "                                 embeddings_initializer=Constant(embedding_matrix),  # 카피한 임베딩을 여기서 활용\n",
    "                                 input_length=maxlen, \n",
    "                                 trainable=True))   # trainable을 True로 주면 Fine-tuning\n",
    "model.add(tf.keras.layers.Conv1D(16, 7, activation='relu'))\n",
    "model.add(tf.keras.layers.MaxPooling1D(5))\n",
    "model.add(tf.keras.layers.Conv1D(16, 7, activation='relu'))\n",
    "model.add(tf.keras.layers.GlobalMaxPooling1D())\n",
    "model.add(tf.keras.layers.Dense(8, activation='relu'))\n",
    "model.add(tf.keras.layers.Dense(1, activation='sigmoid')) \n",
    "\n",
    "model.summary()"
   ]
  },
  {
   "cell_type": "code",
   "execution_count": null,
   "id": "ee2931d1",
   "metadata": {},
   "outputs": [],
   "source": [
    "# 학습의 진행\n",
    "model.compile(optimizer='adam',\n",
    "              loss='binary_crossentropy',\n",
    "              metrics=['accuracy'])\n",
    "              \n",
    "epochs = 20\n",
    "\n",
    "history = model.fit(partial_x_train,\n",
    "                    partial_y_train,\n",
    "                    epochs=epochs,\n",
    "                    batch_size=512,\n",
    "                    validation_data=(x_val, y_val),\n",
    "                    verbose=1)"
   ]
  },
  {
   "cell_type": "code",
   "execution_count": null,
   "id": "de83ec88",
   "metadata": {},
   "outputs": [],
   "source": [
    "# 테스트셋을 통한 모델 평가\n",
    "results = model.evaluate(x_test,  y_test, verbose=2)\n",
    "\n",
    "print(results)"
   ]
  },
  {
   "cell_type": "code",
   "execution_count": null,
   "id": "225cb99a",
   "metadata": {},
   "outputs": [],
   "source": []
  }
 ],
 "metadata": {
  "kernelspec": {
   "display_name": "Python 3 (ipykernel)",
   "language": "python",
   "name": "python3"
  },
  "language_info": {
   "codemirror_mode": {
    "name": "ipython",
    "version": 3
   },
   "file_extension": ".py",
   "mimetype": "text/x-python",
   "name": "python",
   "nbconvert_exporter": "python",
   "pygments_lexer": "ipython3",
   "version": "3.9.7"
  }
 },
 "nbformat": 4,
 "nbformat_minor": 5
}
